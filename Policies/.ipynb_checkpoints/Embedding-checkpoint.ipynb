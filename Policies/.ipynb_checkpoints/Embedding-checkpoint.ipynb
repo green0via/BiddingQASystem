{
 "cells": [
  {
   "cell_type": "code",
   "execution_count": 51,
   "id": "627a06fc-546a-4b00-949f-bed6891c1a6c",
   "metadata": {},
   "outputs": [],
   "source": [
    "from pymongo import MongoClient\n",
    "\n",
    "col_mongo_name = \"国家按章分\"\n",
    "# col_mongo_name = \"上海按章分\"\n",
    "# col_mongo_name = \"中心按章分\"\n",
    "mongo = MongoClient(\"mongodb://localhost:27017/\")\n",
    "db = mongo[\"xunfei\"]\n",
    "col_mongo = db[col_mongo_name]\n"
   ]
  },
  {
   "cell_type": "code",
   "execution_count": 52,
   "id": "bff411eb-f55d-4861-8082-192b6563aafe",
   "metadata": {},
   "outputs": [],
   "source": [
    "from pymilvus import connections, utility, FieldSchema, CollectionSchema, DataType, Collection\n",
    "connections.connect(\"default\", host=\"localhost\", port=\"19530\")\n",
    "col_name = \"CountryPolicy\"\n",
    "# col_name = \"ShanghaiPolicy\"\n",
    "# col_name = \"CentrePolicy\"\n",
    "fields = [\n",
    "    FieldSchema(name=\"para_id\", dtype=DataType.VARCHAR, is_primary=True, max_length=100),\n",
    "    FieldSchema(name=\"text\", dtype=DataType.VARCHAR, max_length=8192),\n",
    "    FieldSchema(name=\"dense_vector\", dtype=DataType.FLOAT_VECTOR, dim=1024),\n",
    "    FieldSchema(name=\"sparse_vector\", dtype=DataType.SPARSE_FLOAT_VECTOR)\n",
    "]\n",
    "\n",
    "schema = CollectionSchema(fields, description=\"Policy Paragraph Embeddings\")\n",
    "\n",
    "\n",
    "if utility.has_collection(col_name):\n",
    "    Collection(col_name).drop()\n",
    "col = Collection(col_name, schema, consistency_level=\"Strong\")\n",
    "\n",
    "dense_index = {\"index_type\": \"HNSW\", \"metric_type\": \"L2\"}\n",
    "col.create_index(\"dense_vector\", dense_index)\n",
    "sparse_index = {\"index_type\": \"SPARSE_INVERTED_INDEX\", \"metric_type\": \"IP\"}\n",
    "col.create_index(\"sparse_vector\", sparse_index)\n",
    "# col = Collection(col_name)\n",
    "col.load()"
   ]
  },
  {
   "cell_type": "code",
   "execution_count": 3,
   "id": "e1573f48-a1bb-40fe-8827-34b591c780b8",
   "metadata": {
    "scrolled": true
   },
   "outputs": [
    {
     "name": "stderr",
     "output_type": "stream",
     "text": [
      "D:\\Anaconda\\envs\\eval\\Lib\\site-packages\\requests\\__init__.py:86: RequestsDependencyWarning: Unable to find acceptable character detection dependency (chardet or charset_normalizer).\n",
      "  warnings.warn(\n",
      "D:\\Anaconda\\envs\\eval\\Lib\\site-packages\\tqdm\\auto.py:21: TqdmWarning: IProgress not found. Please update jupyter and ipywidgets. See https://ipywidgets.readthedocs.io/en/stable/user_install.html\n",
      "  from .autonotebook import tqdm as notebook_tqdm\n",
      "Fetching 30 files: 100%|██████████| 30/30 [00:00<?, ?it/s]\n"
     ]
    }
   ],
   "source": [
    "from FlagEmbedding import BGEM3FlagModel\n",
    "\n",
    "model = BGEM3FlagModel('BAAI/bge-m3',\n",
    "                      use_fp16=False,\n",
    "                      pooling_method='cls',\n",
    "                      devices=['cuda:0'])\n",
    "\n",
    "def get_embeddings(text):\n",
    "    embeddings = model.encode(\n",
    "        text,\n",
    "        return_dense=True,\n",
    "        return_sparse=True,\n",
    "        return_colbert_vecs=False\n",
    "    )\n",
    "    return embeddings"
   ]
  },
  {
   "cell_type": "code",
   "execution_count": 54,
   "id": "ebd39041-f99c-4d0c-ba55-c156d304e21c",
   "metadata": {
    "editable": true,
    "slideshow": {
     "slide_type": ""
    },
    "tags": []
   },
   "outputs": [
    {
     "name": "stderr",
     "output_type": "stream",
     "text": [
      "向量生成中...: 6277it [05:20, 19.60it/s]"
     ]
    },
    {
     "name": "stdout",
     "output_type": "stream",
     "text": [
      "生成已完成。\n"
     ]
    },
    {
     "name": "stderr",
     "output_type": "stream",
     "text": [
      "\n"
     ]
    }
   ],
   "source": [
    "from tqdm import tqdm\n",
    "\n",
    "batch_ids = []\n",
    "para_ids = []\n",
    "texts = []\n",
    "dense_vectors = []\n",
    "sparse_vectors = []\n",
    "BATCH_SIZE = 100\n",
    "\n",
    "for doc in tqdm(col_mongo.find({\"vectorized\": False}), desc='向量生成中...'):\n",
    "    para_id = doc['para_id']\n",
    "    text = doc['text']\n",
    "    try:\n",
    "        vector = get_embeddings(text)\n",
    "        # print(vector)\n",
    "        # break\n",
    "        dense_vector = vector[\"dense_vecs\"]\n",
    "        sparse_vector = vector[\"lexical_weights\"]\n",
    "        para_ids.append(para_id)\n",
    "        texts.append(text)\n",
    "        dense_vectors.append(dense_vector)\n",
    "        sparse_vectors.append(sparse_vector)\n",
    "        batch_ids.append(doc['_id'])\n",
    "        if len(para_ids) > BATCH_SIZE:\n",
    "            col.insert([para_ids, texts, dense_vectors, sparse_vectors])\n",
    "            col_mongo.update_many({\"_id\": {\"$in\": batch_ids}}, {\"$set\": {\"vectorized\": True}})\n",
    "            batch_ids = []\n",
    "            para_ids = []\n",
    "            texts = []\n",
    "            dense_vectors = []\n",
    "            sparse_vectors = []\n",
    "\n",
    "    except Exception as e:\n",
    "        print(f\"向量化失败：{para_id}, {type(e).__name__}: {e}\")\n",
    "\n",
    "if para_ids:\n",
    "    col.insert([para_ids, texts, dense_vectors, sparse_vectors])\n",
    "    col_mongo.update_many({\"_id\": {\"$in\": batch_ids}}, {\"$set\": {\"vectorized\": True}})\n",
    "print(\"生成已完成。\")"
   ]
  },
  {
   "cell_type": "code",
   "execution_count": 73,
   "id": "c0407135-5d07-49cc-ae02-1af0567b75aa",
   "metadata": {},
   "outputs": [],
   "source": [
    "from pymilvus import AnnSearchRequest, WeightedRanker\n",
    "\n",
    "def dense_search(col, query_dense_embedding, limit=5):\n",
    "    search_params = {\"metric_type\": \"L2\", \"params\": {\"level\":1}}\n",
    "    res = col.search(\n",
    "        [query_dense_embedding],\n",
    "        anns_field=\"dense_vector\",\n",
    "        limit=limit,\n",
    "        output_fields=[\"text\"],\n",
    "        param=search_params,\n",
    "    )[0]\n",
    "    return [hit.get(\"text\") for hit in res]\n",
    "\n",
    "\n",
    "def sparse_search(col, query_sparse_embedding, limit=5):\n",
    "    search_params = {\n",
    "        \"metric_type\": \"IP\",\n",
    "        \"params\": {},\n",
    "    }\n",
    "    res = col.search(\n",
    "        [query_sparse_embedding],\n",
    "        anns_field=\"sparse_vector\",\n",
    "        limit=limit,\n",
    "        output_fields=[\"text\"],\n",
    "        param=search_params,\n",
    "    )[0]\n",
    "    return [hit.get(\"text\") for hit in res]\n",
    "\n",
    "\n",
    "def hybrid_search(\n",
    "    col,\n",
    "    query_dense_embedding,\n",
    "    query_sparse_embedding,\n",
    "    sparse_weight=1.0,\n",
    "    dense_weight=1.0,\n",
    "    limit=20,\n",
    "):\n",
    "    dense_search_params = {\"metric_type\": \"L2\", \"params\": {\"level\":1}}\n",
    "    dense_req = AnnSearchRequest(\n",
    "        [query_dense_embedding], \"dense_vector\", dense_search_params, limit=limit\n",
    "    )\n",
    "    sparse_search_params = {\"metric_type\": \"IP\", \"params\": {}}\n",
    "    sparse_req = AnnSearchRequest(\n",
    "        [query_sparse_embedding], \"sparse_vector\", sparse_search_params, limit=limit\n",
    "    )\n",
    "    rerank = WeightedRanker(sparse_weight, dense_weight)\n",
    "    res = col.hybrid_search(\n",
    "        [sparse_req, dense_req], rerank=rerank, limit=limit, output_fields=[\"text\"]\n",
    "    )[0]\n",
    "    return [hit.get(\"text\") for hit in res]"
   ]
  },
  {
   "cell_type": "code",
   "execution_count": 56,
   "id": "4cc37ed3-cb5e-4e97-a322-b56db99eb6c1",
   "metadata": {},
   "outputs": [],
   "source": [
    "import jieba\n",
    "\n",
    "def doc_text_formatting(query, docs):\n",
    "    query_words = list(set(jieba.lcut(query)))  # 中文分词\n",
    "    formatted_texts = []\n",
    "\n",
    "    for doc in docs:\n",
    "        highlighted = doc\n",
    "        for word in query_words:\n",
    "            if not word.strip():\n",
    "                continue\n",
    "            highlighted = re.sub(\n",
    "                re.escape(word),\n",
    "                f\"<span style='color:red'>{word}</span>\",\n",
    "                highlighted\n",
    "            )\n",
    "        formatted_texts.append(highlighted)\n",
    "    return formatted_texts\n"
   ]
  },
  {
   "cell_type": "code",
   "execution_count": 76,
   "id": "e5dc93c7-7ced-49b8-bce3-5a0bac43d6b9",
   "metadata": {},
   "outputs": [
    {
     "name": "stdin",
     "output_type": "stream",
     "text": [
      "Enter your search query:  投标文件造假将面临怎样的处罚？\n"
     ]
    }
   ],
   "source": [
    "query = input(\"Enter your search query: \")\n",
    "query_embeddings = get_embeddings([query])"
   ]
  },
  {
   "cell_type": "code",
   "execution_count": 77,
   "id": "f2dbc1e1-88ec-45b8-a5d6-c0c1e43eedfa",
   "metadata": {},
   "outputs": [],
   "source": [
    "dense_results = dense_search(col, query_embeddings[\"dense_vecs\"][0])\n",
    "sparse_results = sparse_search(col, query_embeddings[\"lexical_weights\"][0])\n",
    "hybrid_results = hybrid_search(\n",
    "    col,\n",
    "    query_embeddings[\"dense_vecs\"][0],\n",
    "    query_embeddings[\"lexical_weights\"][0],\n",
    "    sparse_weight=0.7,\n",
    "    dense_weight=1.0,\n",
    ")"
   ]
  },
  {
   "cell_type": "code",
   "execution_count": 78,
   "id": "ce7e751c-e176-4f88-9f4d-7b03d5495823",
   "metadata": {},
   "outputs": [
    {
     "data": {
      "text/markdown": [
       "### 🔍 **Dense Search Results:**"
      ],
      "text/plain": [
       "<IPython.core.display.Markdown object>"
      ]
     },
     "metadata": {},
     "output_type": "display_data"
    },
    {
     "data": {
      "text/markdown": [
       "第三十三条 第三十三条<span style='color:red'>投标</span>人以他人名义<span style='color:red'>投标</span>或者以其他方式弄虚作假，骗取中标<span style='color:red'>的</span>，中标无效，给招标人造成损失<span style='color:red'>的</span>，依法承担赔偿责任；构成犯罪<span style='color:red'>的</span>，依法追究刑事责任。<span style='color:red'>投标</span>人有前款所列行为尚未构成犯罪<span style='color:red'>的</span>，由县级以上地方人民政府住房城乡建设主管部门处中标项目金额5‰以上10‰以下<span style='color:red'>的</span>罚款，对单位直接负责<span style='color:red'>的</span>主管人员和其他直接责任人员处单位罚款数额5%以上10%以下<span style='color:red'>的</span>罚款；有违法所得<span style='color:red'>的</span>，并处没收违法所得；情节严重<span style='color:red'>的</span>，取消其1年至3年内参加依法必须进行招标<span style='color:red'>的</span>建筑工程设计招标<span style='color:red'>的</span><span style='color:red'>投标</span>资格，并予以公告，直至由工商行政管理机关吊销营业执照。"
      ],
      "text/plain": [
       "<IPython.core.display.Markdown object>"
      ]
     },
     "metadata": {},
     "output_type": "display_data"
    },
    {
     "data": {
      "text/markdown": [
       "第七十五条 第七十五条<span style='color:red'>投标</span>人以他人名义<span style='color:red'>投标</span>或者以其他方式弄虚作假，骗取中标<span style='color:red'>的</span>，中标无效，给招标人造成损失<span style='color:red'>的</span>，依法承担赔偿责任；构成犯罪<span style='color:red'>的</span>，依法追究刑事责任。依法必须进行招标项目<span style='color:red'>的</span><span style='color:red'>投标</span>人有前款所列行为尚未构成犯罪<span style='color:red'>的</span>，有关行政监督部门处中标项目金额千分之五以上千分之十以下<span style='color:red'>的</span>罚款，对单位直接负责<span style='color:red'>的</span>主管人员和其他直接责任人员处单位罚款数额百分之五以上百分之十以下<span style='color:red'>的</span>罚款；有违法所得<span style='color:red'>的</span>，并处没收违法所得；情节严重<span style='color:red'>的</span>，取消其一至三年<span style='color:red'>投标</span>资格，并予以公告，直至由工商行政管理机关吊销营业执照。<span style='color:red'>投标</span>人未中标<span style='color:red'>的</span>，对单位<span style='color:red'>的</span>罚款金额按照招标项目合同金额依照招标<span style='color:red'>投标</span>法规定<span style='color:red'>的</span>比例计算。"
      ],
      "text/plain": [
       "<IPython.core.display.Markdown object>"
      ]
     },
     "metadata": {},
     "output_type": "display_data"
    },
    {
     "data": {
      "text/markdown": [
       "第五十四条 第五十四条<span style='color:red'>投标</span>人以他人名义<span style='color:red'>投标</span>或者以其他方式弄虚作假，骗取中标<span style='color:red'>的</span>，中标无效，给招标人造成损失<span style='color:red'>的</span>，依法承担赔偿责任；构成犯罪<span style='color:red'>的</span>，依法追究刑事责任。依法必须进行招标<span style='color:red'>的</span>项目<span style='color:red'>的</span><span style='color:red'>投标</span>人有前款所列行为尚未构成犯罪<span style='color:red'>的</span>，处中标项目金额千分之五以上千分之十以下<span style='color:red'>的</span>罚款，对单位直接负责<span style='color:red'>的</span>主管人员和其他直接责任人员处单位罚款数额百分之五以上百分之十以下<span style='color:red'>的</span>罚款；有违法所得<span style='color:red'>的</span>，并处没收违法所得；情节严重<span style='color:red'>的</span>，取消其一年至三年内参加依法必须进行招标<span style='color:red'>的</span>项目<span style='color:red'>的</span><span style='color:red'>投标</span>资格并予以公告，直至由工商行政管理机关吊销营业执照。"
      ],
      "text/plain": [
       "<IPython.core.display.Markdown object>"
      ]
     },
     "metadata": {},
     "output_type": "display_data"
    },
    {
     "data": {
      "text/markdown": [
       "第五十七条 第五十七条<span style='color:red'>投标</span>人或者其他利害关系人捏造事实、伪造材料或者以非法手段取得证明材料进行投诉，尚未构成犯罪<span style='color:red'>的</span>，由铁路工程建设项目招标<span style='color:red'>投标</span>行政监管部门责令改正，给予警告；情节严重<span style='color:red'>的</span>，可以并处3万元以下<span style='color:red'>的</span>罚款。"
      ],
      "text/plain": [
       "<IPython.core.display.Markdown object>"
      ]
     },
     "metadata": {},
     "output_type": "display_data"
    },
    {
     "data": {
      "text/markdown": [
       "第六十九条 第六十九条<span style='color:red'>投标</span>人在<span style='color:red'>投标</span>过程中存在弄虚作假、与招标人或者其他<span style='color:red'>投标</span>人串通<span style='color:red'>投标</span>、以行贿谋取中标、无正当理由放弃中标以及进行恶意投诉等<span style='color:red'>投标</span>不良行为<span style='color:red'>的</span>，除依照有关法律、法规进行<span style='color:red'>处罚</span>外，省级交通运输主管部门还可以扣减其年度信用评价分数或者降低年度信用评价等级。"
      ],
      "text/plain": [
       "<IPython.core.display.Markdown object>"
      ]
     },
     "metadata": {},
     "output_type": "display_data"
    },
    {
     "data": {
      "text/markdown": [
       "### 🌿 **Sparse Search Results:**"
      ],
      "text/plain": [
       "<IPython.core.display.Markdown object>"
      ]
     },
     "metadata": {},
     "output_type": "display_data"
    },
    {
     "data": {
      "text/markdown": [
       "第五十四条 第五十四条规定<span style='color:red'>的</span>情节严重行为，由有关行政监督部门取消其1年至3年内参加依法必须进行招标<span style='color:red'>的</span>项目<span style='color:red'>的</span><span style='color:red'>投标</span>资格：(一)伪造、变造资格、资质证书或者其他许可证件骗取中标；(二)3年内2次以上使用他人名义<span style='color:red'>投标</span>；(三)弄虚作假骗取中标给招标人造成直接经济损失30万元以上；(四)其他弄虚作假骗取中标情节严重<span style='color:red'>的</span>行为。<span style='color:red'>投标</span>人自本条第二款规定<span style='color:red'>的</span><span style='color:red'>处罚</span>执行期限届满之日起3年内又有该款所列违法行为之一<span style='color:red'>的</span>，或者弄虚作假骗取中标情节特别严重<span style='color:red'>的</span>，由工商行政管理机关吊销营业执照。"
      ],
      "text/plain": [
       "<IPython.core.display.Markdown object>"
      ]
     },
     "metadata": {},
     "output_type": "display_data"
    },
    {
     "data": {
      "text/markdown": [
       "第六十九条 第六十九条<span style='color:red'>投标</span>人在<span style='color:red'>投标</span>过程中存在弄虚作假、与招标人或者其他<span style='color:red'>投标</span>人串通<span style='color:red'>投标</span>、以行贿谋取中标、无正当理由放弃中标以及进行恶意投诉等<span style='color:red'>投标</span>不良行为<span style='color:red'>的</span>，除依照有关法律、法规进行<span style='color:red'>处罚</span>外，省级交通运输主管部门还可以扣减其年度信用评价分数或者降低年度信用评价等级。"
      ],
      "text/plain": [
       "<IPython.core.display.Markdown object>"
      ]
     },
     "metadata": {},
     "output_type": "display_data"
    },
    {
     "data": {
      "text/markdown": [
       "第五十一条 第五十一条规定<span style='color:red'>处罚</span>。（一）利用技术手段对享有相同权限<span style='color:red'>的</span>市场主体提供有差别<span style='color:red'>的</span>信息；（二）拒绝或者限制社会公众、市场主体免费注册并获取依法必须公开<span style='color:red'>的</span>招标<span style='color:red'>投标</span>信息；（三）违规设置注册登记、<span style='color:red'>投标</span>报名等前置条件；（四）故意与各类需要分离开发并符合技术规范规定<span style='color:red'>的</span>工具软件不兼容对接；（五）故意对递交或者解密<span style='color:red'>投标</span><span style='color:red'>文件</span>设置障碍。"
      ],
      "text/plain": [
       "<IPython.core.display.Markdown object>"
      ]
     },
     "metadata": {},
     "output_type": "display_data"
    },
    {
     "data": {
      "text/markdown": [
       "四、（子段1-2） 要求提供有效身份证明<span style='color:red'>文件</span>、缴纳竞买（<span style='color:red'>投标</span>）保证金外，还应提交竞买（<span style='color:red'>投标</span>）保证金不属于银行贷款、股东借款、转贷和募集资金<span style='color:red'>的</span>承诺书及商业金融机构<span style='color:red'>的</span>资信证明。根据国发10号<span style='color:red'>文件</span>规定，对发现并核实竞买人存在下列违法违规违约行为<span style='color:red'>的</span>，在结案和问题查处整改到位前，国土资源主管部门必须禁止竞买人及其控股股东参加土地竞买活动：1.存在伪造公文骗取用地和非法倒卖土地等犯罪行为<span style='color:red'>的</span>；2.存在非法转让土地使用权等违法行为<span style='color:red'>的</span>；3.因企业原因造成土地闲置一年以上<span style='color:red'>的</span>；4.开发建设企业违背出让合同约定条件开发利用土地<span style='color:red'>的</span>。各级国土资源主管部门必须严格执行国发10号<span style='color:red'>文件</span>有关规定和上述规定，要及时<span style='color:red'>将</span>发现并核实有违法违规违约企业<span style='color:red'>的</span>名单、问题和查处结果入网上传到国土资源部门户网站<span style='color:red'>的</span>中国土地市场网页，不执行或弄虚作假<span style='color:red'>的</span>，按有关法规纪律规定严肃追究有关人员责任。（四）严格划拨决定书和出让合同管理。各类住房建设项目应当在划拨决定书和出让合同中约定土地交付之日起一年内开工建设，自开工之日起三年内竣工。综合用地<span style='color:red'>的</span>，必须在合同中分别载明商业、住房等规划、建设及各相关条件。市、县国土资源主管部门要会同住房城乡建设（房地产、规划、住房保障）主管部门，研究制定违反土地划拨决定书和出让合同应约定<span style='color:red'>的</span>条件、规定和要求<span style='color:red'>的</span>违约责任及<span style='color:red'>处罚</span>条款，连同土地受让人对上述内容<span style='color:red'>的</span>承诺一并写入土地划拨决定书和出让合同，确保以保障性为重点<span style='color:red'>的</span>各类住房用地、建设和销售等按照国家政策落实到位。"
      ],
      "text/plain": [
       "<IPython.core.display.Markdown object>"
      ]
     },
     "metadata": {},
     "output_type": "display_data"
    },
    {
     "data": {
      "text/markdown": [
       "第五十八条 第五十八条招标<span style='color:red'>投标</span>活动当事人和电子招标<span style='color:red'>投标</span>系统运营机构伪造、篡改、损毁招标<span style='color:red'>投标</span>信息，或者以其他方式弄虚作假<span style='color:red'>的</span>，依照招标<span style='color:red'>投标</span>法"
      ],
      "text/plain": [
       "<IPython.core.display.Markdown object>"
      ]
     },
     "metadata": {},
     "output_type": "display_data"
    },
    {
     "data": {
      "text/markdown": [
       "### 🔄 **Hybrid Search Results:**"
      ],
      "text/plain": [
       "<IPython.core.display.Markdown object>"
      ]
     },
     "metadata": {},
     "output_type": "display_data"
    },
    {
     "data": {
      "text/markdown": [
       "第三十三条 第三十三条<span style='color:red'>投标</span>人以他人名义<span style='color:red'>投标</span>或者以其他方式弄虚作假，骗取中标<span style='color:red'>的</span>，中标无效，给招标人造成损失<span style='color:red'>的</span>，依法承担赔偿责任；构成犯罪<span style='color:red'>的</span>，依法追究刑事责任。<span style='color:red'>投标</span>人有前款所列行为尚未构成犯罪<span style='color:red'>的</span>，由县级以上地方人民政府住房城乡建设主管部门处中标项目金额5‰以上10‰以下<span style='color:red'>的</span>罚款，对单位直接负责<span style='color:red'>的</span>主管人员和其他直接责任人员处单位罚款数额5%以上10%以下<span style='color:red'>的</span>罚款；有违法所得<span style='color:red'>的</span>，并处没收违法所得；情节严重<span style='color:red'>的</span>，取消其1年至3年内参加依法必须进行招标<span style='color:red'>的</span>建筑工程设计招标<span style='color:red'>的</span><span style='color:red'>投标</span>资格，并予以公告，直至由工商行政管理机关吊销营业执照。"
      ],
      "text/plain": [
       "<IPython.core.display.Markdown object>"
      ]
     },
     "metadata": {},
     "output_type": "display_data"
    },
    {
     "data": {
      "text/markdown": [
       "第六十九条 第六十九条<span style='color:red'>投标</span>人在<span style='color:red'>投标</span>过程中存在弄虚作假、与招标人或者其他<span style='color:red'>投标</span>人串通<span style='color:red'>投标</span>、以行贿谋取中标、无正当理由放弃中标以及进行恶意投诉等<span style='color:red'>投标</span>不良行为<span style='color:red'>的</span>，除依照有关法律、法规进行<span style='color:red'>处罚</span>外，省级交通运输主管部门还可以扣减其年度信用评价分数或者降低年度信用评价等级。"
      ],
      "text/plain": [
       "<IPython.core.display.Markdown object>"
      ]
     },
     "metadata": {},
     "output_type": "display_data"
    },
    {
     "data": {
      "text/markdown": [
       "第五十四条 第五十四条规定<span style='color:red'>的</span>情节严重行为，由有关行政监督部门取消其1年至3年内参加依法必须进行招标<span style='color:red'>的</span>项目<span style='color:red'>的</span><span style='color:red'>投标</span>资格：(一)伪造、变造资格、资质证书或者其他许可证件骗取中标；(二)3年内2次以上使用他人名义<span style='color:red'>投标</span>；(三)弄虚作假骗取中标给招标人造成直接经济损失30万元以上；(四)其他弄虚作假骗取中标情节严重<span style='color:red'>的</span>行为。<span style='color:red'>投标</span>人自本条第二款规定<span style='color:red'>的</span><span style='color:red'>处罚</span>执行期限届满之日起3年内又有该款所列违法行为之一<span style='color:red'>的</span>，或者弄虚作假骗取中标情节特别严重<span style='color:red'>的</span>，由工商行政管理机关吊销营业执照。"
      ],
      "text/plain": [
       "<IPython.core.display.Markdown object>"
      ]
     },
     "metadata": {},
     "output_type": "display_data"
    },
    {
     "data": {
      "text/markdown": [
       "第六十八条 第六十八条　<span style='color:red'>投标</span>人以他人名义<span style='color:red'>投标</span>或者以其他方式弄虚作假骗取中标<span style='color:red'>的</span>，中标无效；构成犯罪<span style='color:red'>的</span>，依法追究刑事责任；尚不构成犯罪<span style='color:red'>的</span>，依照招标<span style='color:red'>投标</span>法"
      ],
      "text/plain": [
       "<IPython.core.display.Markdown object>"
      ]
     },
     "metadata": {},
     "output_type": "display_data"
    },
    {
     "data": {
      "text/markdown": [
       "第五十一条 第五十一条规定<span style='color:red'>处罚</span>。（一）利用技术手段对享有相同权限<span style='color:red'>的</span>市场主体提供有差别<span style='color:red'>的</span>信息；（二）拒绝或者限制社会公众、市场主体免费注册并获取依法必须公开<span style='color:red'>的</span>招标<span style='color:red'>投标</span>信息；（三）违规设置注册登记、<span style='color:red'>投标</span>报名等前置条件；（四）故意与各类需要分离开发并符合技术规范规定<span style='color:red'>的</span>工具软件不兼容对接；（五）故意对递交或者解密<span style='color:red'>投标</span><span style='color:red'>文件</span>设置障碍。"
      ],
      "text/plain": [
       "<IPython.core.display.Markdown object>"
      ]
     },
     "metadata": {},
     "output_type": "display_data"
    },
    {
     "data": {
      "text/markdown": [
       "第七十五条 第七十五条<span style='color:red'>投标</span>人以他人名义<span style='color:red'>投标</span>或者以其他方式弄虚作假，骗取中标<span style='color:red'>的</span>，中标无效，给招标人造成损失<span style='color:red'>的</span>，依法承担赔偿责任；构成犯罪<span style='color:red'>的</span>，依法追究刑事责任。依法必须进行招标项目<span style='color:red'>的</span><span style='color:red'>投标</span>人有前款所列行为尚未构成犯罪<span style='color:red'>的</span>，有关行政监督部门处中标项目金额千分之五以上千分之十以下<span style='color:red'>的</span>罚款，对单位直接负责<span style='color:red'>的</span>主管人员和其他直接责任人员处单位罚款数额百分之五以上百分之十以下<span style='color:red'>的</span>罚款；有违法所得<span style='color:red'>的</span>，并处没收违法所得；情节严重<span style='color:red'>的</span>，取消其一至三年<span style='color:red'>投标</span>资格，并予以公告，直至由工商行政管理机关吊销营业执照。<span style='color:red'>投标</span>人未中标<span style='color:red'>的</span>，对单位<span style='color:red'>的</span>罚款金额按照招标项目合同金额依照招标<span style='color:red'>投标</span>法规定<span style='color:red'>的</span>比例计算。"
      ],
      "text/plain": [
       "<IPython.core.display.Markdown object>"
      ]
     },
     "metadata": {},
     "output_type": "display_data"
    },
    {
     "data": {
      "text/markdown": [
       "第五十四条 第五十四条<span style='color:red'>投标</span>人以他人名义<span style='color:red'>投标</span>或者以其他方式弄虚作假，骗取中标<span style='color:red'>的</span>，中标无效，给招标人造成损失<span style='color:red'>的</span>，依法承担赔偿责任；构成犯罪<span style='color:red'>的</span>，依法追究刑事责任。依法必须进行招标<span style='color:red'>的</span>项目<span style='color:red'>的</span><span style='color:red'>投标</span>人有前款所列行为尚未构成犯罪<span style='color:red'>的</span>，处中标项目金额千分之五以上千分之十以下<span style='color:red'>的</span>罚款，对单位直接负责<span style='color:red'>的</span>主管人员和其他直接责任人员处单位罚款数额百分之五以上百分之十以下<span style='color:red'>的</span>罚款；有违法所得<span style='color:red'>的</span>，并处没收违法所得；情节严重<span style='color:red'>的</span>，取消其一年至三年内参加依法必须进行招标<span style='color:red'>的</span>项目<span style='color:red'>的</span><span style='color:red'>投标</span>资格并予以公告，直至由工商行政管理机关吊销营业执照。"
      ],
      "text/plain": [
       "<IPython.core.display.Markdown object>"
      ]
     },
     "metadata": {},
     "output_type": "display_data"
    },
    {
     "data": {
      "text/markdown": [
       "第五十七条 第五十七条<span style='color:red'>投标</span>人或者其他利害关系人捏造事实、伪造材料或者以非法手段取得证明材料进行投诉，尚未构成犯罪<span style='color:red'>的</span>，由铁路工程建设项目招标<span style='color:red'>投标</span>行政监管部门责令改正，给予警告；情节严重<span style='color:red'>的</span>，可以并处3万元以下<span style='color:red'>的</span>罚款。"
      ],
      "text/plain": [
       "<IPython.core.display.Markdown object>"
      ]
     },
     "metadata": {},
     "output_type": "display_data"
    },
    {
     "data": {
      "text/markdown": [
       "第七十七条 第七十七条　<span style='color:red'>投标</span>人或者其他利害关系人捏造事实、伪造材料或者以非法手段取得证明材料进行投诉，给他人造成损失<span style='color:red'>的</span>，依法承担赔偿责任。招标人不按照规定对异议作出答复，继续进行招标<span style='color:red'>投标</span>活动<span style='color:red'>的</span>，由有关行政监督部门责令改正，拒不改正或者不能改正并影响中标结果<span style='color:red'>的</span>，依照本条例"
      ],
      "text/plain": [
       "<IPython.core.display.Markdown object>"
      ]
     },
     "metadata": {},
     "output_type": "display_data"
    },
    {
     "data": {
      "text/markdown": [
       "第五十三条 第五十三条<span style='color:red'>投标</span>人相互串通<span style='color:red'>投标</span>或者与招标人串通<span style='color:red'>投标</span><span style='color:red'>的</span>，<span style='color:red'>投标</span>人以向招标人或者评标委员会成员行贿<span style='color:red'>的</span>手段谋取中标<span style='color:red'>的</span>，中标无效，处中标项目金额千分之五以上千分之十以下<span style='color:red'>的</span>罚款，对单位直接负责<span style='color:red'>的</span>主管人员和其他直接责任人员处单位罚款数额百分之五以上百分之十以下<span style='color:red'>的</span>罚款；有违法所得<span style='color:red'>的</span>，并处没收违法所得；情节严重<span style='color:red'>的</span>，取消其一年至二年内参加依法必须进行招标<span style='color:red'>的</span>项目<span style='color:red'>的</span><span style='color:red'>投标</span>资格并予以公告，直至由工商行政管理机关吊销营业执照；构成犯罪<span style='color:red'>的</span>，依法追究刑事责任。给他人造成损失<span style='color:red'>的</span>，依法承担赔偿责任。"
      ],
      "text/plain": [
       "<IPython.core.display.Markdown object>"
      ]
     },
     "metadata": {},
     "output_type": "display_data"
    },
    {
     "data": {
      "text/markdown": [
       "第二十二条 第二十二条造价工程师在最高<span style='color:red'>投标</span>限价、招标标底或者<span style='color:red'>投标</span>报价编制、工程结算审核和工程造价鉴定中，签署有虚假记载、误导性陈述<span style='color:red'>的</span>工程造价成果<span style='color:red'>文件</span><span style='color:red'>的</span>，记入造价工程师信用档案，依照《注册造价工程师管理办法》进行查处；构成犯罪<span style='color:red'>的</span>，依法追究刑事责任。"
      ],
      "text/plain": [
       "<IPython.core.display.Markdown object>"
      ]
     },
     "metadata": {},
     "output_type": "display_data"
    },
    {
     "data": {
      "text/markdown": [
       "第五十三条 第五十三条规定<span style='color:red'>的</span>情节严重行为，由有关行政监督部门取消其1年至2年内参加依法必须进行招标<span style='color:red'>的</span>项目<span style='color:red'>的</span><span style='color:red'>投标</span>资格：(一)以行贿谋取中标；(二)3年内2次以上串通<span style='color:red'>投标</span>；(三)串通<span style='color:red'>投标</span>行为损害招标人、其他<span style='color:red'>投标</span>人或者国家、集体、公民<span style='color:red'>的</span>合法利益，造成直接经济损失30万元以上；(四)其他串通<span style='color:red'>投标</span>情节严重<span style='color:red'>的</span>行为。<span style='color:red'>投标</span>人自本条第二款规定<span style='color:red'>的</span><span style='color:red'>处罚</span>执行期限届满之日起3年内又有该款所列违法行为之一<span style='color:red'>的</span>，或者串通<span style='color:red'>投标</span>、以行贿谋取中标情节特别严重<span style='color:red'>的</span>，由工商行政管理机关吊销营业执照。法律、行政法规对串通<span style='color:red'>投标</span>报价行为<span style='color:red'>的</span><span style='color:red'>处罚</span>另有规定<span style='color:red'>的</span>，从其规定。"
      ],
      "text/plain": [
       "<IPython.core.display.Markdown object>"
      ]
     },
     "metadata": {},
     "output_type": "display_data"
    },
    {
     "data": {
      "text/markdown": [
       "第七十三条 第七十三条供应商捏造事实、提供虚假材料或者以非法手段取得证明材料进行投诉<span style='color:red'>的</span>，由财政部门列入不良行为记录名单，禁止其1至3年内参加政府采购活动。"
      ],
      "text/plain": [
       "<IPython.core.display.Markdown object>"
      ]
     },
     "metadata": {},
     "output_type": "display_data"
    },
    {
     "data": {
      "text/markdown": [
       "第七十一条 第七十一条依法必须进行招标项目<span style='color:red'>的</span>招标人向他人透露已获取招标<span style='color:red'>文件</span><span style='color:red'>的</span>潜在<span style='color:red'>投标</span>人<span style='color:red'>的</span>名称、数量或者可能影响公平竞争<span style='color:red'>的</span>有关招标<span style='color:red'>投标</span><span style='color:red'>的</span>其他情况<span style='color:red'>的</span>，或者泄露标底<span style='color:red'>的</span>，有关行政监督部门给予警告，可以并处一万元以上十万元以下<span style='color:red'>的</span>罚款；对单位直接负责<span style='color:red'>的</span>主管人员和其他直接责任人员依法给予处分；构成犯罪<span style='color:red'>的</span>，依法追究刑事责任。前款所列行为影响中标结果<span style='color:red'>的</span>，中标无效。"
      ],
      "text/plain": [
       "<IPython.core.display.Markdown object>"
      ]
     },
     "metadata": {},
     "output_type": "display_data"
    },
    {
     "data": {
      "text/markdown": [
       "第七十四条 第七十四条<span style='color:red'>投标</span>人相互串通<span style='color:red'>投标</span>或者与招标人串通<span style='color:red'>投标</span><span style='color:red'>的</span>，<span style='color:red'>投标</span>人以向招标人或者评标委员会成员行贿<span style='color:red'>的</span>手段谋取中标<span style='color:red'>的</span>，中标无效，由有关行政监督部门处中标项目金额千分之五以上千分之十以下<span style='color:red'>的</span>罚款，对单位直接负责<span style='color:red'>的</span>主管人员和其他直接责任人员处单位罚款数额百分之五以上百分之十以下<span style='color:red'>的</span>罚款；有违法所得<span style='color:red'>的</span>，并处没收违法所得；情节严重<span style='color:red'>的</span>，取消其一至二年<span style='color:red'>的</span><span style='color:red'>投标</span>资格，并予以公告，直至由工商行政管理机关吊销营业执照；构成犯罪<span style='color:red'>的</span>，依法追究刑事责任。给他人造成损失<span style='color:red'>的</span>，依法承担赔偿责任。<span style='color:red'>投标</span>人未中标<span style='color:red'>的</span>，对单位<span style='color:red'>的</span>罚款金额按照招标项目合同金额依照招标<span style='color:red'>投标</span>法规定<span style='color:red'>的</span>比例计算。"
      ],
      "text/plain": [
       "<IPython.core.display.Markdown object>"
      ]
     },
     "metadata": {},
     "output_type": "display_data"
    },
    {
     "data": {
      "text/markdown": [
       "第五十二条 第五十二条依法必须进行招标<span style='color:red'>的</span>项目<span style='color:red'>的</span>招标人向他人透露已获取招标<span style='color:red'>文件</span><span style='color:red'>的</span>潜在<span style='color:red'>投标</span>人<span style='color:red'>的</span>名称、数量或者可能影响公平竞争<span style='color:red'>的</span>有关招标<span style='color:red'>投标</span><span style='color:red'>的</span>其他情况<span style='color:red'>的</span>，或者泄露标底<span style='color:red'>的</span>，给予警告，可以并处一万元以上十万元以下<span style='color:red'>的</span>罚款；对单位直接负责<span style='color:red'>的</span>主管人员和其他直接责任人员依法给予处分；构成犯罪<span style='color:red'>的</span>，依法追究刑事责任。前款所列行为影响中标结果<span style='color:red'>的</span>，中标无效。"
      ],
      "text/plain": [
       "<IPython.core.display.Markdown object>"
      ]
     },
     "metadata": {},
     "output_type": "display_data"
    },
    {
     "data": {
      "text/markdown": [
       "第七十七条 第七十七条供应商有下列情形之一<span style='color:red'>的</span>，处以采购金额千分之五以上千分之十以下<span style='color:red'>的</span>罚款，列入不良行为记录名单，在一至三年内禁止参加政府采购活动，有违法所得<span style='color:red'>的</span>，并处没收违法所得，情节严重<span style='color:red'>的</span>，由工商行政管理机关吊销营业执照；构成犯罪<span style='color:red'>的</span>，依法追究刑事责任：（一）提供虚假材料谋取中标、成交<span style='color:red'>的</span>；（二）采取不正当手段诋毁、排挤其他供应商<span style='color:red'>的</span>；（三）与采购人、其他供应商或者采购代理机构恶意串通<span style='color:red'>的</span>；（四）向采购人、采购代理机构行贿或者提供其他不正当利益<span style='color:red'>的</span>；（五）在招标采购过程中与采购人进行协商谈判<span style='color:red'>的</span>；（六）拒绝有关部门监督检查或者提供虚假情况<span style='color:red'>的</span>。供应商有前款第（一）至（五）项情形之一<span style='color:red'>的</span>，中标、成交无效。"
      ],
      "text/plain": [
       "<IPython.core.display.Markdown object>"
      ]
     },
     "metadata": {},
     "output_type": "display_data"
    },
    {
     "data": {
      "text/markdown": [
       "第二十三条 第二十三条供应商有下列情形之一<span style='color:red'>的</span>，处以采购金额5‰以上10‰以下<span style='color:red'>的</span>罚款，列入不良行为记录名单，在1-3年内禁止参加政府采购活动，有违法所得<span style='color:red'>的</span>，并处没收违法所得，情节严重<span style='color:red'>的</span>，由工商行政管理机关吊销营业执照；涉嫌犯罪<span style='color:red'>的</span>，移送司法机关处理：（一）提供虚假材料谋取中标、成交<span style='color:red'>的</span>；（二）采取不正当手段诋毁、排挤其他供应商<span style='color:red'>的</span>；（三）与采购人、其他供应商或者采购代理机构恶意串通<span style='color:red'>的</span>；（四）向采购人、采购代理机构行贿或者提供其他不正当利益<span style='color:red'>的</span>；（五）在招标采购过程中与采购人进行协商谈判<span style='color:red'>的</span>；（六）拒绝有关部门监督检查或者提供虚假情况<span style='color:red'>的</span>。供应商有前款第（一）至（五）项情形之一<span style='color:red'>的</span>，中标、成交无效。"
      ],
      "text/plain": [
       "<IPython.core.display.Markdown object>"
      ]
     },
     "metadata": {},
     "output_type": "display_data"
    },
    {
     "data": {
      "text/markdown": [
       "第六十九条 第六十九条招标代理机构违法泄露应当保密<span style='color:red'>的</span>与招标<span style='color:red'>投标</span>活动有关<span style='color:red'>的</span>情况和资料<span style='color:red'>的</span>，或者与招标人、<span style='color:red'>投标</span>人串通损害国家利益、社会公共利益或者他人合法权益<span style='color:red'>的</span>，由有关行政监督部门处五万元以上二十五万元以下罚款，对单位直接负责<span style='color:red'>的</span>主管人员和其他直接责任人员处单位罚款数额百分之五以上百分之十以下罚款；有违法所得<span style='color:red'>的</span>，并处没收违法所得；情节严重<span style='color:red'>的</span>，有关行政监督部门可停止其一定时期内参与相关领域<span style='color:red'>的</span>招标代理业务，资格认定部门可暂停直至取消招标代理资格；构成犯罪<span style='color:red'>的</span>，由司法部门依法追究刑事责任。给他人造成损失<span style='color:red'>的</span>，依法承担赔偿责任。前款所列行为影响中标结果，并且中标人为前款所列行为<span style='color:red'>的</span>受益人<span style='color:red'>的</span>，中标无效。"
      ],
      "text/plain": [
       "<IPython.core.display.Markdown object>"
      ]
     },
     "metadata": {},
     "output_type": "display_data"
    },
    {
     "data": {
      "text/markdown": [
       "第七十七条 第七十七条第一款<span style='color:red'>的</span>规定追究法律责任：（一）向评标委员会、竞争性谈判小组或者询价小组成员行贿或者提供其他不正当利益；（二）中标或者成交后无正当理由拒不与采购人签订政府采购合同；（三）未按照采购<span style='color:red'>文件</span>确定<span style='color:red'>的</span>事项签订政府采购合同；（四）<span style='color:red'>将</span>政府采购合同转包；（五）提供假冒伪劣产品；（六）擅自变更、中止或者终止政府采购合同。供应商有前款第一项规定情形<span style='color:red'>的</span>，中标、成交无效。评审阶段资格发生变化，供应商未依照本条例"
      ],
      "text/plain": [
       "<IPython.core.display.Markdown object>"
      ]
     },
     "metadata": {},
     "output_type": "display_data"
    }
   ],
   "source": [
    "import re\n",
    "from IPython.display import Markdown, display\n",
    "\n",
    "# Dense 搜索结果\n",
    "display(Markdown(\"### 🔍 **Dense Search Results:**\"))\n",
    "formatted_results = doc_text_formatting(query, dense_results)\n",
    "for result in formatted_results:\n",
    "    display(Markdown(result))\n",
    "\n",
    "# Sparse 搜索结果\n",
    "display(Markdown(\"### 🌿 **Sparse Search Results:**\"))\n",
    "formatted_results = doc_text_formatting(query, sparse_results)\n",
    "for result in formatted_results:\n",
    "    display(Markdown(result))\n",
    "\n",
    "# Hybrid 搜索结果\n",
    "display(Markdown(\"### 🔄 **Hybrid Search Results:**\"))\n",
    "formatted_results = doc_text_formatting(query, hybrid_results)\n",
    "for result in formatted_results:\n",
    "    display(Markdown(result))\n"
   ]
  },
  {
   "cell_type": "code",
   "execution_count": null,
   "id": "e613c6ab-c1c9-4d23-9ffe-3f7b74168a50",
   "metadata": {
    "jupyter": {
     "source_hidden": true
    }
   },
   "outputs": [],
   "source": [
    "from FlagEmbedding import BGEM3FlagModel\n",
    "sentences_1 = [\"你是谁？\", \"我已有MongoDB文档，之后该怎么做？\"]\n",
    "sentences_2 = [\"需要设计一个具体的分割与存储方案，结合你已有的 MongoDB 文档结构\", \"可以根据你的MongoDB文档向量化\"]\n",
    "model = BGEM3FlagModel('BAAI/bge-m3',\n",
    "                       use_fp16=True,\n",
    "                       pooling_method='cls',\n",
    "                       devices=['cuda:0']) # Setting use_fp16 to True speeds up computation with a slight performance degradation\n",
    "embeddings_1 = model.encode(\n",
    "    sentences_1,\n",
    "    return_dense=True,\n",
    "    return_sparse=True,\n",
    "    return_colbert_vecs=False,\n",
    ")\n",
    "embeddings_2 = model.encode(\n",
    "    sentences_2,\n",
    "    return_dense=True,\n",
    "    return_sparse=True,\n",
    "    return_colbert_vecs=False,\n",
    ")\n",
    "dense_similarity = embeddings_1[\"dense_vecs\"] @ embeddings_2[\"dense_vecs\"].T\n",
    "print('dense similarity:', dense_similarity)\n",
    "sparse_similarity = model.compute_lexical_matching_score(\n",
    "    embeddings_1[\"lexical_weights\"],\n",
    "    embeddings_2[\"lexical_weights\"],\n",
    ")\n",
    "print('sparse similarity:', sparse_similarity)\n",
    "\n",
    "queries = ['query_1', 'query_2']\n",
    "passages = [\"样例文档-1\", \"样例文档-2\"]\n",
    "q_embeddings = model.encode_queries(\n",
    "    queries,\n",
    "    return_dense=True,\n",
    "    return_sparse=True,\n",
    "    return_colbert_vecs=False,\n",
    ")\n",
    "p_embeddings = model.encode_corpus(\n",
    "    passages,\n",
    "    return_dense=True,\n",
    "    return_sparse=True,\n",
    "    return_colbert_vecs=False,\n",
    ")\n",
    "dense_scores = q_embeddings[\"dense_vecs\"] @ p_embeddings[\"dense_vecs\"].T\n",
    "print('dense scores:', dense_scores)\n",
    "sparse_scores = model.compute_lexical_matching_score(\n",
    "    q_embeddings[\"lexical_weights\"],\n",
    "    p_embeddings[\"lexical_weights\"],\n",
    ")\n",
    "print('sparse similarity:', sparse_scores)"
   ]
  },
  {
   "cell_type": "code",
   "execution_count": null,
   "id": "51081168-575e-46d2-9be4-be052206fcae",
   "metadata": {},
   "outputs": [],
   "source": []
  }
 ],
 "metadata": {
  "kernelspec": {
   "display_name": "Python 3 (ipykernel)",
   "language": "python",
   "name": "python3"
  },
  "language_info": {
   "codemirror_mode": {
    "name": "ipython",
    "version": 3
   },
   "file_extension": ".py",
   "mimetype": "text/x-python",
   "name": "python",
   "nbconvert_exporter": "python",
   "pygments_lexer": "ipython3",
   "version": "3.11.11"
  }
 },
 "nbformat": 4,
 "nbformat_minor": 5
}
