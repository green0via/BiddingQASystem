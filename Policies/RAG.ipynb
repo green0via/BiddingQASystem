{
 "cells": [
  {
   "cell_type": "markdown",
   "id": "2cf99560-2b17-40a0-864e-eaa66f33fb2f",
   "metadata": {},
   "source": [
    "## Model"
   ]
  },
  {
   "cell_type": "code",
   "execution_count": 9,
   "id": "6358fd6b-8324-421a-b207-32d8a12f43cd",
   "metadata": {
    "scrolled": true
   },
   "outputs": [
    {
     "name": "stderr",
     "output_type": "stream",
     "text": [
      "D:\\Anaconda\\envs\\eval\\Lib\\site-packages\\tqdm\\auto.py:21: TqdmWarning: IProgress not found. Please update jupyter and ipywidgets. See https://ipywidgets.readthedocs.io/en/stable/user_install.html\n",
      "  from .autonotebook import tqdm as notebook_tqdm\n"
     ]
    },
    {
     "name": "stdout",
     "output_type": "stream",
     "text": [
      "Downloading Model from https://www.modelscope.cn to directory: D:\\modelscope\\models\\Qwen\\Qwen3-8B\n"
     ]
    },
    {
     "name": "stderr",
     "output_type": "stream",
     "text": [
      "2025-06-16 10:32:41,802 - modelscope - WARNING - Using branch: master as version is unstable, use with caution\n",
      "2025-06-16 10:32:43,525 - modelscope - WARNING - Using branch: master as version is unstable, use with caution\n"
     ]
    },
    {
     "name": "stdout",
     "output_type": "stream",
     "text": [
      "Downloading Model from https://www.modelscope.cn to directory: D:\\modelscope\\models\\Qwen\\Qwen3-8B\n"
     ]
    },
    {
     "name": "stderr",
     "output_type": "stream",
     "text": [
      "Loading checkpoint shards: 100%|██████████████████████████████████████████████████| 5/5 [00:20<00:00,  4.18s/it]\n"
     ]
    }
   ],
   "source": [
    "import torch\n",
    "from langchain_core.prompts import PromptTemplate\n",
    "from langchain_core.runnables import RunnablePassthrough\n",
    "from langchain_core.output_parsers import StrOutputParser\n",
    "from modelscope import AutoTokenizer, AutoModelForCausalLM\n",
    "\n",
    "model_id = 'Qwen/Qwen3-8B'\n",
    "# model_id = 'Qwen/Qwen3-0.6B'\n",
    "tokenizer = AutoTokenizer.from_pretrained(model_id, trust_remote_code=True)\n",
    "qwen_model = AutoModelForCausalLM.from_pretrained(model_id, trust_remote_code=True, torch_dtype=torch.float16).cuda()"
   ]
  },
  {
   "cell_type": "code",
   "execution_count": 10,
   "id": "5977bae5-8601-45b2-be6c-c029918b6ce9",
   "metadata": {},
   "outputs": [],
   "source": [
    "# def qwen_llm(prompt):\n",
    "#     inputs = tokenizer(prompt, return_tensors='pt').to('cuda')\n",
    "#     outputs = model.generate(**inputs, max_new_tokens=32768)\n",
    "#     return tokenizer.decode(outputs[0], skip_special_tokens=True)\n",
    "\n",
    "def qwen_llm(prompt_str: str) -> str:\n",
    "    print(\"Qwen...\")\n",
    "    if hasattr(prompt_str, 'to_string'):\n",
    "        prompt_str = prompt_str.to_string()\n",
    "    # ✅ 确保输入是字符串\n",
    "    assert isinstance(prompt_str, str), f\"Expected string, got {type(prompt_str)}\"\n",
    "    messages = [\n",
    "        {\"role\": \"user\", \"content\": prompt_str}\n",
    "    ]\n",
    "    text = tokenizer.apply_chat_template(\n",
    "            messages,\n",
    "            tokenize=False,\n",
    "            add_generation_prompt=True,\n",
    "            enable_thinking=True\n",
    "        )\n",
    "    inputs = tokenizer([text], return_tensors='pt').to(qwen_model.device)\n",
    "    outputs = qwen_model.generate(**inputs, max_new_tokens=32768)  # ✅ 注意 max_new_tokens 拼写\n",
    "    # return tokenizer.decode(outputs[0], skip_special_tokens=True).split('<think>\\n\\n</think>\\n\\n')[-1]\n",
    "    return tokenizer.decode(outputs[0], skip_special_tokens=True)"
   ]
  },
  {
   "cell_type": "markdown",
   "id": "a67a466e-c6a6-402e-824e-71ea8d40c8be",
   "metadata": {},
   "source": [
    "## Vector Store"
   ]
  },
  {
   "cell_type": "code",
   "execution_count": 1,
   "id": "b7017eb5-cbfd-405d-af26-3a8104e8bdbb",
   "metadata": {},
   "outputs": [],
   "source": [
    "from pymilvus import connections, Collection\n",
    "connections.connect(\"default\", host=\"localhost\", port=\"19530\")\n",
    "col_name = \"AllPolicies\"\n",
    "# col_name = \"CountryPolicy\"\n",
    "# col_name = \"ShanghaiPolicy\"\n",
    "# col_name = \"CentrePolicy\"\n",
    "col = Collection(col_name)\n",
    "col.load()"
   ]
  },
  {
   "cell_type": "code",
   "execution_count": 2,
   "id": "4ece2e0b-2746-4343-872e-4bc80205dbd8",
   "metadata": {},
   "outputs": [
    {
     "data": {
      "text/plain": [
       "<Collection>:\n",
       "-------------\n",
       "<name>: AllPolicies\n",
       "<description>: Policy Paragraph Embeddings\n",
       "<schema>: {'auto_id': False, 'description': 'Policy Paragraph Embeddings', 'fields': [{'name': 'para_id', 'description': '', 'type': <DataType.VARCHAR: 21>, 'params': {'max_length': 100}, 'is_primary': True, 'auto_id': False}, {'name': 'text', 'description': '', 'type': <DataType.VARCHAR: 21>, 'params': {'max_length': 8192}}, {'name': 'dense_vector', 'description': '', 'type': <DataType.FLOAT_VECTOR: 101>, 'params': {'dim': 1024}}, {'name': 'sparse_vector', 'description': '', 'type': <DataType.SPARSE_FLOAT_VECTOR: 104>}], 'enable_dynamic_field': False}"
      ]
     },
     "execution_count": 2,
     "metadata": {},
     "output_type": "execute_result"
    }
   ],
   "source": [
    "col"
   ]
  },
  {
   "cell_type": "markdown",
   "id": "13452ca8-0d79-4003-80f5-a4f4e321ec54",
   "metadata": {},
   "source": [
    "## Embedding Model"
   ]
  },
  {
   "cell_type": "code",
   "execution_count": 23,
   "id": "793fd1ad-61bf-49fa-b3d4-eb7c44030e5f",
   "metadata": {},
   "outputs": [
    {
     "name": "stderr",
     "output_type": "stream",
     "text": [
      "Fetching 30 files: 100%|████████████████████████████████████████████████████████████████| 30/30 [00:00<?, ?it/s]\n"
     ]
    }
   ],
   "source": [
    "from FlagEmbedding import BGEM3FlagModel\n",
    "\n",
    "bgem3_model = BGEM3FlagModel('BAAI/bge-m3',\n",
    "                      use_fp16=False,\n",
    "                      pooling_method='cls',\n",
    "                      devices=['cuda:0'])\n",
    "\n",
    "def get_embeddings(text):\n",
    "    embeddings = bgem3_model.encode(\n",
    "        text,\n",
    "        return_dense=True,\n",
    "        return_sparse=True,\n",
    "        return_colbert_vecs=False\n",
    "    )\n",
    "    return embeddings"
   ]
  },
  {
   "cell_type": "markdown",
   "id": "4a1fab10-6986-4f20-a60b-76e0f639c5ae",
   "metadata": {},
   "source": [
    "## Retriever"
   ]
  },
  {
   "cell_type": "code",
   "execution_count": 13,
   "id": "e18abf2b-81b6-442a-a2bb-cf17bfc00307",
   "metadata": {},
   "outputs": [],
   "source": [
    "from pymilvus import AnnSearchRequest, WeightedRanker\n",
    "\n",
    "def hybrid_search(\n",
    "    col,\n",
    "    query_dense_embedding,\n",
    "    query_sparse_embedding,\n",
    "    sparse_weight=1.0,\n",
    "    dense_weight=1.0,\n",
    "    limit=5,\n",
    "):\n",
    "    print(\"Searching...\")\n",
    "    dense_req = AnnSearchRequest(\n",
    "        [query_dense_embedding], \"dense_vector\", {\"metric_type\": \"L2\", \"params\": {}}, limit=limit\n",
    "    )\n",
    "    sparse_req = AnnSearchRequest(\n",
    "        [query_sparse_embedding], \"sparse_vector\", {\"metric_type\": \"IP\", \"params\": {}}, limit=limit\n",
    "    )\n",
    "    rerank = WeightedRanker(sparse_weight, dense_weight)\n",
    "    res = col.hybrid_search(\n",
    "        [sparse_req, dense_req],\n",
    "        rerank=rerank,\n",
    "        limit=limit,\n",
    "        output_fields=[\"para_id\", \"text\"]\n",
    "    )\n",
    "    return [\n",
    "        {\"para_id\": hit.entity.get(\"para_id\"), \"text\": hit.entity.get(\"text\")}\n",
    "        for hit in res[0]\n",
    "    ]\n",
    "\n",
    "def hybrid_search_pipeline(query):\n",
    "    # 在这里调用你的 embedding 模型（比如 bge-m3）\n",
    "    print(\"Embedding...\")\n",
    "    query_embeddings = get_embeddings([query])\n",
    "    query_dense_embeddings = query_embeddings['dense_vecs'][0]\n",
    "    query_sparse_embeddings = query_embeddings.get('lexical_weights')[0]\n",
    "\n",
    "    # 调用原始的搜索方法\n",
    "    return hybrid_search(\n",
    "        col,\n",
    "        query_dense_embeddings,\n",
    "        query_sparse_embeddings,\n",
    "        sparse_weight=1.0,\n",
    "        dense_weight=1.0,\n",
    "        limit=50\n",
    "    )\n"
   ]
  },
  {
   "cell_type": "markdown",
   "id": "1997e365-4a55-4eb6-8ba2-d2a1767b928f",
   "metadata": {},
   "source": [
    "## Reranker"
   ]
  },
  {
   "cell_type": "code",
   "execution_count": 14,
   "id": "2c0eb23d-ab68-49f0-97e6-696eb82fdcb7",
   "metadata": {},
   "outputs": [],
   "source": [
    "from pymilvus.model.reranker import BGERerankFunction\n",
    "\n",
    "bge_rf = BGERerankFunction(\n",
    "    model_name=\"BAAI/bge-reranker-v2-m3\",  # Specify the model name. Defaults to `BAAI/bge-reranker-v2-m3`.\n",
    "    device=\"cuda:0\" # Specify the device to use, e.g., 'cpu' or 'cuda:0'\n",
    ")\n"
   ]
  },
  {
   "cell_type": "code",
   "execution_count": 15,
   "id": "7d0f42e5-738a-4513-a37e-a178be5251d8",
   "metadata": {},
   "outputs": [],
   "source": [
    "def rerank(results):\n",
    "    print(\"Reranking...\")\n",
    "    documents = [p['text'] for p in results]\n",
    "    rerank_results = bge_rf(query=query, documents=documents, top_k=5)\n",
    "    return rerank_results"
   ]
  },
  {
   "cell_type": "markdown",
   "id": "4a92806c-0daf-4d22-8b84-7d853088cffb",
   "metadata": {},
   "source": [
    "## Chain"
   ]
  },
  {
   "cell_type": "code",
   "execution_count": 16,
   "id": "beff761e-c431-4a8b-b558-f8177fca13a3",
   "metadata": {},
   "outputs": [],
   "source": [
    "PROMPT_TEMPLATE = \"\"\"\n",
    "Human: You are an AI assistant, and provides answers to questions by using fact based and statistical information when possible.\n",
    "Use the following pieces of information to provide a concise answer to the question enclosed in <question> tags.\n",
    "If you don't know the answer, just say that you don't know, don't try to make up an answer.\n",
    "<context>\n",
    "{context}\n",
    "</context>\n",
    "\n",
    "<question>\n",
    "{question}\n",
    "</question>\n",
    "\n",
    "The response should be specific and use statistics or numbers when possible.\n",
    "\n",
    "Assistant:\"\"\"\n",
    "\n",
    "# Create a PromptTemplate instance with the defined template and input variables\n",
    "prompt = PromptTemplate(\n",
    "    template=PROMPT_TEMPLATE, input_variables=[\"context\", \"question\"]\n",
    ")\n",
    "\n",
    "\n",
    "# Define a function to format the retrieved documents\n",
    "def format_docs(docs):\n",
    "    return \"\\n\\n\".join(doc.text for doc in docs)"
   ]
  },
  {
   "cell_type": "code",
   "execution_count": 17,
   "id": "0d48f41e-292f-45b5-b20e-7af903399528",
   "metadata": {},
   "outputs": [],
   "source": [
    "from langchain_core.runnables import RunnableLambda\n",
    "\n",
    "context_chain = RunnableLambda(hybrid_search_pipeline) | RunnableLambda(rerank) | RunnableLambda(format_docs)\n",
    "llm = RunnableLambda(qwen_llm)"
   ]
  },
  {
   "cell_type": "markdown",
   "id": "78cefac7-2c87-4ce9-9f84-5c54f72f8dd1",
   "metadata": {},
   "source": [
    "## Query"
   ]
  },
  {
   "cell_type": "code",
   "execution_count": 11,
   "id": "06b1b5dc-dda6-4895-b5d9-d792d0151d6f",
   "metadata": {},
   "outputs": [
    {
     "name": "stdin",
     "output_type": "stream",
     "text": [
      "Enter your search query:  串通招标有什么后果？\n"
     ]
    }
   ],
   "source": [
    "query = input(\"Enter your search query: \")\n",
    "# query_embeddings = get_embeddings([query])"
   ]
  },
  {
   "cell_type": "code",
   "execution_count": 12,
   "id": "0b77cd7c-f547-42f9-8efc-d409789c928b",
   "metadata": {},
   "outputs": [
    {
     "name": "stdout",
     "output_type": "stream",
     "text": [
      "Embedding...\n"
     ]
    },
    {
     "name": "stderr",
     "output_type": "stream",
     "text": [
      "You're using a XLMRobertaTokenizerFast tokenizer. Please note that with a fast tokenizer, using the `__call__` method is faster than using a method to encode the text followed by a call to the `pad` method to get a padded encoding.\n"
     ]
    },
    {
     "name": "stdout",
     "output_type": "stream",
     "text": [
      "Searching...\n",
      "Reranking...\n"
     ]
    },
    {
     "name": "stderr",
     "output_type": "stream",
     "text": [
      "You're using a XLMRobertaTokenizerFast tokenizer. Please note that with a fast tokenizer, using the `__call__` method is faster than using a method to encode the text followed by a call to the `pad` method to get a padded encoding.\n"
     ]
    },
    {
     "name": "stdout",
     "output_type": "stream",
     "text": [
      "Qwen...\n",
      "user\n",
      "\n",
      "Human: You are an AI assistant, and provides answers to questions by using fact based and statistical information when possible.\n",
      "Use the following pieces of information to provide a concise answer to the question enclosed in <question> tags.\n",
      "If you don't know the answer, just say that you don't know, don't try to make up an answer.\n",
      "<context>\n",
      "第五十三条 第五十三条规定的情节严重行为，由有关行政监督部门取消其1年至2年内参加依法必须进行招标的项目的投标资格：(一)以行贿谋取中标；(二)3年内2次以上串通投标；(三)串通投标行为损害招标人、其他投标人或者国家、集体、公民的合法利益，造成直接经济损失30万元以上；(四)其他串通投标情节严重的行为。投标人自本条第二款规定的处罚执行期限届满之日起3年内又有该款所列违法行为之一的，或者串通投标、以行贿谋取中标情节特别严重的，由工商行政管理机关吊销营业执照。法律、行政法规对串通投标报价行为的处罚另有规定的，从其规定。\n",
      "\n",
      "第五十三条 第五十三条投标人相互串通投标或者与招标人串通投标的，投标人以向招标人或者评标委员会成员行贿的手段谋取中标的，中标无效，处中标项目金额千分之五以上千分之十以下的罚款，对单位直接负责的主管人员和其他直接责任人员处单位罚款数额百分之五以上百分之十以下的罚款；有违法所得的，并处没收违法所得；情节严重的，取消其一年至二年内参加依法必须进行招标的项目的投标资格并予以公告，直至由工商行政管理机关吊销营业执照；构成犯罪的，依法追究刑事责任。给他人造成损失的，依法承担赔偿责任。\n",
      "\n",
      "第七十四条 第七十四条投标人相互串通投标或者与招标人串通投标的，投标人以向招标人或者评标委员会成员行贿的手段谋取中标的，中标无效，由有关行政监督部门处中标项目金额千分之五以上千分之十以下的罚款，对单位直接负责的主管人员和其他直接责任人员处单位罚款数额百分之五以上百分之十以下的罚款；有违法所得的，并处没收违法所得；情节严重的，取消其一至二年的投标资格，并予以公告，直至由工商行政管理机关吊销营业执照；构成犯罪的，依法追究刑事责任。给他人造成损失的，依法承担赔偿责任。投标人未中标的，对单位的罚款金额按照招标项目合同金额依照招标投标法规定的比例计算。\n",
      "\n",
      "第六十七条 第六十七条　投标人相互串通投标或者与招标人串通投标的，投标人向招标人或者评标委员会成员行贿谋取中标的，中标无效；构成犯罪的，依法追究刑事责任；尚不构成犯罪的，依照招标投标法\n",
      "\n",
      "第五十条 第五十条招标代理机构违反本法规定，泄露应当保密的与招标投标活动有关的情况和资料的，或者与招标人、投标人串通损害国家利益、社会公共利益或者他人合法权益的，处五万元以上二十五万元以下的罚款；对单位直接负责的主管人员和其他直接责任人员处单位罚款数额百分之五以上百分之十以下的罚款；有违法所得的，并处没收违法所得；情节严重的，禁止其一年至二年内代理依法必须进行招标的项目并予以公告，直至由工商行政管理机关吊销营业执照；构成犯罪的，依法追究刑事责任。给他人造成损失的，依法承担赔偿责任。前款所列行为影响中标结果的，中标无效。\n",
      "</context>\n",
      "\n",
      "<question>\n",
      "串通招标有什么后果？\n",
      "</question>\n",
      "\n",
      "The response should be specific and use statistics or numbers when possible.\n",
      "\n",
      "Assistant:\n",
      "assistant\n",
      "<think>\n",
      "好的，我现在要回答用户的问题：“串通招标有什么后果？”根据提供的法律条文，我需要仔细分析相关条款，提取具体的后果和处罚措施。\n",
      "\n",
      "首先，用户提供的上下文中有多个条款，包括第五十三条、第五十四条、第七十四条、第六十七条和第五十条。我需要逐一查看这些条款，找出关于串通招标的具体后果。\n",
      "\n",
      "第五十三条提到，情节严重的行为会导致取消1至2年的投标资格，甚至吊销营业执照。还提到如果再次违法或情节特别严重，可能会被吊销营业执照。此外，罚款方面，中标项目金额的千分之五到十，以及对直接责任人员的罚款。还有可能没收违法所得，构成犯罪的要追究刑事责任。\n",
      "\n",
      "第七十四条的内容和第五十三条类似，但提到对未中标的投标人，罚款按合同金额的比例计算。同样有取消资格、罚款、没收违法所得，以及刑事责任。\n",
      "\n",
      "第六十七条指出，串通投标的，中标无效，构成犯罪的追究刑事责任，否则按招标投标法处理。\n",
      "\n",
      "第五十条主要针对招标代理机构，但用户的问题是关于投标人串通招标，所以可能不直接相关，不过需要确认是否有涉及。\n",
      "\n",
      "现在需要综合这些信息，明确串通招标的后果包括：罚款、取消投标资格、吊销营业执照、没收违法所得、刑事责任，以及可能的赔偿责任。同时，要提到具体的罚款比例和资格取消的时间范围。\n",
      "\n",
      "需要注意是否有重复或不同的处罚措施，比如第五十三条和第七十四条是否有差异。例如，第五十三条提到对单位直接负责人员的罚款比例，而第七十四条可能也有类似内容。另外，第五十条可能涉及招标代理机构的处罚，但用户的问题是关于投标人，所以可能不需要包括这部分。\n",
      "\n",
      "需要确保回答具体，使用数字和统计信息，比如罚款比例、取消资格的时间、吊销执照的条件等。同时，要指出不同情节的严重程度对应的处罚差异，例如情节严重或特别严重的情况。\n",
      "\n",
      "最后，整理这些信息，用简洁的语言回答，确保涵盖所有关键点，并正确引用法律条款中的具体数字和规定。\n",
      "</think>\n",
      "\n",
      "串通招标的后果根据情节严重程度包括以下具体处罚：  \n",
      "1. **罚款**：中标项目金额的 **0.5%至1%**（第五十三条、第七十四条），未中标的按合同金额比例计算；对直接责任人员处单位罚款的 **5%-10%**。  \n",
      "2. **资格限制**：情节严重的，取消 **1-2年内** 参加依法必须招标项目的投标资格（第五十三条）；若再次违法或情节特别严重，可能被 **吊销营业执照**（第五十三条）。  \n",
      "3. **其他处罚**：没收违法所得（第五十三条、第七十四条），构成犯罪的追究刑事责任（第五十三条、第六十七条），并承担赔偿责任（第五十条、第七十四条）。  \n",
      "4. **招标代理机构违规**：若涉及泄露信息或串通，处 **5万-25万元** 罚款，情节严重的禁止代理招标项目 **1-2年** 或吊销执照（第五十条）。  \n",
      "\n",
      "以上处罚均依据《招标投标法》相关条款规定。"
     ]
    }
   ],
   "source": [
    "rag_chain = (\n",
    "    {\"context\": context_chain, \"question\": RunnablePassthrough()}\n",
    "    | prompt\n",
    "    | llm\n",
    "    | StrOutputParser()\n",
    ")\n",
    "\n",
    "\n",
    "# res = rag_chain.invoke(query)\n",
    "# res\n",
    "for s in rag_chain.stream(query):\n",
    "    print(s, end=\"\", flush=True)"
   ]
  },
  {
   "cell_type": "code",
   "execution_count": 13,
   "id": "0eee8010-ae37-412f-9750-4245659b6eb8",
   "metadata": {},
   "outputs": [
    {
     "data": {
      "text/plain": [
       "'Qwen/Qwen3-8B'"
      ]
     },
     "execution_count": 13,
     "metadata": {},
     "output_type": "execute_result"
    }
   ],
   "source": [
    "model_id"
   ]
  },
  {
   "cell_type": "code",
   "execution_count": null,
   "id": "fb90b0cb-3a9d-4eac-b32d-f8d9f3c2e790",
   "metadata": {},
   "outputs": [],
   "source": [
    "def RAG()"
   ]
  },
  {
   "cell_type": "markdown",
   "id": "4816cd2a-6604-40a6-9baf-208ea91a6864",
   "metadata": {
    "jp-MarkdownHeadingCollapsed": true
   },
   "source": [
    "## Others"
   ]
  },
  {
   "cell_type": "code",
   "execution_count": 7,
   "id": "30c8143c-3c9c-4894-940c-41e50ada379e",
   "metadata": {},
   "outputs": [],
   "source": [
    "import jieba\n",
    "\n",
    "def doc_text_formatting(query, docs):\n",
    "    query_words = list(set(jieba.lcut(query)))  # 中文分词\n",
    "    formatted_texts = []\n",
    "\n",
    "    for doc in docs:\n",
    "        try:\n",
    "            highlighted = doc.get('text')\n",
    "        except:\n",
    "            highlighted = doc.text\n",
    "        for word in query_words:\n",
    "            if not word.strip():\n",
    "                continue\n",
    "            highlighted = re.sub(\n",
    "                re.escape(word),\n",
    "                f\"<span style='color:red'>{word}</span>\",\n",
    "                highlighted\n",
    "            )\n",
    "        formatted_texts.append(highlighted)\n",
    "    return formatted_texts\n"
   ]
  },
  {
   "cell_type": "code",
   "execution_count": 13,
   "id": "8ab2047a-dbf4-4dca-bda0-8bf3fd920aca",
   "metadata": {},
   "outputs": [],
   "source": [
    "query_dense_embeddings = query_embeddings['dense_vecs']\n",
    "query_sparse_embeddings = query_embeddings.get('lexical_weights')"
   ]
  },
  {
   "cell_type": "code",
   "execution_count": 14,
   "id": "85fca140-8b46-48cd-93ab-139247da987f",
   "metadata": {},
   "outputs": [
    {
     "name": "stdout",
     "output_type": "stream",
     "text": [
      "Searching...\n"
     ]
    }
   ],
   "source": [
    "hybrid_results = hybrid_search(\n",
    "        col,\n",
    "        query_dense_embeddings[0],\n",
    "        query_sparse_embeddings[0],\n",
    "        sparse_weight=1.0,\n",
    "        dense_weight=1.0,\n",
    "        limit=50\n",
    "    )"
   ]
  },
  {
   "cell_type": "code",
   "execution_count": 15,
   "id": "665f1336-5841-4d7d-9961-e18a29c3c1eb",
   "metadata": {
    "scrolled": true
   },
   "outputs": [
    {
     "data": {
      "text/markdown": [
       "### 🔄 **Hybrid Search Results:**"
      ],
      "text/plain": [
       "<IPython.core.display.Markdown object>"
      ]
     },
     "metadata": {},
     "output_type": "display_data"
    },
    {
     "data": {
      "text/markdown": [
       "para_id: 8063182_T25"
      ],
      "text/plain": [
       "<IPython.core.display.Markdown object>"
      ]
     },
     "metadata": {},
     "output_type": "display_data"
    },
    {
     "data": {
      "text/markdown": [
       "第二十一条 第二十一条<span style='color:red'>国有</span><span style='color:red'><span style='color:red'>不</span>可</span><span style='color:red'>移动</span><span style='color:red'>文物</span>由使用人负责<span style='color:red'>修缮</span><span style='color:red'>、</span><span style='color:red'>保养</span>；非<span style='color:red'>国有</span><span style='color:red'><span style='color:red'>不</span>可</span><span style='color:red'>移动</span><span style='color:red'>文物</span>由<span style='color:red'>所有人</span>负责<span style='color:red'>修缮</span><span style='color:red'>、</span><span style='color:red'>保养</span>。非<span style='color:red'>国有</span><span style='color:red'><span style='color:red'>不</span>可</span><span style='color:red'>移动</span><span style='color:red'>文物</span>有损毁危险<span style='color:red'>，</span><span style='color:red'>所有人</span><span style='color:red'>不</span><span style='color:red'>具备</span><span style='color:red'>修缮</span><span style='color:red'>能力</span><span style='color:red'>的</span><span style='color:red'>，</span>当地人民<span style='color:red'>政府</span><span style='color:red'>应</span>当给予帮助；<span style='color:red'>所有人</span><span style='color:red'>具备</span><span style='color:red'>修缮</span><span style='color:red'>能力</span>而拒<span style='color:red'>不</span>依法履行<span style='color:red'>修缮</span><span style='color:red'>义务</span><span style='color:red'>的</span><span style='color:red'>，</span><span style='color:red'>县级</span><span style='color:red'>以上</span>人民<span style='color:red'>政府</span>可以给予抢救<span style='color:red'>修缮</span><span style='color:red'>，</span>所需费用由<span style='color:red'>所有人</span>负担。<span style='color:red'>对</span><span style='color:red'>文物</span>保护单位<span style='color:red'>进行</span><span style='color:red'>修缮</span><span style='color:red'>，</span><span style='color:red'>应</span>当根据<span style='color:red'>文物</span>保护单位<span style='color:red'>的</span>级别报相<span style='color:red'>应</span><span style='color:red'>的</span><span style='color:red'>文物</span>行政部门批准；<span style='color:red'>对</span>未核定为<span style='color:red'>文物</span>保护单位<span style='color:red'>的</span><span style='color:red'><span style='color:red'>不</span>可</span><span style='color:red'>移动</span><span style='color:red'>文物</span><span style='color:red'>进行</span><span style='color:red'>修缮</span><span style='color:red'>，</span><span style='color:red'>应</span>当报登记<span style='color:red'>的</span><span style='color:red'>县级</span>人民<span style='color:red'>政府</span><span style='color:red'>文物</span>行政部门批准。<span style='color:red'>文物</span>保护单位<span style='color:red'>的</span><span style='color:red'>修缮</span><span style='color:red'>、</span><span style='color:red'>迁移</span><span style='color:red'>、</span><span style='color:red'>重建</span><span style='color:red'>，</span>由取得<span style='color:red'>文物</span>保护工程<span style='color:red'>资质</span>证书<span style='color:red'>的</span>单位承担。<span style='color:red'>对</span><span style='color:red'><span style='color:red'>不</span>可</span><span style='color:red'>移动</span><span style='color:red'>文物</span><span style='color:red'>进行</span><span style='color:red'>修缮</span><span style='color:red'>、</span><span style='color:red'>保养</span><span style='color:red'>、</span><span style='color:red'>迁移</span><span style='color:red'>，</span><span style='color:red'>必须</span><span style='color:red'>遵守</span><span style='color:red'>不</span>改变<span style='color:red'>文物</span>原状<span style='color:red'>的</span><span style='color:red'>原则</span>。"
      ],
      "text/plain": [
       "<IPython.core.display.Markdown object>"
      ]
     },
     "metadata": {},
     "output_type": "display_data"
    },
    {
     "data": {
      "text/markdown": [
       "para_id: 8063182_T89"
      ],
      "text/plain": [
       "<IPython.core.display.Markdown object>"
      ]
     },
     "metadata": {},
     "output_type": "display_data"
    },
    {
     "data": {
      "text/markdown": [
       "第七十五条 第七十五条有下列行为之一<span style='color:red'>的</span><span style='color:red'>，</span>由<span style='color:red'>县级</span><span style='color:red'>以上</span>人民<span style='color:red'>政府</span><span style='color:red'>文物</span>主管部门责令改正：（一）改变<span style='color:red'>国有</span>未核定为<span style='color:red'>文物</span>保护单位<span style='color:red'>的</span><span style='color:red'><span style='color:red'>不</span>可</span><span style='color:red'>移动</span><span style='color:red'>文物</span><span style='color:red'>的</span>用途<span style='color:red'>，</span>未依照本法规定报告<span style='color:red'>的</span>；（二）转让<span style='color:red'>、</span>抵押非<span style='color:red'>国有</span><span style='color:red'><span style='color:red'>不</span>可</span><span style='color:red'>移动</span><span style='color:red'>文物</span><span style='color:red'>或</span>者改变其用途<span style='color:red'>，</span>未依照本法规定备案<span style='color:red'>的</span>；（三）<span style='color:red'>国有</span><span style='color:red'><span style='color:red'>不</span>可</span><span style='color:red'>移动</span><span style='color:red'>文物</span><span style='color:red'>的</span>使用人拒<span style='color:red'>不</span>依法履行<span style='color:red'>修缮</span><span style='color:red'>义务</span><span style='color:red'>的</span>；（四）考古发掘单位未经批准擅自<span style='color:red'>进行</span>考古发掘<span style='color:red'>，</span><span style='color:red'>或</span>者<span style='color:red'>不</span>如实报告考古发掘结果<span style='color:red'>的</span>；（五）<span style='color:red'>文物</span>收藏单位未按照国家有关规定建立馆藏<span style='color:red'>文物</span>档案<span style='color:red'>、</span>管理制度<span style='color:red'>，</span><span style='color:red'>或</span>者未将馆藏<span style='color:red'>文物</span>档案<span style='color:red'>、</span>管理制度备案<span style='color:red'>的</span>；（六）违反本法"
      ],
      "text/plain": [
       "<IPython.core.display.Markdown object>"
      ]
     },
     "metadata": {},
     "output_type": "display_data"
    },
    {
     "data": {
      "text/markdown": [
       "para_id: 8063182_T30"
      ],
      "text/plain": [
       "<IPython.core.display.Markdown object>"
      ]
     },
     "metadata": {},
     "output_type": "display_data"
    },
    {
     "data": {
      "text/markdown": [
       "第二十六条 第二十六条使用<span style='color:red'><span style='color:red'>不</span>可</span><span style='color:red'>移动</span><span style='color:red'>文物</span><span style='color:red'>，</span><span style='color:red'>必须</span><span style='color:red'>遵守</span><span style='color:red'>不</span>改变<span style='color:red'>文物</span>原状<span style='color:red'>的</span><span style='color:red'>原则</span><span style='color:red'>，</span>负责保护建筑物及其附属<span style='color:red'>文物</span><span style='color:red'>的</span>安全<span style='color:red'>，</span><span style='color:red'>不</span>得损毁<span style='color:red'>、</span>改建<span style='color:red'>、</span>添建<span style='color:red'>或</span>者拆除<span style='color:red'><span style='color:red'>不</span>可</span><span style='color:red'>移动</span><span style='color:red'>文物</span>。<span style='color:red'>对</span>危害<span style='color:red'>文物</span>保护单位安全<span style='color:red'>、</span>破坏<span style='color:red'>文物</span>保护单位历史风貌<span style='color:red'>的</span>建筑物<span style='color:red'>、</span>构筑物<span style='color:red'>，</span>当地人民<span style='color:red'>政府</span><span style='color:red'>应</span>当及<span style='color:red'>时</span>调查处理<span style='color:red'>，</span>必要<span style='color:red'>时</span><span style='color:red'>，</span><span style='color:red'>对</span>该建筑物<span style='color:red'>、</span>构筑物予以拆迁。第三章　考古发掘"
      ],
      "text/plain": [
       "<IPython.core.display.Markdown object>"
      ]
     },
     "metadata": {},
     "output_type": "display_data"
    },
    {
     "data": {
      "text/markdown": [
       "para_id: 8063182_T24"
      ],
      "text/plain": [
       "<IPython.core.display.Markdown object>"
      ]
     },
     "metadata": {},
     "output_type": "display_data"
    },
    {
     "data": {
      "text/markdown": [
       "第二十条 第二十条建设工程选址<span style='color:red'>，</span><span style='color:red'>应</span>当尽可能避开<span style='color:red'><span style='color:red'>不</span>可</span><span style='color:red'>移动</span><span style='color:red'>文物</span>；因特殊情况<span style='color:red'>不</span>能避开<span style='color:red'>的</span><span style='color:red'>，</span><span style='color:red'>对</span><span style='color:red'>文物</span>保护单位<span style='color:red'>应</span>当尽可能实施原址保护。实施原址保护<span style='color:red'>的</span><span style='color:red'>，</span>建设单位<span style='color:red'>应</span>当事先确定保护措施<span style='color:red'>，</span>根据<span style='color:red'>文物</span>保护单位<span style='color:red'>的</span>级别报相<span style='color:red'>应</span><span style='color:red'>的</span><span style='color:red'>文物</span>行政部门批准；未经批准<span style='color:red'>的</span><span style='color:red'>，</span><span style='color:red'>不</span>得开工建设。无法实施原址保护<span style='color:red'>，</span><span style='color:red'>必须</span><span style='color:red'>迁移</span>异地保护<span style='color:red'>或</span>者拆除<span style='color:red'>的</span><span style='color:red'>，</span><span style='color:red'>应</span>当报省<span style='color:red'>、</span>自治区<span style='color:red'>、</span>直辖市人民<span style='color:red'>政府</span>批准；<span style='color:red'>迁移</span><span style='color:red'>或</span>者拆除省级<span style='color:red'>文物</span>保护单位<span style='color:red'>的</span><span style='color:red'>，</span>批准前须征得国务院<span style='color:red'>文物</span>行政部门同意。全国重点<span style='color:red'>文物</span>保护单位<span style='color:red'>不</span>得拆除；<span style='color:red'>需要</span><span style='color:red'>迁移</span><span style='color:red'>的</span><span style='color:red'>，</span>须由省<span style='color:red'>、</span>自治区<span style='color:red'>、</span>直辖市人民<span style='color:red'>政府</span>报国务院批准。依照前款规定拆除<span style='color:red'>的</span><span style='color:red'>国有</span><span style='color:red'><span style='color:red'>不</span>可</span><span style='color:red'>移动</span><span style='color:red'>文物</span>中具有收藏价值<span style='color:red'>的</span>壁画<span style='color:red'>、</span>雕塑<span style='color:red'>、</span>建筑构件等<span style='color:red'>，</span>由<span style='color:red'>文物</span>行政部门指定<span style='color:red'>的</span><span style='color:red'>文物</span>收藏单位收藏。本条规定<span style='color:red'>的</span>原址保护<span style='color:red'>、</span><span style='color:red'>迁移</span><span style='color:red'>、</span>拆除所需费用<span style='color:red'>，</span>由建设单位列入建设工程预算。"
      ],
      "text/plain": [
       "<IPython.core.display.Markdown object>"
      ]
     },
     "metadata": {},
     "output_type": "display_data"
    },
    {
     "data": {
      "text/markdown": [
       "para_id: 8063182_T75"
      ],
      "text/plain": [
       "<IPython.core.display.Markdown object>"
      ]
     },
     "metadata": {},
     "output_type": "display_data"
    },
    {
     "data": {
      "text/markdown": [
       "第六十六条 第六十六条有下列行为之一<span style='color:red'>，</span>尚<span style='color:red'>不</span>构成犯罪<span style='color:red'>的</span><span style='color:red'>，</span>由<span style='color:red'>县级</span><span style='color:red'>以上</span>人民<span style='color:red'>政府</span><span style='color:red'>文物</span>主管部门责令改正<span style='color:red'>，</span>造成严重后果<span style='color:red'>的</span><span style='color:red'>，</span>处五万元<span style='color:red'>以上</span>五十万元以下<span style='color:red'>的</span>罚款；情节严重<span style='color:red'>的</span><span style='color:red'>，</span>由原发证机关吊销<span style='color:red'>资质</span>证书：（一）擅自<span style='color:red'>在</span><span style='color:red'>文物</span>保护单位<span style='color:red'>的</span>保护范围内<span style='color:red'>进行</span>建设工程<span style='color:red'>或</span>者爆破<span style='color:red'>、</span>钻探<span style='color:red'>、</span>挖掘等作业<span style='color:red'>的</span>；（二）<span style='color:red'>在</span><span style='color:red'>文物</span>保护单位<span style='color:red'>的</span>建设控制地带内<span style='color:red'>进行</span>建设工程<span style='color:red'>，</span>其工程设计方案未经<span style='color:red'>文物</span>行政部门同意<span style='color:red'>、</span>报城乡建设规划部门批准<span style='color:red'>，</span><span style='color:red'>对</span><span style='color:red'>文物</span>保护单位<span style='color:red'>的</span>历史风貌造成破坏<span style='color:red'>的</span>；（三）擅自<span style='color:red'>迁移</span><span style='color:red'>、</span>拆除<span style='color:red'><span style='color:red'>不</span>可</span><span style='color:red'>移动</span><span style='color:red'>文物</span><span style='color:red'>的</span>；（四）擅自<span style='color:red'>修缮</span><span style='color:red'><span style='color:red'>不</span>可</span><span style='color:red'>移动</span><span style='color:red'>文物</span><span style='color:red'>，</span>明显改变<span style='color:red'>文物</span>原状<span style='color:red'>的</span>；（五）擅自<span style='color:red'>在</span>原址<span style='color:red'>重建</span>已全部毁坏<span style='color:red'>的</span><span style='color:red'><span style='color:red'>不</span>可</span><span style='color:red'>移动</span><span style='color:red'>文物</span><span style='color:red'>，</span>造成<span style='color:red'>文物</span>破坏<span style='color:red'>的</span>；（六）施工单位未取得<span style='color:red'>文物</span>保护工程<span style='color:red'>资质</span>证书<span style='color:red'>，</span>擅自从事<span style='color:red'>文物</span><span style='color:red'>修缮</span><span style='color:red'>、</span><span style='color:red'>迁移</span><span style='color:red'>、</span><span style='color:red'>重建</span><span style='color:red'>的</span>。刻划<span style='color:red'>、</span>涂污<span style='color:red'>或</span>者损坏<span style='color:red'>文物</span>尚<span style='color:red'>不</span>严重<span style='color:red'>的</span><span style='color:red'>，</span><span style='color:red'>或</span>者损毁依照本法"
      ],
      "text/plain": [
       "<IPython.core.display.Markdown object>"
      ]
     },
     "metadata": {},
     "output_type": "display_data"
    },
    {
     "data": {
      "text/markdown": [
       "para_id: 8063182_T09"
      ],
      "text/plain": [
       "<IPython.core.display.Markdown object>"
      ]
     },
     "metadata": {},
     "output_type": "display_data"
    },
    {
     "data": {
      "text/markdown": [
       "第五条 第五条中华人民共<span style='color:red'>和</span>国境内地下<span style='color:red'>、</span>内水<span style='color:red'>和</span>领海中遗存<span style='color:red'>的</span>一切<span style='color:red'>文物</span><span style='color:red'>，</span>属于国家所有。古文化遗址<span style='color:red'>、</span>古墓葬<span style='color:red'>、</span>石窟寺属于国家所有。国家指定保护<span style='color:red'>的</span>纪念建筑物<span style='color:red'>、</span>古建筑<span style='color:red'>、</span>石刻<span style='color:red'>、</span>壁画<span style='color:red'>、</span>近代现代代表性建筑等<span style='color:red'><span style='color:red'>不</span>可</span><span style='color:red'>移动</span><span style='color:red'>文物</span><span style='color:red'>，</span>除国家另有规定<span style='color:red'>的</span>以外<span style='color:red'>，</span>属于国家所有。<span style='color:red'>国有</span><span style='color:red'><span style='color:red'>不</span>可</span><span style='color:red'>移动</span><span style='color:red'>文物</span><span style='color:red'>的</span>所有权<span style='color:red'>不</span>因其所依附<span style='color:red'>的</span>土地所有权<span style='color:red'>或</span>者使用权<span style='color:red'>的</span>改变而改变。下列可<span style='color:red'>移动</span><span style='color:red'>文物</span><span style='color:red'>，</span>属于国家所有：（一）中国境内出土<span style='color:red'>的</span><span style='color:red'>文物</span><span style='color:red'>，</span>国家另有规定<span style='color:red'>的</span>除外；（二）<span style='color:red'>国有</span><span style='color:red'>文物</span>收藏单位以及其他国家机关<span style='color:red'>、</span>部队<span style='color:red'>和</span><span style='color:red'>国有</span>企业<span style='color:red'>、</span>事业组织等收藏<span style='color:red'>、</span>保管<span style='color:red'>的</span><span style='color:red'>文物</span>；（三）国家征集<span style='color:red'>、</span>购买<span style='color:red'>的</span><span style='color:red'>文物</span>；（四）公民<span style='color:red'>、</span>法人<span style='color:red'>和</span>其他组织捐赠给国家<span style='color:red'>的</span><span style='color:red'>文物</span>；（五）法律规定属于国家所有<span style='color:red'>的</span>其他<span style='color:red'>文物</span>。属于国家所有<span style='color:red'>的</span>可<span style='color:red'>移动</span><span style='color:red'>文物</span><span style='color:red'>的</span>所有权<span style='color:red'>不</span>因其保管<span style='color:red'>、</span>收藏单位<span style='color:red'>的</span>终止<span style='color:red'>或</span>者变更而改变。<span style='color:red'>国有</span><span style='color:red'>文物</span>所有权受法律保护<span style='color:red'>，</span><span style='color:red'>不</span>容侵犯。"
      ],
      "text/plain": [
       "<IPython.core.display.Markdown object>"
      ]
     },
     "metadata": {},
     "output_type": "display_data"
    },
    {
     "data": {
      "text/markdown": [
       "para_id: 8063182_T26"
      ],
      "text/plain": [
       "<IPython.core.display.Markdown object>"
      ]
     },
     "metadata": {},
     "output_type": "display_data"
    },
    {
     "data": {
      "text/markdown": [
       "第二十二条 第二十二条<span style='color:red'><span style='color:red'>不</span>可</span><span style='color:red'>移动</span><span style='color:red'>文物</span>已经全部毁坏<span style='color:red'>的</span><span style='color:red'>，</span><span style='color:red'>应</span>当实施遗址保护<span style='color:red'>，</span><span style='color:red'>不</span>得<span style='color:red'>在</span>原址<span style='color:red'>重建</span>。但是<span style='color:red'>，</span>因特殊情况<span style='color:red'>需要</span><span style='color:red'>在</span>原址<span style='color:red'>重建</span><span style='color:red'>的</span><span style='color:red'>，</span>由省<span style='color:red'>、</span>自治区<span style='color:red'>、</span>直辖市人民<span style='color:red'>政府</span><span style='color:red'>文物</span>行政部门报省<span style='color:red'>、</span>自治区<span style='color:red'>、</span>直辖市人民<span style='color:red'>政府</span>批准；全国重点<span style='color:red'>文物</span>保护单位<span style='color:red'>需要</span><span style='color:red'>在</span>原址<span style='color:red'>重建</span><span style='color:red'>的</span><span style='color:red'>，</span>由省<span style='color:red'>、</span>自治区<span style='color:red'>、</span>直辖市人民<span style='color:red'>政府</span>报国务院批准。"
      ],
      "text/plain": [
       "<IPython.core.display.Markdown object>"
      ]
     },
     "metadata": {},
     "output_type": "display_data"
    },
    {
     "data": {
      "text/markdown": [
       "para_id: 8063182_T78"
      ],
      "text/plain": [
       "<IPython.core.display.Markdown object>"
      ]
     },
     "metadata": {},
     "output_type": "display_data"
    },
    {
     "data": {
      "text/markdown": [
       "第六十八条 第六十八条有下列行为之一<span style='color:red'>的</span><span style='color:red'>，</span>由<span style='color:red'>县级</span><span style='color:red'>以上</span>人民<span style='color:red'>政府</span><span style='color:red'>文物</span>主管部门责令改正<span style='color:red'>，</span>没收违法所得<span style='color:red'>，</span>违法所得一万元<span style='color:red'>以上</span><span style='color:red'>的</span><span style='color:red'>，</span>并处违法所得二倍<span style='color:red'>以上</span>五倍以下<span style='color:red'>的</span>罚款；违法所得<span style='color:red'>不</span>足一万元<span style='color:red'>的</span><span style='color:red'>，</span>并处五千元<span style='color:red'>以上</span>二万元以下<span style='color:red'>的</span>罚款：（一）转让<span style='color:red'>或</span>者抵押<span style='color:red'>国有</span><span style='color:red'><span style='color:red'>不</span>可</span><span style='color:red'>移动</span><span style='color:red'>文物</span><span style='color:red'>，</span><span style='color:red'>或</span>者将<span style='color:red'>国有</span><span style='color:red'><span style='color:red'>不</span>可</span><span style='color:red'>移动</span><span style='color:red'>文物</span>作为企业资产经营<span style='color:red'>的</span>；（二）将非<span style='color:red'>国有</span><span style='color:red'><span style='color:red'>不</span>可</span><span style='color:red'>移动</span><span style='color:red'>文物</span>转让<span style='color:red'>或</span>者抵押给外国人<span style='color:red'>的</span>；（三）擅自改变<span style='color:red'>国有</span><span style='color:red'>文物</span>保护单位<span style='color:red'>的</span>用途<span style='color:red'>的</span>。"
      ],
      "text/plain": [
       "<IPython.core.display.Markdown object>"
      ]
     },
     "metadata": {},
     "output_type": "display_data"
    },
    {
     "data": {
      "text/markdown": [
       "para_id: 8063182_T06"
      ],
      "text/plain": [
       "<IPython.core.display.Markdown object>"
      ]
     },
     "metadata": {},
     "output_type": "display_data"
    },
    {
     "data": {
      "text/markdown": [
       "第三条 第三条古文化遗址<span style='color:red'>、</span>古墓葬<span style='color:red'>、</span>古建筑<span style='color:red'>、</span>石窟寺<span style='color:red'>、</span>石刻<span style='color:red'>、</span>壁画<span style='color:red'>、</span>近代现代重要史迹<span style='color:red'>和</span>代表性建筑等<span style='color:red'><span style='color:red'>不</span>可</span><span style='color:red'>移动</span><span style='color:red'>文物</span><span style='color:red'>，</span>根据它们<span style='color:red'>的</span>历史<span style='color:red'>、</span>艺术<span style='color:red'>、</span>科学价值<span style='color:red'>，</span>可以分别确定为全国重点<span style='color:red'>文物</span>保护单位<span style='color:red'>，</span>省级<span style='color:red'>文物</span>保护单位<span style='color:red'>，</span>市<span style='color:red'>、</span><span style='color:red'>县级</span><span style='color:red'>文物</span>保护单位。历史上各<span style='color:red'>时</span>代重要实物<span style='color:red'>、</span>艺术品<span style='color:red'>、</span>文献<span style='color:red'>、</span>手稿<span style='color:red'>、</span>图书资料<span style='color:red'>、</span>代表性实物等可<span style='color:red'>移动</span><span style='color:red'>文物</span><span style='color:red'>，</span>分为珍贵<span style='color:red'>文物</span><span style='color:red'>和</span>一般<span style='color:red'>文物</span>；珍贵<span style='color:red'>文物</span>分为一级<span style='color:red'>文物</span><span style='color:red'>、</span>二级<span style='color:red'>文物</span><span style='color:red'>、</span>三级<span style='color:red'>文物</span>。"
      ],
      "text/plain": [
       "<IPython.core.display.Markdown object>"
      ]
     },
     "metadata": {},
     "output_type": "display_data"
    },
    {
     "data": {
      "text/markdown": [
       "para_id: 8063182_T19"
      ],
      "text/plain": [
       "<IPython.core.display.Markdown object>"
      ]
     },
     "metadata": {},
     "output_type": "display_data"
    },
    {
     "data": {
      "text/markdown": [
       "第十五条 第十五条各级<span style='color:red'>文物</span>保护单位<span style='color:red'>，</span>分别由省<span style='color:red'>、</span>自治区<span style='color:red'>、</span>直辖市人民<span style='color:red'>政府</span><span style='color:red'>和</span>市<span style='color:red'>、</span><span style='color:red'>县级</span>人民<span style='color:red'>政府</span>划定必要<span style='color:red'>的</span>保护范围<span style='color:red'>，</span>作出标志说明<span style='color:red'>，</span>建立记录档案<span style='color:red'>，</span>并区别情况分别设置专门机构<span style='color:red'>或</span>者专人负责管理。全国重点<span style='color:red'>文物</span>保护单位<span style='color:red'>的</span>保护范围<span style='color:red'>和</span>记录档案<span style='color:red'>，</span>由省<span style='color:red'>、</span>自治区<span style='color:red'>、</span>直辖市人民<span style='color:red'>政府</span><span style='color:red'>文物</span>行政部门报国务院<span style='color:red'>文物</span>行政部门备案。<span style='color:red'>县级</span><span style='color:red'>以上</span>地方人民<span style='color:red'>政府</span><span style='color:red'>文物</span>行政部门<span style='color:red'>应</span>当根据<span style='color:red'>不</span>同<span style='color:red'>文物</span><span style='color:red'>的</span>保护<span style='color:red'>需要</span><span style='color:red'>，</span>制定<span style='color:red'>文物</span>保护单位<span style='color:red'>和</span>未核定为<span style='color:red'>文物</span>保护单位<span style='color:red'>的</span><span style='color:red'><span style='color:red'>不</span>可</span><span style='color:red'>移动</span><span style='color:red'>文物</span><span style='color:red'>的</span>具体保护措施<span style='color:red'>，</span>并公告施行。"
      ],
      "text/plain": [
       "<IPython.core.display.Markdown object>"
      ]
     },
     "metadata": {},
     "output_type": "display_data"
    },
    {
     "data": {
      "text/markdown": [
       "para_id: 8063182_T29"
      ],
      "text/plain": [
       "<IPython.core.display.Markdown object>"
      ]
     },
     "metadata": {},
     "output_type": "display_data"
    },
    {
     "data": {
      "text/markdown": [
       "第二十五条 第二十五条非<span style='color:red'>国有</span><span style='color:red'><span style='color:red'>不</span>可</span><span style='color:red'>移动</span><span style='color:red'>文物</span><span style='color:red'>不</span>得转让<span style='color:red'>、</span>抵押给外国人。非<span style='color:red'>国有</span><span style='color:red'><span style='color:red'>不</span>可</span><span style='color:red'>移动</span><span style='color:red'>文物</span>转让<span style='color:red'>、</span>抵押<span style='color:red'>或</span>者改变用途<span style='color:red'>的</span><span style='color:red'>，</span><span style='color:red'>应</span>当根据其级别报相<span style='color:red'>应</span><span style='color:red'>的</span><span style='color:red'>文物</span>行政部门备案。"
      ],
      "text/plain": [
       "<IPython.core.display.Markdown object>"
      ]
     },
     "metadata": {},
     "output_type": "display_data"
    },
    {
     "data": {
      "text/markdown": [
       "para_id: 8063182_T16"
      ],
      "text/plain": [
       "<IPython.core.display.Markdown object>"
      ]
     },
     "metadata": {},
     "output_type": "display_data"
    },
    {
     "data": {
      "text/markdown": [
       "第十二条 第十二条有下列事迹<span style='color:red'>的</span>单位<span style='color:red'>或</span>者个人<span style='color:red'>，</span>由国家给予精神鼓励<span style='color:red'>或</span>者物质奖励：（一）认真执行<span style='color:red'>文物</span>保护法律<span style='color:red'>、</span>法规<span style='color:red'>，</span>保护<span style='color:red'>文物</span>成绩显著<span style='color:red'>的</span>；（二）为保护<span style='color:red'>文物</span>与违法犯罪行为作坚决斗争<span style='color:red'>的</span>；（三）将个人收藏<span style='color:red'>的</span>重要<span style='color:red'>文物</span>捐献给国家<span style='color:red'>或</span>者为<span style='color:red'>文物</span>保护事业作出捐赠<span style='color:red'>的</span>；（四）发现<span style='color:red'>文物</span>及<span style='color:red'>时</span>上报<span style='color:red'>或</span>者上交<span style='color:red'>，</span>使<span style='color:red'>文物</span>得到保护<span style='color:red'>的</span>；（五）<span style='color:red'>在</span>考古发掘工作中作出重大贡献<span style='color:red'>的</span>；（六）<span style='color:red'>在</span><span style='color:red'>文物</span>保护科学技术方面有重要发明创造<span style='color:red'>或</span>者其他重要贡献<span style='color:red'>的</span>；（七）<span style='color:red'>在</span><span style='color:red'>文物</span>面临破坏危险<span style='color:red'>时</span><span style='color:red'>，</span>抢救<span style='color:red'>文物</span>有功<span style='color:red'>的</span>；（八）长期从事<span style='color:red'>文物</span>工作<span style='color:red'>，</span>作出显著成绩<span style='color:red'>的</span>。第二章　<span style='color:red'><span style='color:red'>不</span>可</span><span style='color:red'>移动</span><span style='color:red'>文物</span>"
      ],
      "text/plain": [
       "<IPython.core.display.Markdown object>"
      ]
     },
     "metadata": {},
     "output_type": "display_data"
    },
    {
     "data": {
      "text/markdown": [
       "para_id: 8063182_T91"
      ],
      "text/plain": [
       "<IPython.core.display.Markdown object>"
      ]
     },
     "metadata": {},
     "output_type": "display_data"
    },
    {
     "data": {
      "text/markdown": [
       "第七十六条 第七十六条<span style='color:red'>文物</span>行政部门<span style='color:red'>、</span><span style='color:red'>文物</span>收藏单位<span style='color:red'>、</span><span style='color:red'>文物</span>商店<span style='color:red'>、</span>经营<span style='color:red'>文物</span>拍卖<span style='color:red'>的</span>拍卖企业<span style='color:red'>的</span>工作人员<span style='color:red'>，</span>有下列行为之一<span style='color:red'>的</span><span style='color:red'>，</span>依法给予行政处分<span style='color:red'>，</span>情节严重<span style='color:red'>的</span><span style='color:red'>，</span>依法开除公职<span style='color:red'>或</span>者吊销其从业资格；构成犯罪<span style='color:red'>的</span><span style='color:red'>，</span>依法追究刑事<span style='color:red'>责任</span>：（一）<span style='color:red'>文物</span>行政部门<span style='color:red'>的</span>工作人员违反本法规定<span style='color:red'>，</span>滥用<span style='color:red'>审批</span>权限<span style='color:red'>、</span><span style='color:red'>不</span>履行职责<span style='color:red'>或</span>者发现违法行为<span style='color:red'>不</span>予查处<span style='color:red'>，</span>造成严重后果<span style='color:red'>的</span>；（二）<span style='color:red'>文物</span>行政部门<span style='color:red'>和</span><span style='color:red'>国有</span><span style='color:red'>文物</span>收藏单位<span style='color:red'>的</span>工作人员借用<span style='color:red'>或</span>者非法侵占<span style='color:red'>国有</span><span style='color:red'>文物</span><span style='color:red'>的</span>；（三）<span style='color:red'>文物</span>行政部门<span style='color:red'>的</span>工作人员举办<span style='color:red'>或</span>者参与举办<span style='color:red'>文物</span>商店<span style='color:red'>或</span>者经营<span style='color:red'>文物</span>拍卖<span style='color:red'>的</span>拍卖企业<span style='color:red'>的</span>；（四）因<span style='color:red'>不</span>负<span style='color:red'>责任</span>造成<span style='color:red'>文物</span>保护单位<span style='color:red'>、</span>珍贵<span style='color:red'>文物</span>损毁<span style='color:red'>或</span>者流失<span style='color:red'>的</span>；（五）贪污<span style='color:red'>、</span>挪用<span style='color:red'>文物</span>保护经费<span style='color:red'>的</span>。前款被开除公职<span style='color:red'>或</span>者被吊销从业资格<span style='color:red'>的</span>人员<span style='color:red'>，</span>自被开除公职<span style='color:red'>或</span>者被吊销从业资格之日起十年内<span style='color:red'>不</span>得担任<span style='color:red'>文物</span>管理人员<span style='color:red'>或</span>者从事<span style='color:red'>文物</span>经营活动。"
      ],
      "text/plain": [
       "<IPython.core.display.Markdown object>"
      ]
     },
     "metadata": {},
     "output_type": "display_data"
    },
    {
     "data": {
      "text/markdown": [
       "para_id: 8063182_T27"
      ],
      "text/plain": [
       "<IPython.core.display.Markdown object>"
      ]
     },
     "metadata": {},
     "output_type": "display_data"
    },
    {
     "data": {
      "text/markdown": [
       "第二十三条 第二十三条核定为<span style='color:red'>文物</span>保护单位<span style='color:red'>的</span>属于国家所有<span style='color:red'>的</span>纪念建筑物<span style='color:red'>或</span>者古建筑<span style='color:red'>，</span>除可以建立博物馆<span style='color:red'>、</span>保管所<span style='color:red'>或</span>者辟为参观游览场所外<span style='color:red'>，</span>作其他用途<span style='color:red'>的</span><span style='color:red'>，</span>市<span style='color:red'>、</span><span style='color:red'>县级</span><span style='color:red'>文物</span>保护单位<span style='color:red'>应</span>当经核定公布该<span style='color:red'>文物</span>保护单位<span style='color:red'>的</span>人民<span style='color:red'>政府</span><span style='color:red'>文物</span>行政部门征得上一级<span style='color:red'>文物</span>行政部门同意后<span style='color:red'>，</span>报核定公布该<span style='color:red'>文物</span>保护单位<span style='color:red'>的</span>人民<span style='color:red'>政府</span>批准；省级<span style='color:red'>文物</span>保护单位<span style='color:red'>应</span>当经核定公布该<span style='color:red'>文物</span>保护单位<span style='color:red'>的</span>省级人民<span style='color:red'>政府</span><span style='color:red'>的</span><span style='color:red'>文物</span>行政部门审核同意后<span style='color:red'>，</span>报该省级人民<span style='color:red'>政府</span>批准；全国重点<span style='color:red'>文物</span>保护单位作其他用途<span style='color:red'>的</span><span style='color:red'>，</span><span style='color:red'>应</span>当由省<span style='color:red'>、</span>自治区<span style='color:red'>、</span>直辖市人民<span style='color:red'>政府</span>报国务院批准。<span style='color:red'>国有</span>未核定为<span style='color:red'>文物</span>保护单位<span style='color:red'>的</span><span style='color:red'><span style='color:red'>不</span>可</span><span style='color:red'>移动</span><span style='color:red'>文物</span>作其他用途<span style='color:red'>的</span><span style='color:red'>，</span><span style='color:red'>应</span>当报告<span style='color:red'>县级</span>人民<span style='color:red'>政府</span><span style='color:red'>文物</span>行政部门。"
      ],
      "text/plain": [
       "<IPython.core.display.Markdown object>"
      ]
     },
     "metadata": {},
     "output_type": "display_data"
    },
    {
     "data": {
      "text/markdown": [
       "para_id: 8063182_T57"
      ],
      "text/plain": [
       "<IPython.core.display.Markdown object>"
      ]
     },
     "metadata": {},
     "output_type": "display_data"
    },
    {
     "data": {
      "text/markdown": [
       "第五十一条 第五十一条公民<span style='color:red'>、</span>法人<span style='color:red'>和</span>其他组织<span style='color:red'>不</span>得买卖下列<span style='color:red'>文物</span>：（一）<span style='color:red'>国有</span><span style='color:red'>文物</span><span style='color:red'>，</span>但是国家允许<span style='color:red'>的</span>除外；（二）非<span style='color:red'>国有</span>馆藏珍贵<span style='color:red'>文物</span>；（三）<span style='color:red'>国有</span><span style='color:red'><span style='color:red'>不</span>可</span><span style='color:red'>移动</span><span style='color:red'>文物</span>中<span style='color:red'>的</span>壁画<span style='color:red'>、</span>雕塑<span style='color:red'>、</span>建筑构件等<span style='color:red'>，</span>但是依法拆除<span style='color:red'>的</span><span style='color:red'>国有</span><span style='color:red'><span style='color:red'>不</span>可</span><span style='color:red'>移动</span><span style='color:red'>文物</span>中<span style='color:red'>的</span>壁画<span style='color:red'>、</span>雕塑<span style='color:red'>、</span>建筑构件等<span style='color:red'>不</span>属于本法"
      ],
      "text/plain": [
       "<IPython.core.display.Markdown object>"
      ]
     },
     "metadata": {},
     "output_type": "display_data"
    },
    {
     "data": {
      "text/markdown": [
       "para_id: 8063182_T17"
      ],
      "text/plain": [
       "<IPython.core.display.Markdown object>"
      ]
     },
     "metadata": {},
     "output_type": "display_data"
    },
    {
     "data": {
      "text/markdown": [
       "第十三条 第十三条国务院<span style='color:red'>文物</span>行政部门<span style='color:red'>在</span>省级<span style='color:red'>、</span>市<span style='color:red'>、</span><span style='color:red'>县级</span><span style='color:red'>文物</span>保护单位中<span style='color:red'>，</span>选择具有重大历史<span style='color:red'>、</span>艺术<span style='color:red'>、</span>科学价值<span style='color:red'>的</span>确定为全国重点<span style='color:red'>文物</span>保护单位<span style='color:red'>，</span><span style='color:red'>或</span>者直接确定为全国重点<span style='color:red'>文物</span>保护单位<span style='color:red'>，</span>报国务院核定公布。省级<span style='color:red'>文物</span>保护单位<span style='color:red'>，</span>由省<span style='color:red'>、</span>自治区<span style='color:red'>、</span>直辖市人民<span style='color:red'>政府</span>核定公布<span style='color:red'>，</span>并报国务院备案。市级<span style='color:red'>和</span><span style='color:red'>县级</span><span style='color:red'>文物</span>保护单位<span style='color:red'>，</span>分别由设区<span style='color:red'>的</span>市<span style='color:red'>、</span>自治州<span style='color:red'>和</span><span style='color:red'>县级</span>人民<span style='color:red'>政府</span>核定公布<span style='color:red'>，</span>并报省<span style='color:red'>、</span>自治区<span style='color:red'>、</span>直辖市人民<span style='color:red'>政府</span>备案。尚未核定公布为<span style='color:red'>文物</span>保护单位<span style='color:red'>的</span><span style='color:red'><span style='color:red'>不</span>可</span><span style='color:red'>移动</span><span style='color:red'>文物</span><span style='color:red'>，</span>由<span style='color:red'>县级</span>人民<span style='color:red'>政府</span><span style='color:red'>文物</span>行政部门予以登记并公布。"
      ],
      "text/plain": [
       "<IPython.core.display.Markdown object>"
      ]
     },
     "metadata": {},
     "output_type": "display_data"
    },
    {
     "data": {
      "text/markdown": [
       "para_id: 8063182_T80"
      ],
      "text/plain": [
       "<IPython.core.display.Markdown object>"
      ]
     },
     "metadata": {},
     "output_type": "display_data"
    },
    {
     "data": {
      "text/markdown": [
       "第七十条 第七十条有下列行为之一<span style='color:red'>，</span>尚<span style='color:red'>不</span>构成犯罪<span style='color:red'>的</span><span style='color:red'>，</span>由<span style='color:red'>县级</span><span style='color:red'>以上</span>人民<span style='color:red'>政府</span><span style='color:red'>文物</span>主管部门责令改正<span style='color:red'>，</span>可以并处二万元以下<span style='color:red'>的</span>罚款<span style='color:red'>，</span>有违法所得<span style='color:red'>的</span><span style='color:red'>，</span>没收违法所得：（一）<span style='color:red'>文物</span>收藏单位未按照国家有关规定配备防火<span style='color:red'>、</span>防盗<span style='color:red'>、</span>防自然损坏<span style='color:red'>的</span>设施<span style='color:red'>的</span>；（二）<span style='color:red'>国有</span><span style='color:red'>文物</span>收藏单位法定代表人离任<span style='color:red'>时</span>未按照馆藏<span style='color:red'>文物</span>档案移交馆藏<span style='color:red'>文物</span><span style='color:red'>，</span><span style='color:red'>或</span>者所移交<span style='color:red'>的</span>馆藏<span style='color:red'>文物</span>与馆藏<span style='color:red'>文物</span>档案<span style='color:red'>不</span>符<span style='color:red'>的</span>；（三）将<span style='color:red'>国有</span>馆藏<span style='color:red'>文物</span>赠与<span style='color:red'>、</span>出租<span style='color:red'>或</span>者出售给其他单位<span style='color:red'>、</span>个人<span style='color:red'>的</span>；（四）违反本法"
      ],
      "text/plain": [
       "<IPython.core.display.Markdown object>"
      ]
     },
     "metadata": {},
     "output_type": "display_data"
    },
    {
     "data": {
      "text/markdown": [
       "para_id: 8063182_T14"
      ],
      "text/plain": [
       "<IPython.core.display.Markdown object>"
      ]
     },
     "metadata": {},
     "output_type": "display_data"
    },
    {
     "data": {
      "text/markdown": [
       "第十条 第十条国家发展<span style='color:red'>文物</span>保护事业。<span style='color:red'>县级</span><span style='color:red'>以上</span>人民<span style='color:red'>政府</span><span style='color:red'>应</span>当将<span style='color:red'>文物</span>保护事业纳入本级国民经济<span style='color:red'>和</span>社会发展规划<span style='color:red'>，</span>所需经费列入本级财政预算。国家用于<span style='color:red'>文物</span>保护<span style='color:red'>的</span>财政拨款随着财政收入增长而增加。<span style='color:red'>国有</span>博物馆<span style='color:red'>、</span>纪念馆<span style='color:red'>、</span><span style='color:red'>文物</span>保护单位等<span style='color:red'>的</span>事业性收入<span style='color:red'>，</span>专门用于<span style='color:red'>文物</span>保护<span style='color:red'>，</span>任何单位<span style='color:red'>或</span>者个人<span style='color:red'>不</span>得侵占<span style='color:red'>、</span>挪用。国家鼓励通过捐赠等方式设立<span style='color:red'>文物</span>保护社会基金<span style='color:red'>，</span>专门用于<span style='color:red'>文物</span>保护<span style='color:red'>，</span>任何单位<span style='color:red'>或</span>者个人<span style='color:red'>不</span>得侵占<span style='color:red'>、</span>挪用。"
      ],
      "text/plain": [
       "<IPython.core.display.Markdown object>"
      ]
     },
     "metadata": {},
     "output_type": "display_data"
    },
    {
     "data": {
      "text/markdown": [
       "para_id: 8063182_T28"
      ],
      "text/plain": [
       "<IPython.core.display.Markdown object>"
      ]
     },
     "metadata": {},
     "output_type": "display_data"
    },
    {
     "data": {
      "text/markdown": [
       "第二十四条 第二十四条<span style='color:red'>国有</span><span style='color:red'><span style='color:red'>不</span>可</span><span style='color:red'>移动</span><span style='color:red'>文物</span><span style='color:red'>不</span>得转让<span style='color:red'>、</span>抵押。建立博物馆<span style='color:red'>、</span>保管所<span style='color:red'>或</span>者辟为参观游览场所<span style='color:red'>的</span><span style='color:red'>国有</span><span style='color:red'>文物</span>保护单位<span style='color:red'>，</span><span style='color:red'>不</span>得作为企业资产经营。"
      ],
      "text/plain": [
       "<IPython.core.display.Markdown object>"
      ]
     },
     "metadata": {},
     "output_type": "display_data"
    },
    {
     "data": {
      "text/markdown": [
       "para_id: 8063182_T03"
      ],
      "text/plain": [
       "<IPython.core.display.Markdown object>"
      ]
     },
     "metadata": {},
     "output_type": "display_data"
    },
    {
     "data": {
      "text/markdown": [
       "第三十一条 第三十一条<span style='color:red'>的</span>决定》第一次修正　2002年10月28日第九届全国人民代表大会常务委员会第三十次会议修订　根据2007年12月29日第十届全国人民代表大会常务委员会第三十一次会议《关于修改〈中华人民共<span style='color:red'>和</span>国<span style='color:red'>文物</span>保护法〉<span style='color:red'>的</span>决定》第二次修正　根据2013年6月29日第十二届全国人民代表大会常务委员会第三次会议《关于修改〈中华人民共<span style='color:red'>和</span>国<span style='color:red'>文物</span>保护法〉等十二部法律<span style='color:red'>的</span>决定》第三次修正　根据2015年4月24日第十二届全国人民代表大会常务委员会第十四次会议《关于修改〈中华人民共<span style='color:red'>和</span>国<span style='color:red'>文物</span>保护法〉<span style='color:red'>的</span>决定》第四次修正　根据2017年11月4日第十二届全国人民代表大会常务委员会第三十次会议《关于修改〈中华人民共<span style='color:red'>和</span>国会计法〉等十一部法律<span style='color:red'>的</span>决定》第五次修正）中华人民共<span style='color:red'>和</span>国<span style='color:red'>文物</span>保护法(2017修正)目录第一章　总 则第二章　<span style='color:red'><span style='color:red'>不</span>可</span><span style='color:red'>移动</span><span style='color:red'>文物</span>第三章　考古发掘第四章　馆藏<span style='color:red'>文物</span>第五章　民间收藏<span style='color:red'>文物</span>第六章　<span style='color:red'>文物</span>出境进境第七章　法律<span style='color:red'>责任</span>第八章　附 则第一章　总 则"
      ],
      "text/plain": [
       "<IPython.core.display.Markdown object>"
      ]
     },
     "metadata": {},
     "output_type": "display_data"
    },
    {
     "data": {
      "text/markdown": [
       "para_id: 8063182_T40"
      ],
      "text/plain": [
       "<IPython.core.display.Markdown object>"
      ]
     },
     "metadata": {},
     "output_type": "display_data"
    },
    {
     "data": {
      "text/markdown": [
       "第三十六条 第三十六条博物馆<span style='color:red'>、</span>图书馆<span style='color:red'>和</span>其他<span style='color:red'>文物</span>收藏单位<span style='color:red'>对</span>收藏<span style='color:red'>的</span><span style='color:red'>文物</span><span style='color:red'>，</span><span style='color:red'>必须</span>区分<span style='color:red'>文物</span>等级<span style='color:red'>，</span>设置藏品档案<span style='color:red'>，</span>建立严格<span style='color:red'>的</span>管理制度<span style='color:red'>，</span>并报主管<span style='color:red'>的</span><span style='color:red'>文物</span>行政部门备案。<span style='color:red'>县级</span><span style='color:red'>以上</span>地方人民<span style='color:red'>政府</span><span style='color:red'>文物</span>行政部门<span style='color:red'>应</span>当分别建立本行政区域内<span style='color:red'>的</span>馆藏<span style='color:red'>文物</span>档案；国务院<span style='color:red'>文物</span>行政部门<span style='color:red'>应</span>当建立国家一级<span style='color:red'>文物</span>藏品档案<span style='color:red'>和</span>其主管<span style='color:red'>的</span><span style='color:red'>国有</span><span style='color:red'>文物</span>收藏单位馆藏<span style='color:red'>文物</span>档案。"
      ],
      "text/plain": [
       "<IPython.core.display.Markdown object>"
      ]
     },
     "metadata": {},
     "output_type": "display_data"
    },
    {
     "data": {
      "text/markdown": [
       "para_id: 8063182_T73"
      ],
      "text/plain": [
       "<IPython.core.display.Markdown object>"
      ]
     },
     "metadata": {},
     "output_type": "display_data"
    },
    {
     "data": {
      "text/markdown": [
       "第六十四条 第六十四条违反本法规定<span style='color:red'>，</span>有下列行为之一<span style='color:red'>，</span>构成犯罪<span style='color:red'>的</span><span style='color:red'>，</span>依法追究刑事<span style='color:red'>责任</span>：（一）盗掘古文化遗址<span style='color:red'>、</span>古墓葬<span style='color:red'>的</span>；（二）故意<span style='color:red'>或</span>者过失损毁国家保护<span style='color:red'>的</span>珍贵<span style='color:red'>文物</span><span style='color:red'>的</span>；（三）擅自将<span style='color:red'>国有</span>馆藏<span style='color:red'>文物</span>出售<span style='color:red'>或</span>者私自送给非<span style='color:red'>国有</span>单位<span style='color:red'>或</span>者个人<span style='color:red'>的</span>；（四）将国家禁止出境<span style='color:red'>的</span>珍贵<span style='color:red'>文物</span>私自出售<span style='color:red'>或</span>者送给外国人<span style='color:red'>的</span>；（五）以牟利为目<span style='color:red'>的</span>倒卖国家禁止经营<span style='color:red'>的</span><span style='color:red'>文物</span><span style='color:red'>的</span>；（六）走私<span style='color:red'>文物</span><span style='color:red'>的</span>；（七）盗窃<span style='color:red'>、</span>哄抢<span style='color:red'>、</span>私分<span style='color:red'>或</span>者非法侵占<span style='color:red'>国有</span><span style='color:red'>文物</span><span style='color:red'>的</span>；（八）<span style='color:red'>应</span>当追究刑事<span style='color:red'>责任</span><span style='color:red'>的</span>其他妨害<span style='color:red'>文物</span>管理行为。"
      ],
      "text/plain": [
       "<IPython.core.display.Markdown object>"
      ]
     },
     "metadata": {},
     "output_type": "display_data"
    },
    {
     "data": {
      "text/markdown": [
       "para_id: 8063182_T52"
      ],
      "text/plain": [
       "<IPython.core.display.Markdown object>"
      ]
     },
     "metadata": {},
     "output_type": "display_data"
    },
    {
     "data": {
      "text/markdown": [
       "第四十六条 第四十六条修复馆藏<span style='color:red'>文物</span><span style='color:red'>，</span><span style='color:red'>不</span>得改变馆藏<span style='color:red'>文物</span><span style='color:red'>的</span>原状；复制<span style='color:red'>、</span>拍摄<span style='color:red'>、</span>拓印馆藏<span style='color:red'>文物</span><span style='color:red'>，</span><span style='color:red'>不</span>得<span style='color:red'>对</span>馆藏<span style='color:red'>文物</span>造成损害。具体管理办法由国务院制定。<span style='color:red'><span style='color:red'>不</span>可</span><span style='color:red'>移动</span><span style='color:red'>文物</span><span style='color:red'>的</span>单体<span style='color:red'>文物</span><span style='color:red'>的</span>修复<span style='color:red'>、</span>复制<span style='color:red'>、</span>拍摄<span style='color:red'>、</span>拓印<span style='color:red'>，</span>适用前款规定。"
      ],
      "text/plain": [
       "<IPython.core.display.Markdown object>"
      ]
     },
     "metadata": {},
     "output_type": "display_data"
    },
    {
     "data": {
      "text/markdown": [
       "para_id: 8063182_T42"
      ],
      "text/plain": [
       "<IPython.core.display.Markdown object>"
      ]
     },
     "metadata": {},
     "output_type": "display_data"
    },
    {
     "data": {
      "text/markdown": [
       "第三十八条 第三十八条<span style='color:red'>文物</span>收藏单位<span style='color:red'>应</span>当根据馆藏<span style='color:red'>文物</span><span style='color:red'>的</span>保护<span style='color:red'>需要</span><span style='color:red'>，</span>按照国家有关规定建立<span style='color:red'>、</span>健全管理制度<span style='color:red'>，</span>并报主管<span style='color:red'>的</span><span style='color:red'>文物</span>行政部门备案。未经批准<span style='color:red'>，</span>任何单位<span style='color:red'>或</span>者个人<span style='color:red'>不</span>得调取馆藏<span style='color:red'>文物</span>。<span style='color:red'>文物</span>收藏单位<span style='color:red'>的</span>法定代表人<span style='color:red'>对</span>馆藏<span style='color:red'>文物</span><span style='color:red'>的</span>安全负责。<span style='color:red'>国有</span><span style='color:red'>文物</span>收藏单位<span style='color:red'>的</span>法定代表人离任<span style='color:red'>时</span><span style='color:red'>，</span><span style='color:red'>应</span>当按照馆藏<span style='color:red'>文物</span>档案办理馆藏<span style='color:red'>文物</span>移交手续。"
      ],
      "text/plain": [
       "<IPython.core.display.Markdown object>"
      ]
     },
     "metadata": {},
     "output_type": "display_data"
    },
    {
     "data": {
      "text/markdown": [
       "para_id: 8063182_T49"
      ],
      "text/plain": [
       "<IPython.core.display.Markdown object>"
      ]
     },
     "metadata": {},
     "output_type": "display_data"
    },
    {
     "data": {
      "text/markdown": [
       "第四十三条 第四十三条依法调拨<span style='color:red'>、</span>交换<span style='color:red'>、</span>借用<span style='color:red'>国有</span>馆藏<span style='color:red'>文物</span><span style='color:red'>，</span>取得<span style='color:red'>文物</span><span style='color:red'>的</span><span style='color:red'>文物</span>收藏单位可以<span style='color:red'>对</span>提供<span style='color:red'>文物</span><span style='color:red'>的</span><span style='color:red'>文物</span>收藏单位给予合理补偿<span style='color:red'>，</span>具体管理办法由国务院<span style='color:red'>文物</span>行政部门制定。<span style='color:red'>国有</span><span style='color:red'>文物</span>收藏单位调拨<span style='color:red'>、</span>交换<span style='color:red'>、</span>出借<span style='color:red'>文物</span>所得<span style='color:red'>的</span>补偿费用<span style='color:red'>，</span><span style='color:red'>必须</span>用于改善<span style='color:red'>文物</span><span style='color:red'>的</span>收藏条件<span style='color:red'>和</span>收集新<span style='color:red'>的</span><span style='color:red'>文物</span><span style='color:red'>，</span><span style='color:red'>不</span>得挪作他用；任何单位<span style='color:red'>或</span>者个人<span style='color:red'>不</span>得侵占。调拨<span style='color:red'>、</span>交换<span style='color:red'>、</span>借用<span style='color:red'>的</span><span style='color:red'>文物</span><span style='color:red'>必须</span>严格保管<span style='color:red'>，</span><span style='color:red'>不</span>得丢失<span style='color:red'>、</span>损毁。"
      ],
      "text/plain": [
       "<IPython.core.display.Markdown object>"
      ]
     },
     "metadata": {},
     "output_type": "display_data"
    },
    {
     "data": {
      "text/markdown": [
       "para_id: 8063182_T15"
      ],
      "text/plain": [
       "<IPython.core.display.Markdown object>"
      ]
     },
     "metadata": {},
     "output_type": "display_data"
    },
    {
     "data": {
      "text/markdown": [
       "第十一条 第十一条<span style='color:red'>文物</span>是<span style='color:red'><span style='color:red'>不</span>可</span>再生<span style='color:red'>的</span>文化资源。国家加强<span style='color:red'>文物</span>保护<span style='color:red'>的</span>宣传教育<span style='color:red'>，</span>增强全民<span style='color:red'>文物</span>保护<span style='color:red'>的</span>意识<span style='color:red'>，</span>鼓励<span style='color:red'>文物</span>保护<span style='color:red'>的</span>科学研究<span style='color:red'>，</span>提高<span style='color:red'>文物</span>保护<span style='color:red'>的</span>科学技术水平。"
      ],
      "text/plain": [
       "<IPython.core.display.Markdown object>"
      ]
     },
     "metadata": {},
     "output_type": "display_data"
    },
    {
     "data": {
      "text/markdown": [
       "para_id: 8063182_T13"
      ],
      "text/plain": [
       "<IPython.core.display.Markdown object>"
      ]
     },
     "metadata": {},
     "output_type": "display_data"
    },
    {
     "data": {
      "text/markdown": [
       "第九条 第九条各级人民<span style='color:red'>政府</span><span style='color:red'>应</span>当重视<span style='color:red'>文物</span>保护<span style='color:red'>，</span>正确处理经济建设<span style='color:red'>、</span>社会发展与<span style='color:red'>文物</span>保护<span style='color:red'>的</span>关系<span style='color:red'>，</span>确保<span style='color:red'>文物</span>安全。基本建设<span style='color:red'>、</span>旅游发展<span style='color:red'>必须</span><span style='color:red'>遵守</span><span style='color:red'>文物</span>保护工作<span style='color:red'>的</span>方针<span style='color:red'>，</span>其活动<span style='color:red'>不</span>得<span style='color:red'>对</span><span style='color:red'>文物</span>造成损害。公安机关<span style='color:red'>、</span>工商行政管理部门<span style='color:red'>、</span>海关<span style='color:red'>、</span>城乡建设规划部门<span style='color:red'>和</span>其他有关国家机关<span style='color:red'>，</span><span style='color:red'>应</span>当依法认真履行所承担<span style='color:red'>的</span>保护<span style='color:red'>文物</span><span style='color:red'>的</span>职责<span style='color:red'>，</span>维护<span style='color:red'>文物</span>管理秩序。"
      ],
      "text/plain": [
       "<IPython.core.display.Markdown object>"
      ]
     },
     "metadata": {},
     "output_type": "display_data"
    },
    {
     "data": {
      "text/markdown": [
       "para_id: 8063182_T36"
      ],
      "text/plain": [
       "<IPython.core.display.Markdown object>"
      ]
     },
     "metadata": {},
     "output_type": "display_data"
    },
    {
     "data": {
      "text/markdown": [
       "第三十二条 第三十二条<span style='color:red'>在</span><span style='color:red'>进行</span>建设工程<span style='color:red'>或</span>者<span style='color:red'>在</span>农业生产中<span style='color:red'>，</span>任何单位<span style='color:red'>或</span>者个人发现<span style='color:red'>文物</span><span style='color:red'>，</span><span style='color:red'>应</span>当保护现场<span style='color:red'>，</span>立即报告当地<span style='color:red'>文物</span>行政部门<span style='color:red'>，</span><span style='color:red'>文物</span>行政部门接到报告后<span style='color:red'>，</span>如无特殊情况<span style='color:red'>，</span><span style='color:red'>应</span>当<span style='color:red'>在</span>二十四小<span style='color:red'>时</span>内赶赴现场<span style='color:red'>，</span>并<span style='color:red'>在</span>七日内提出处理意见。<span style='color:red'>文物</span>行政部门可以报请当地人民<span style='color:red'>政府</span>通知公安机关协助保护现场；发现重要<span style='color:red'>文物</span><span style='color:red'>的</span><span style='color:red'>，</span><span style='color:red'>应</span>当立即上报国务院<span style='color:red'>文物</span>行政部门<span style='color:red'>，</span>国务院<span style='color:red'>文物</span>行政部门<span style='color:red'>应</span>当<span style='color:red'>在</span>接到报告后十五日内提出处理意见。依照前款规定发现<span style='color:red'>的</span><span style='color:red'>文物</span>属于国家所有<span style='color:red'>，</span>任何单位<span style='color:red'>或</span>者个人<span style='color:red'>不</span>得哄抢<span style='color:red'>、</span>私分<span style='color:red'>、</span>藏匿。"
      ],
      "text/plain": [
       "<IPython.core.display.Markdown object>"
      ]
     },
     "metadata": {},
     "output_type": "display_data"
    },
    {
     "data": {
      "text/markdown": [
       "para_id: 8063182_T54"
      ],
      "text/plain": [
       "<IPython.core.display.Markdown object>"
      ]
     },
     "metadata": {},
     "output_type": "display_data"
    },
    {
     "data": {
      "text/markdown": [
       "第四十八条 第四十八条馆藏一级<span style='color:red'>文物</span>损毁<span style='color:red'>的</span><span style='color:red'>，</span><span style='color:red'>应</span>当报国务院<span style='color:red'>文物</span>行政部门核查处理。其他馆藏<span style='color:red'>文物</span>损毁<span style='color:red'>的</span><span style='color:red'>，</span><span style='color:red'>应</span>当报省<span style='color:red'>、</span>自治区<span style='color:red'>、</span>直辖市人民<span style='color:red'>政府</span><span style='color:red'>文物</span>行政部门核查处理；省<span style='color:red'>、</span>自治区<span style='color:red'>、</span>直辖市人民<span style='color:red'>政府</span><span style='color:red'>文物</span>行政部门<span style='color:red'>应</span>当将核查处理结果报国务院<span style='color:red'>文物</span>行政部门备案。馆藏<span style='color:red'>文物</span>被盗<span style='color:red'>、</span>被抢<span style='color:red'>或</span>者丢失<span style='color:red'>的</span><span style='color:red'>，</span><span style='color:red'>文物</span>收藏单位<span style='color:red'>应</span>当立即向公安机关报案<span style='color:red'>，</span>并同<span style='color:red'>时</span>向主管<span style='color:red'>的</span><span style='color:red'>文物</span>行政部门报告。"
      ],
      "text/plain": [
       "<IPython.core.display.Markdown object>"
      ]
     },
     "metadata": {},
     "output_type": "display_data"
    },
    {
     "data": {
      "text/markdown": [
       "para_id: 8063182_T90"
      ],
      "text/plain": [
       "<IPython.core.display.Markdown object>"
      ]
     },
     "metadata": {},
     "output_type": "display_data"
    },
    {
     "data": {
      "text/markdown": [
       "第三十八条 第三十八条规定<span style='color:red'>，</span>未经批准擅自调取馆藏<span style='color:red'>文物</span><span style='color:red'>的</span>；（七）馆藏<span style='color:red'>文物</span>损毁未报<span style='color:red'>文物</span>行政部门核查处理<span style='color:red'>，</span><span style='color:red'>或</span>者馆藏<span style='color:red'>文物</span>被盗<span style='color:red'>、</span>被抢<span style='color:red'>或</span>者丢失<span style='color:red'>，</span><span style='color:red'>文物</span>收藏单位未及<span style='color:red'>时</span>向公安机关<span style='color:red'>或</span>者<span style='color:red'>文物</span>行政部门报告<span style='color:red'>的</span>；（八）<span style='color:red'>文物</span>商店销售<span style='color:red'>文物</span><span style='color:red'>或</span>者拍卖企业拍卖<span style='color:red'>文物</span><span style='color:red'>，</span>未按照国家有关规定作出记录<span style='color:red'>或</span>者未将所作记录报<span style='color:red'>文物</span>行政部门备案<span style='color:red'>的</span>。"
      ],
      "text/plain": [
       "<IPython.core.display.Markdown object>"
      ]
     },
     "metadata": {},
     "output_type": "display_data"
    },
    {
     "data": {
      "text/markdown": [
       "para_id: 8063182_T60"
      ],
      "text/plain": [
       "<IPython.core.display.Markdown object>"
      ]
     },
     "metadata": {},
     "output_type": "display_data"
    },
    {
     "data": {
      "text/markdown": [
       "第五十二条 第五十二条国家鼓励<span style='color:red'>文物</span>收藏单位以外<span style='color:red'>的</span>公民<span style='color:red'>、</span>法人<span style='color:red'>和</span>其他组织将其收藏<span style='color:red'>的</span><span style='color:red'>文物</span>捐赠给<span style='color:red'>国有</span><span style='color:red'>文物</span>收藏单位<span style='color:red'>或</span>者出借给<span style='color:red'>文物</span>收藏单位展览<span style='color:red'>和</span>研究。<span style='color:red'>国有</span><span style='color:red'>文物</span>收藏单位<span style='color:red'>应</span>当尊重并按照捐赠人<span style='color:red'>的</span>意愿<span style='color:red'>，</span><span style='color:red'>对</span>捐赠<span style='color:red'>的</span><span style='color:red'>文物</span>妥善收藏<span style='color:red'>、</span>保管<span style='color:red'>和</span>展示。国家禁止出境<span style='color:red'>的</span><span style='color:red'>文物</span><span style='color:red'>，</span><span style='color:red'>不</span>得转让<span style='color:red'>、</span>出租<span style='color:red'>、</span>质押给外国人。"
      ],
      "text/plain": [
       "<IPython.core.display.Markdown object>"
      ]
     },
     "metadata": {},
     "output_type": "display_data"
    },
    {
     "data": {
      "text/markdown": [
       "para_id: 8063260_T07"
      ],
      "text/plain": [
       "<IPython.core.display.Markdown object>"
      ]
     },
     "metadata": {},
     "output_type": "display_data"
    },
    {
     "data": {
      "text/markdown": [
       "六<span style='color:red'>、</span> 六<span style='color:red'>、</span>加强行政事业单位资产处置管理<span style='color:red'>，</span>进一步规范资产处置行为（十八）资产处置<span style='color:red'>应</span>当遵循公开<span style='color:red'>、</span>公平<span style='color:red'>、</span>公正<span style='color:red'>的</span><span style='color:red'>原则</span><span style='color:red'>，</span>严格执行<span style='color:red'>国有</span>资产处置制度<span style='color:red'>，</span>履行<span style='color:red'>审批</span>手续<span style='color:red'>，</span>规范处置行为<span style='color:red'>，</span>防止<span style='color:red'>国有</span>资产流失。未按规定履行相关程序<span style='color:red'>的</span><span style='color:red'>，</span>任何单位<span style='color:red'>和</span>个人<span style='color:red'>不</span>得擅自处置<span style='color:red'>国有</span>资产。处置<span style='color:red'>国有</span>资产<span style='color:red'>原则</span>上<span style='color:red'>应</span>当按照规定程序<span style='color:red'>进行</span>资产评估<span style='color:red'>，</span>并通过拍卖<span style='color:red'>、</span>招投标等公开进场交易方式处置<span style='color:red'>，</span>杜绝暗箱操作。资产处置完成后<span style='color:red'>，</span><span style='color:red'>应</span>当及<span style='color:red'>时</span>办理产权变动并<span style='color:red'>进行</span>账务处理。（十九）各级财政部门<span style='color:red'>和</span>主管部门<span style='color:red'>应</span>当进一步加大<span style='color:red'>对</span>资产处置<span style='color:red'>的</span>监管力度<span style='color:red'>，</span>建立资产处置监督管理机制。主管部门根据财政部门授权<span style='color:red'>审批</span><span style='color:red'>的</span>资产处置事项<span style='color:red'>，</span><span style='color:red'>应</span>当及<span style='color:red'>时</span>向财政部门备案；由行政事业单位<span style='color:red'>审批</span><span style='color:red'>的</span>资产处置事项<span style='color:red'>，</span><span style='color:red'>应</span>当由主管部门及<span style='color:red'>时</span>汇总并向财政部门备案。由本级人民<span style='color:red'>政府</span>确定<span style='color:red'>的</span>重大资产处置事项<span style='color:red'>，</span>由同级财政部门按照规定程序办理。（二十）切实做好<span style='color:red'>在</span>分类推进事业单位改革<span style='color:red'>、</span>行业协会商会脱钩<span style='color:red'>、</span>培训疗养机构脱钩等重大专项改革中涉及<span style='color:red'>的</span>单位划转<span style='color:red'>、</span>撤并<span style='color:red'>、</span>改变隶属关系<span style='color:red'>的</span>资产处置工作<span style='color:red'>，</span>确保<span style='color:red'>国有</span>资产安全。"
      ],
      "text/plain": [
       "<IPython.core.display.Markdown object>"
      ]
     },
     "metadata": {},
     "output_type": "display_data"
    },
    {
     "data": {
      "text/markdown": [
       "para_id: 8063312_T05"
      ],
      "text/plain": [
       "<IPython.core.display.Markdown object>"
      ]
     },
     "metadata": {},
     "output_type": "display_data"
    },
    {
     "data": {
      "text/markdown": [
       "二<span style='color:red'>、</span> 二<span style='color:red'>、</span>严格监督<span style='color:red'>，</span>追究<span style='color:red'>责任</span>各级监察机关<span style='color:red'>、</span><span style='color:red'>国有</span>资产监督管理机构<span style='color:red'>和</span>其他有关部门<span style='color:red'>，</span>要加强联系<span style='color:red'>、</span>密切配合<span style='color:red'>，</span>加大<span style='color:red'>对</span><span style='color:red'>国有</span>企业改制工作<span style='color:red'>的</span>监督检查力度。通过建立重要事项通报制度<span style='color:red'>和</span>重大案件报告制度<span style='color:red'>，</span>以及设立并公布举报电话<span style='color:red'>和</span>信箱等办法<span style='color:red'>，</span>及<span style='color:red'>时</span>发现<span style='color:red'>和</span>严肃查处<span style='color:red'>国有</span>企业改制中<span style='color:red'>的</span>违纪违法案件。<span style='color:red'>对</span><span style='color:red'>国有</span>资产监督管理机构工作人员<span style='color:red'>、</span>企业领导人员利用改制之机转移<span style='color:red'>、</span>侵占<span style='color:red'>、</span>侵吞<span style='color:red'>国有</span>资产<span style='color:red'>的</span><span style='color:red'>，</span>隐匿资产<span style='color:red'>、</span>提供虚假会计资料造成<span style='color:red'>国有</span>资产流失<span style='color:red'>的</span><span style='color:red'>，</span>营私舞弊<span style='color:red'>、</span>与买方串通低价转让<span style='color:red'>国有</span>产权<span style='color:red'>的</span><span style='color:red'>，</span>严重失职<span style='color:red'>、</span>违规操作<span style='color:red'>、</span>损害国家<span style='color:red'>和</span>群众利益<span style='color:red'>的</span><span style='color:red'>，</span>要<span style='color:red'>进行</span>认真调查处理。其中涉嫌犯罪<span style='color:red'>的</span><span style='color:red'>，</span>依法移交司法机关处理；造成<span style='color:red'>国有</span>资产损失<span style='color:red'>的</span><span style='color:red'>，</span>按照《条例》<span style='color:red'>的</span>规定<span style='color:red'>，</span>追究有关<span style='color:red'>责任</span>人<span style='color:red'>的</span>赔偿<span style='color:red'>责任</span>。<span style='color:red'>对</span>中介机构弄虚作假<span style='color:red'>、</span>提供虚假审计报告<span style='color:red'>、</span>故意压低评估价格等违规违法行为<span style='color:red'>，</span>要加大惩处力度；<span style='color:red'>国有</span>资产监督管理机构<span style='color:red'>和</span><span style='color:red'>国有</span>及<span style='color:red'>国有</span>控股企业<span style='color:red'>不</span>得再聘请该中介机构及其<span style='color:red'>责任</span>人从事涉及<span style='color:red'>国有</span>及<span style='color:red'>国有</span>控股企业<span style='color:red'>的</span>中介活动。为加快建设<span style='color:red'>和</span>完善产权交易市场体系<span style='color:red'>，</span>确保产权交易公开<span style='color:red'>、</span>公平<span style='color:red'>、</span>公正<span style='color:red'>，</span>由法制办会同国资委<span style='color:red'>、</span>财政部等有关部门研究有关产权交易市场<span style='color:red'>的</span>法规<span style='color:red'>和</span>监管制度<span style='color:red'>，</span>各地依照法律法规及有关规定<span style='color:red'>，</span>根据实际情况制订具体实施细则。"
      ],
      "text/plain": [
       "<IPython.core.display.Markdown object>"
      ]
     },
     "metadata": {},
     "output_type": "display_data"
    },
    {
     "data": {
      "text/markdown": [
       "para_id: 8063182_T85"
      ],
      "text/plain": [
       "<IPython.core.display.Markdown object>"
      ]
     },
     "metadata": {},
     "output_type": "display_data"
    },
    {
     "data": {
      "text/markdown": [
       "第七十一条 第七十一条买卖国家禁止买卖<span style='color:red'>的</span><span style='color:red'>文物</span><span style='color:red'>或</span>者将禁止出境<span style='color:red'>的</span><span style='color:red'>文物</span>转让<span style='color:red'>、</span>出租<span style='color:red'>、</span>质押给外国人<span style='color:red'>，</span>尚<span style='color:red'>不</span>构成犯罪<span style='color:red'>的</span><span style='color:red'>，</span>由<span style='color:red'>县级</span><span style='color:red'>以上</span>人民<span style='color:red'>政府</span><span style='color:red'>文物</span>主管部门责令改正<span style='color:red'>，</span>没收违法所得<span style='color:red'>，</span>违法经营额一万元<span style='color:red'>以上</span><span style='color:red'>的</span><span style='color:red'>，</span>并处违法经营额二倍<span style='color:red'>以上</span>五倍以下<span style='color:red'>的</span>罚款；违法经营额<span style='color:red'>不</span>足一万元<span style='color:red'>的</span><span style='color:red'>，</span>并处五千元<span style='color:red'>以上</span>二万元以下<span style='color:red'>的</span>罚款。<span style='color:red'>文物</span>商店<span style='color:red'>、</span>拍卖企业有前款规定<span style='color:red'>的</span>违法行为<span style='color:red'>的</span><span style='color:red'>，</span>由<span style='color:red'>县级</span><span style='color:red'>以上</span>人民<span style='color:red'>政府</span><span style='color:red'>文物</span>主管部门没收违法所得<span style='color:red'>、</span>非法经营<span style='color:red'>的</span><span style='color:red'>文物</span><span style='color:red'>，</span>违法经营额五万元<span style='color:red'>以上</span><span style='color:red'>的</span><span style='color:red'>，</span>并处违法经营额一倍<span style='color:red'>以上</span>三倍以下<span style='color:red'>的</span>罚款；违法经营额<span style='color:red'>不</span>足五万元<span style='color:red'>的</span><span style='color:red'>，</span>并处五千元<span style='color:red'>以上</span>五万元以下<span style='color:red'>的</span>罚款；情节严重<span style='color:red'>的</span><span style='color:red'>，</span>由原发证机关吊销许可证书。"
      ],
      "text/plain": [
       "<IPython.core.display.Markdown object>"
      ]
     },
     "metadata": {},
     "output_type": "display_data"
    },
    {
     "data": {
      "text/markdown": [
       "para_id: 8063281_T10"
      ],
      "text/plain": [
       "<IPython.core.display.Markdown object>"
      ]
     },
     "metadata": {},
     "output_type": "display_data"
    },
    {
     "data": {
      "text/markdown": [
       "第九条 第九条拍卖企业从事<span style='color:red'>文物</span>拍卖<span style='color:red'>的</span><span style='color:red'>，</span><span style='color:red'>应</span>当遵循有关<span style='color:red'>文物</span>拍卖<span style='color:red'>的</span>法律<span style='color:red'>、</span>行政法规<span style='color:red'>的</span>规定。国家行政机关依法没收<span style='color:red'>的</span>物品<span style='color:red'>，</span>充抵税款<span style='color:red'>、</span>罚款<span style='color:red'>的</span>物品<span style='color:red'>、</span>人民法院依法没收<span style='color:red'>的</span>物品<span style='color:red'>，</span>充抵罚金<span style='color:red'>、</span>罚款<span style='color:red'>的</span>物品以及无法返还<span style='color:red'>的</span>追回物品<span style='color:red'>和</span>其他特殊<span style='color:red'>国有</span>资产等标<span style='color:red'>的</span><span style='color:red'>的</span>拍卖<span style='color:red'>应</span>由具有相<span style='color:red'>应</span>拍卖资格<span style='color:red'>的</span>拍卖企业承担<span style='color:red'>，</span>具体资格条件由省级商务主管部门会同有关部门依据规范管理<span style='color:red'>、</span>择优选用<span style='color:red'>的</span><span style='color:red'>原则</span>制定<span style='color:red'>，</span>并报商务部备案。"
      ],
      "text/plain": [
       "<IPython.core.display.Markdown object>"
      ]
     },
     "metadata": {},
     "output_type": "display_data"
    },
    {
     "data": {
      "text/markdown": [
       "para_id: 8063182_T100"
      ],
      "text/plain": [
       "<IPython.core.display.Markdown object>"
      ]
     },
     "metadata": {},
     "output_type": "display_data"
    },
    {
     "data": {
      "text/markdown": [
       "第七十九条 第七十九条人民法院<span style='color:red'>、</span>人民检察院<span style='color:red'>、</span>公安机关<span style='color:red'>、</span>海关<span style='color:red'>和</span>工商行政管理部门依法没收<span style='color:red'>的</span><span style='color:red'>文物</span><span style='color:red'>应</span>当登记造册<span style='color:red'>，</span>妥善保管<span style='color:red'>，</span>结案后无偿移交<span style='color:red'>文物</span>行政部门<span style='color:red'>，</span>由<span style='color:red'>文物</span>行政部门指定<span style='color:red'>的</span><span style='color:red'>国有</span><span style='color:red'>文物</span>收藏单位收藏。第八章　附 则"
      ],
      "text/plain": [
       "<IPython.core.display.Markdown object>"
      ]
     },
     "metadata": {},
     "output_type": "display_data"
    },
    {
     "data": {
      "text/markdown": [
       "para_id: 8063182_T43"
      ],
      "text/plain": [
       "<IPython.core.display.Markdown object>"
      ]
     },
     "metadata": {},
     "output_type": "display_data"
    },
    {
     "data": {
      "text/markdown": [
       "第三十九条 第三十九条国务院<span style='color:red'>文物</span>行政部门可以调拨全国<span style='color:red'>的</span><span style='color:red'>国有</span>馆藏<span style='color:red'>文物</span>。省<span style='color:red'>、</span>自治区<span style='color:red'>、</span>直辖市人民<span style='color:red'>政府</span><span style='color:red'>文物</span>行政部门可以调拨本行政区域内其主管<span style='color:red'>的</span><span style='color:red'>国有</span><span style='color:red'>文物</span>收藏单位馆藏<span style='color:red'>文物</span>；调拨<span style='color:red'>国有</span>馆藏一级<span style='color:red'>文物</span><span style='color:red'>，</span><span style='color:red'>应</span>当报国务院<span style='color:red'>文物</span>行政部门备案。<span style='color:red'>国有</span><span style='color:red'>文物</span>收藏单位可以申请调拨<span style='color:red'>国有</span>馆藏<span style='color:red'>文物</span>。"
      ],
      "text/plain": [
       "<IPython.core.display.Markdown object>"
      ]
     },
     "metadata": {},
     "output_type": "display_data"
    },
    {
     "data": {
      "text/markdown": [
       "para_id: 8063182_T12"
      ],
      "text/plain": [
       "<IPython.core.display.Markdown object>"
      ]
     },
     "metadata": {},
     "output_type": "display_data"
    },
    {
     "data": {
      "text/markdown": [
       "第八条 第八条国务院<span style='color:red'>文物</span>行政部门主管全国<span style='color:red'>文物</span>保护工作。地方各级人民<span style='color:red'>政府</span>负责本行政区域内<span style='color:red'>的</span><span style='color:red'>文物</span>保护工作。<span style='color:red'>县级</span><span style='color:red'>以上</span>地方人民<span style='color:red'>政府</span>承担<span style='color:red'>文物</span>保护工作<span style='color:red'>的</span>部门<span style='color:red'>对</span>本行政区域内<span style='color:red'>的</span><span style='color:red'>文物</span>保护实施监督管理。<span style='color:red'>县级</span><span style='color:red'>以上</span>人民<span style='color:red'>政府</span>有关行政部门<span style='color:red'>在</span>各自<span style='color:red'>的</span>职责范围内<span style='color:red'>，</span>负责有关<span style='color:red'>的</span><span style='color:red'>文物</span>保护工作。"
      ],
      "text/plain": [
       "<IPython.core.display.Markdown object>"
      ]
     },
     "metadata": {},
     "output_type": "display_data"
    },
    {
     "data": {
      "text/markdown": [
       "para_id: 8063482_T29"
      ],
      "text/plain": [
       "<IPython.core.display.Markdown object>"
      ]
     },
     "metadata": {},
     "output_type": "display_data"
    },
    {
     "data": {
      "text/markdown": [
       "第二十八条 第二十八条行政单位需处置<span style='color:red'>的</span><span style='color:red'>国有</span>资产范围包括：（一）闲置资产；（二）因技术原因并经过科学论证<span style='color:red'>，</span>确需报废<span style='color:red'>、</span>淘汰<span style='color:red'>的</span>资产；（三）因单位分立<span style='color:red'>、</span>撤销<span style='color:red'>、</span>合并<span style='color:red'>、</span>改制<span style='color:red'>、</span>隶属关系改变等原因发生<span style='color:red'>的</span>产权<span style='color:red'>或</span>者使用权转移<span style='color:red'>的</span>资产；（四）盘亏<span style='color:red'>、</span>呆账及非正常损失<span style='color:red'>的</span>资产；（五）已超过使用年限无法使用<span style='color:red'>的</span>资产；（六）依照国家有关规定<span style='color:red'>需要</span><span style='color:red'>进行</span>资产处置<span style='color:red'>的</span>其他情形。"
      ],
      "text/plain": [
       "<IPython.core.display.Markdown object>"
      ]
     },
     "metadata": {},
     "output_type": "display_data"
    },
    {
     "data": {
      "text/markdown": [
       "para_id: 8063312_T04"
      ],
      "text/plain": [
       "<IPython.core.display.Markdown object>"
      ]
     },
     "metadata": {},
     "output_type": "display_data"
    },
    {
     "data": {
      "text/markdown": [
       "一<span style='color:red'>、</span>（子段1-3） 利益。<span style='color:red'>国有</span>企业改制要征得债权金融机构同意<span style='color:red'>，</span>保全金融债权<span style='color:red'>，</span>依法落实金融债务<span style='color:red'>，</span>维护其他债权人<span style='color:red'>的</span>利益。要严格防止利用改制逃废金融债务<span style='color:red'>，</span>金融债务未落实<span style='color:red'>的</span>企业<span style='color:red'>不</span>得<span style='color:red'>进行</span>改制。（九）维护职工合法权益。<span style='color:red'>国有</span>企业改制方案<span style='color:red'>和</span><span style='color:red'>国有</span>控股企业改制为非<span style='color:red'>国有</span><span style='color:red'>的</span>企业<span style='color:red'>的</span>方案<span style='color:red'>，</span><span style='color:red'>必须</span>提交企业职工代表大会<span style='color:red'>或</span>职工大会审议<span style='color:red'>，</span>充分听取职工意见。其中<span style='color:red'>，</span>职工安置方案需经企业职工代表大会<span style='color:red'>或</span>职工大会审议通过后方可实施改制。改制为非<span style='color:red'>国有</span><span style='color:red'>的</span>企业<span style='color:red'>，</span>要按照有关政策处理好改制企业与职工<span style='color:red'>的</span>劳动关系。改制企业拖欠职工<span style='color:red'>的</span>工资<span style='color:red'>、</span>医疗费<span style='color:red'>和</span>挪用<span style='color:red'>的</span>职工住房公积金以及企业欠缴<span style='color:red'>的</span>社会保险费等要按有关规定予以解决。改制后<span style='color:red'>的</span>企业要按照有关规定按<span style='color:red'>时</span>足额交纳社会保险费<span style='color:red'>，</span>及<span style='color:red'>时</span>为职工接续养老<span style='color:red'>、</span>失业<span style='color:red'>、</span>医疗<span style='color:red'>、</span>工伤<span style='color:red'>、</span>生育等各项社会保险关系。（十）管理层收购。向本企业经营管理者转让<span style='color:red'>国有</span>产权<span style='color:red'>必须</span>严格执行国家<span style='color:red'>的</span>有关规定<span style='color:red'>，</span>以及本指导意见<span style='color:red'>的</span>各项<span style='color:red'>要求</span><span style='color:red'>，</span>并需按照有关规定履行<span style='color:red'>审批</span>程序。向本企业经营管理者转让<span style='color:red'>国有</span>产权方案<span style='color:red'>的</span>制订<span style='color:red'>，</span>由直接持有该企业<span style='color:red'>国有</span>产权<span style='color:red'>的</span>单位负责<span style='color:red'>或</span>其委托中介机构<span style='color:red'>进行</span><span style='color:red'>，</span>经营管理者<span style='color:red'>不</span>得参与转让<span style='color:red'>国有</span>产权<span style='color:red'>的</span>决策<span style='color:red'>、</span>财务审计<span style='color:red'>、</span>离任审计<span style='color:red'>、</span>清产核资<span style='color:red'>、</span>资产评估<span style='color:red'>、</span>底价确定等重大事项<span style='color:red'>，</span>严禁自卖自买<span style='color:red'>国有</span>产权。经营管理者筹集收购<span style='color:red'>国有</span>产权<span style='color:red'>的</span>资金<span style='color:red'>，</span>要执行《贷款通则》<span style='color:red'>的</span>有关规定<span style='color:red'>，</span><span style='color:red'>不</span>得向包括本企业<span style='color:red'>在</span>内<span style='color:red'>的</span><span style='color:red'>国有</span>及<span style='color:red'>国有</span>控股企业借款<span style='color:red'>，</span><span style='color:red'>不</span>得以这些企业<span style='color:red'>的</span><span style='color:red'>国有</span>产权<span style='color:red'>或</span>实物资产作标<span style='color:red'>的</span>物为融资提供保证<span style='color:red'>、</span>抵押<span style='color:red'>、</span>质押<span style='color:red'>、</span>贴现等。经营管理者<span style='color:red'>对</span>企业经营业绩下降负有<span style='color:red'>责任</span><span style='color:red'>的</span><span style='color:red'>，</span><span style='color:red'>不</span>得参与收购本企业<span style='color:red'>国有</span>产权。"
      ],
      "text/plain": [
       "<IPython.core.display.Markdown object>"
      ]
     },
     "metadata": {},
     "output_type": "display_data"
    },
    {
     "data": {
      "text/markdown": [
       "para_id: 8063182_T38"
      ],
      "text/plain": [
       "<IPython.core.display.Markdown object>"
      ]
     },
     "metadata": {},
     "output_type": "display_data"
    },
    {
     "data": {
      "text/markdown": [
       "第三十四条 第三十四条考古调查<span style='color:red'>、</span>勘探<span style='color:red'>、</span>发掘<span style='color:red'>的</span>结果<span style='color:red'>，</span><span style='color:red'>应</span>当报告国务院<span style='color:red'>文物</span>行政部门<span style='color:red'>和</span>省<span style='color:red'>、</span>自治区<span style='color:red'>、</span>直辖市人民<span style='color:red'>政府</span><span style='color:red'>文物</span>行政部门。考古发掘<span style='color:red'>的</span><span style='color:red'>文物</span><span style='color:red'>，</span><span style='color:red'>应</span>当登记造册<span style='color:red'>，</span>妥善保管<span style='color:red'>，</span>按照国家有关规定移交给由省<span style='color:red'>、</span>自治区<span style='color:red'>、</span>直辖市人民<span style='color:red'>政府</span><span style='color:red'>文物</span>行政部门<span style='color:red'>或</span>者国务院<span style='color:red'>文物</span>行政部门指定<span style='color:red'>的</span><span style='color:red'>国有</span>博物馆<span style='color:red'>、</span>图书馆<span style='color:red'>或</span>者其他<span style='color:red'>国有</span>收藏<span style='color:red'>文物</span><span style='color:red'>的</span>单位收藏。经省<span style='color:red'>、</span>自治区<span style='color:red'>、</span>直辖市人民<span style='color:red'>政府</span><span style='color:red'>文物</span>行政部门批准<span style='color:red'>，</span>从事考古发掘<span style='color:red'>的</span>单位可以保留少量出土<span style='color:red'>文物</span>作为科研标本。考古发掘<span style='color:red'>的</span><span style='color:red'>文物</span><span style='color:red'>，</span>任何单位<span style='color:red'>或</span>者个人<span style='color:red'>不</span>得侵占。"
      ],
      "text/plain": [
       "<IPython.core.display.Markdown object>"
      ]
     },
     "metadata": {},
     "output_type": "display_data"
    },
    {
     "data": {
      "text/markdown": [
       "para_id: 8063182_T39"
      ],
      "text/plain": [
       "<IPython.core.display.Markdown object>"
      ]
     },
     "metadata": {},
     "output_type": "display_data"
    },
    {
     "data": {
      "text/markdown": [
       "第三十五条 第三十五条根据保证<span style='color:red'>文物</span>安全<span style='color:red'>、</span><span style='color:red'>进行</span>科学研究<span style='color:red'>和</span>充分发挥<span style='color:red'>文物</span>作用<span style='color:red'>的</span><span style='color:red'>需要</span><span style='color:red'>，</span>省<span style='color:red'>、</span>自治区<span style='color:red'>、</span>直辖市人民<span style='color:red'>政府</span><span style='color:red'>文物</span>行政部门经本级人民<span style='color:red'>政府</span>批准<span style='color:red'>，</span>可以调用本行政区域内<span style='color:red'>的</span>出土<span style='color:red'>文物</span>；国务院<span style='color:red'>文物</span>行政部门经国务院批准<span style='color:red'>，</span>可以调用全国<span style='color:red'>的</span>重要出土<span style='color:red'>文物</span>。第四章　馆藏<span style='color:red'>文物</span>"
      ],
      "text/plain": [
       "<IPython.core.display.Markdown object>"
      ]
     },
     "metadata": {},
     "output_type": "display_data"
    },
    {
     "data": {
      "text/markdown": [
       "para_id: 8063182_T05"
      ],
      "text/plain": [
       "<IPython.core.display.Markdown object>"
      ]
     },
     "metadata": {},
     "output_type": "display_data"
    },
    {
     "data": {
      "text/markdown": [
       "第二条 第二条<span style='color:red'>在</span>中华人民共<span style='color:red'>和</span>国境内<span style='color:red'>，</span>下列<span style='color:red'>文物</span>受国家保护：（一）具有历史<span style='color:red'>、</span>艺术<span style='color:red'>、</span>科学价值<span style='color:red'>的</span>古文化遗址<span style='color:red'>、</span>古墓葬<span style='color:red'>、</span>古建筑<span style='color:red'>、</span>石窟寺<span style='color:red'>和</span>石刻<span style='color:red'>、</span>壁画；（二）与重大历史事件<span style='color:red'>、</span>革命运动<span style='color:red'>或</span>者著名人物有关<span style='color:red'>的</span>以及具有重要纪念意义<span style='color:red'>、</span>教育意义<span style='color:red'>或</span>者史料价值<span style='color:red'>的</span>近代现代重要史迹<span style='color:red'>、</span>实物<span style='color:red'>、</span>代表性建筑；（三）历史上各<span style='color:red'>时</span>代珍贵<span style='color:red'>的</span>艺术品<span style='color:red'>、</span>工艺美术品；（四）历史上各<span style='color:red'>时</span>代重要<span style='color:red'>的</span>文献资料以及具有历史<span style='color:red'>、</span>艺术<span style='color:red'>、</span>科学价值<span style='color:red'>的</span>手稿<span style='color:red'>和</span>图书资料等；（五）反映历史上各<span style='color:red'>时</span>代<span style='color:red'>、</span>各民族社会制度<span style='color:red'>、</span>社会生产<span style='color:red'>、</span>社会生活<span style='color:red'>的</span>代表性实物。<span style='color:red'>文物</span>认定<span style='color:red'>的</span>标准<span style='color:red'>和</span>办法由国务院<span style='color:red'>文物</span>行政部门制定<span style='color:red'>，</span>并报国务院批准。具有科学价值<span style='color:red'>的</span>古脊椎动物化石<span style='color:red'>和</span>古人类化石同<span style='color:red'>文物</span>一样受国家保护。"
      ],
      "text/plain": [
       "<IPython.core.display.Markdown object>"
      ]
     },
     "metadata": {},
     "output_type": "display_data"
    },
    {
     "data": {
      "text/markdown": [
       "para_id: 8063182_T55"
      ],
      "text/plain": [
       "<IPython.core.display.Markdown object>"
      ]
     },
     "metadata": {},
     "output_type": "display_data"
    },
    {
     "data": {
      "text/markdown": [
       "第四十九条 第四十九条<span style='color:red'>文物</span>行政部门<span style='color:red'>和</span><span style='color:red'>国有</span><span style='color:red'>文物</span>收藏单位<span style='color:red'>的</span>工作人员<span style='color:red'>不</span>得借用<span style='color:red'>国有</span><span style='color:red'>文物</span><span style='color:red'>，</span><span style='color:red'>不</span>得非法侵占<span style='color:red'>国有</span><span style='color:red'>文物</span>。第五章　民间收藏<span style='color:red'>文物</span>"
      ],
      "text/plain": [
       "<IPython.core.display.Markdown object>"
      ]
     },
     "metadata": {},
     "output_type": "display_data"
    },
    {
     "data": {
      "text/markdown": [
       "para_id: 8063309_T04"
      ],
      "text/plain": [
       "<IPython.core.display.Markdown object>"
      ]
     },
     "metadata": {},
     "output_type": "display_data"
    },
    {
     "data": {
      "text/markdown": [
       "三<span style='color:red'>、</span> 三<span style='color:red'>、</span><span style='color:red'>国有</span>产权置换<span style='color:red'>应</span>当遵循以下<span style='color:red'>原则</span>：（一）符合国家有关法律法规<span style='color:red'>和</span>产业政策<span style='color:red'>的</span>规定；（二）符合<span style='color:red'>国有</span>经济布局<span style='color:red'>和</span>结构调整<span style='color:red'>的</span><span style='color:red'>需要</span>；（三）有利于做强主业<span style='color:red'>和</span>优化资源配置<span style='color:red'>，</span>提高企业核心竞争力；（四）置换标<span style='color:red'>的</span>权属清晰<span style='color:red'>，</span>标<span style='color:red'>的</span>交付<span style='color:red'>或</span>转移<span style='color:red'>不</span>存<span style='color:red'>在</span>法律障碍。"
      ],
      "text/plain": [
       "<IPython.core.display.Markdown object>"
      ]
     },
     "metadata": {},
     "output_type": "display_data"
    },
    {
     "data": {
      "text/markdown": [
       "para_id: 8063181_T32"
      ],
      "text/plain": [
       "<IPython.core.display.Markdown object>"
      ]
     },
     "metadata": {},
     "output_type": "display_data"
    },
    {
     "data": {
      "text/markdown": [
       "第三十条 第三十条国家保护耕地<span style='color:red'>，</span>严格控制耕地转为非耕地。国家实行占用耕地补偿制度。非农业建设经批准占用耕地<span style='color:red'>的</span><span style='color:red'>，</span>按照“占多少<span style='color:red'>，</span>垦多少”<span style='color:red'>的</span><span style='color:red'>原则</span><span style='color:red'>，</span>由占用耕地<span style='color:red'>的</span>单位负责开垦与所占用耕地<span style='color:red'>的</span>数量<span style='color:red'>和</span>质量相当<span style='color:red'>的</span>耕地；没有条件开垦<span style='color:red'>或</span>者开垦<span style='color:red'>的</span>耕地<span style='color:red'>不</span>符合<span style='color:red'>要求</span><span style='color:red'>的</span><span style='color:red'>，</span><span style='color:red'>应</span>当按照省<span style='color:red'>、</span>自治区<span style='color:red'>、</span>直辖市<span style='color:red'>的</span>规定缴纳耕地开垦费<span style='color:red'>，</span>专款用于开垦新<span style='color:red'>的</span>耕地。省<span style='color:red'>、</span>自治区<span style='color:red'>、</span>直辖市人民<span style='color:red'>政府</span><span style='color:red'>应</span>当制定开垦耕地计划<span style='color:red'>，</span>监督占用耕地<span style='color:red'>的</span>单位按照计划开垦耕地<span style='color:red'>或</span>者按照计划组织开垦耕地<span style='color:red'>，</span>并<span style='color:red'>进行</span>验收。"
      ],
      "text/plain": [
       "<IPython.core.display.Markdown object>"
      ]
     },
     "metadata": {},
     "output_type": "display_data"
    },
    {
     "data": {
      "text/markdown": [
       "para_id: 8063312_T03"
      ],
      "text/plain": [
       "<IPython.core.display.Markdown object>"
      ]
     },
     "metadata": {},
     "output_type": "display_data"
    },
    {
     "data": {
      "text/markdown": [
       "一<span style='color:red'>、</span>（子段1-2） 碍其办理业务。任何人<span style='color:red'>不</span>得授意<span style='color:red'>、</span>指使<span style='color:red'>、</span>强令改制企业会计机构<span style='color:red'>、</span>会计人员提供虚假资料文件<span style='color:red'>或</span>违法办理会计事项。（四）资产评估。<span style='color:red'>国有</span>企业改制<span style='color:red'>，</span><span style='color:red'>必须</span>依照《<span style='color:red'>国有</span>资产评估管理办法》（国务院令第９１号）聘请<span style='color:red'>具备</span>资格<span style='color:red'>的</span>资产评估事务所<span style='color:red'>进行</span>资产<span style='color:red'>和</span>土地使用权评估。<span style='color:red'>国有</span>控股企业<span style='color:red'>进行</span>资产评估<span style='color:red'>，</span>要严格履行有关法律法规规定<span style='color:red'>的</span>程序。向非<span style='color:red'>国有</span>投资者转让<span style='color:red'>国有</span>产权<span style='color:red'>的</span><span style='color:red'>，</span>由直接持有该<span style='color:red'>国有</span>产权<span style='color:red'>的</span>单位决定聘请资产评估事务所。企业<span style='color:red'>的</span>专利权<span style='color:red'>、</span>非专利技术<span style='color:red'>、</span>商标权<span style='color:red'>、</span>商誉等无形资产<span style='color:red'>必须</span>纳入评估范围。评估结果由依照有关规定批准<span style='color:red'>国有</span>企业改制<span style='color:red'>和</span>转让<span style='color:red'>国有</span>产权<span style='color:red'>的</span>单位核准。（五）交易管理。非上市企业<span style='color:red'>国有</span>产权转让要进入产权交易市场<span style='color:red'>，</span><span style='color:red'>不</span>受地区<span style='color:red'>、</span>行业<span style='color:red'>、</span>出资<span style='color:red'>和</span>隶属关系<span style='color:red'>的</span>限制<span style='color:red'>，</span>并按照《企业<span style='color:red'>国有</span>产权转让管理暂行办法》<span style='color:red'>的</span>规定<span style='color:red'>，</span>公开信息<span style='color:red'>，</span>竞价转让。具体转让方式可以采取拍卖<span style='color:red'>、</span>招投标<span style='color:red'>、</span>协议转让以及国家法律法规规定<span style='color:red'>的</span>其他方式。（六）定价管理。向非<span style='color:red'>国有</span>投资者转让<span style='color:red'>国有</span>产权<span style='color:red'>的</span>底价<span style='color:red'>，</span><span style='color:red'>或</span>者以存量<span style='color:red'>国有</span>资产吸收非<span style='color:red'>国有</span>投资者投资<span style='color:red'>时</span><span style='color:red'>国有</span>产权<span style='color:red'>的</span>折股价格<span style='color:red'>，</span>由依照有关规定批准<span style='color:red'>国有</span>企业改制<span style='color:red'>和</span>转让<span style='color:red'>国有</span>产权<span style='color:red'>的</span>单位决定。底价<span style='color:red'>的</span>确定主要依据资产评估<span style='color:red'>的</span>结果<span style='color:red'>，</span>同<span style='color:red'>时</span>要考虑产权交易市场<span style='color:red'>的</span>供求状况<span style='color:red'>、</span>同类资产<span style='color:red'>的</span>市场价格<span style='color:red'>、</span>职工安置<span style='color:red'>、</span>引进先进技术等因素。上市公司<span style='color:red'>国有</span>股转让价格<span style='color:red'>在</span><span style='color:red'>不</span>低于每股净资产<span style='color:red'>的</span>基础上<span style='color:red'>，</span>参考上市公司盈利<span style='color:red'>能力</span><span style='color:red'>和</span>市场表现合理定价。（七）转让价款管理。转让<span style='color:red'>国有</span>产权<span style='color:red'>的</span>价款<span style='color:red'>原则</span>上<span style='color:red'>应</span>当一次结清。一次结清确有困难<span style='color:red'>的</span><span style='color:red'>，</span>经转让<span style='color:red'>和</span>受让双方协商<span style='color:red'>，</span>并经依照有关规定批准<span style='color:red'>国有</span>企业改制<span style='color:red'>和</span>转让<span style='color:red'>国有</span>产权<span style='color:red'>的</span>单位批准<span style='color:red'>，</span>可采取分期付款<span style='color:red'>的</span>方式。分期付款<span style='color:red'>时</span><span style='color:red'>，</span>首期付款<span style='color:red'>不</span>得低于总价款<span style='color:red'>的</span>３０％<span style='color:red'>，</span>其余价款<span style='color:red'>应</span>当由受让方提供合法担保<span style='color:red'>，</span>并<span style='color:red'>在</span>首期付款之日起一年内支付完毕。转让<span style='color:red'>国有</span>产权<span style='color:red'>的</span>价款优先用于支付解除劳动合同职工<span style='color:red'>的</span>经济补偿金<span style='color:red'>和</span>移交社会保障机构管理职工<span style='color:red'>的</span>社会保险费<span style='color:red'>，</span>以及偿还拖欠职工<span style='color:red'>的</span>债务<span style='color:red'>和</span>企业欠缴<span style='color:red'>的</span>社会保险费<span style='color:red'>，</span>剩余价款按照有关规定处理。（八）依法保护债权人利益。<span style='color:red'>国有</span>企业改制要征得债权金融机构同意<span style='color:red'>，</span>保全金融债权<span style='color:red'>，</span>依法落实金融债务<span style='color:red'>，</span>维护其他债权人<span style='color:red'>的</span>利益。要严格防止利用改制逃废金融债务<span style='color:red'>，</span>金融债务未落实<span style='color:red'>的</span>企业<span style='color:red'>不</span>得<span style='color:red'>进行</span>改制。（九）维护职工合法权益。<span style='color:red'>国有</span>企业改制方案<span style='color:red'>和</span><span style='color:red'>国有</span>控股企业改制为非<span style='color:red'>国有</span><span style='color:red'>的</span>企业<span style='color:red'>的</span>方案<span style='color:red'>，</span><span style='color:red'>必须</span>提交企业职工代表大会<span style='color:red'>或</span>职工大会审议<span style='color:red'>，</span>充分听取职工意见。其中<span style='color:red'>，</span>职工安置方案需经企业职工代表大会<span style='color:red'>或</span>职工大会审议通过后方可实施改制。改制为非<span style='color:red'>国有</span><span style='color:red'>的</span>企业<span style='color:red'>，</span>要按照有"
      ],
      "text/plain": [
       "<IPython.core.display.Markdown object>"
      ]
     },
     "metadata": {},
     "output_type": "display_data"
    },
    {
     "data": {
      "text/markdown": [
       "para_id: 8063182_T22"
      ],
      "text/plain": [
       "<IPython.core.display.Markdown object>"
      ]
     },
     "metadata": {},
     "output_type": "display_data"
    },
    {
     "data": {
      "text/markdown": [
       "第十八条 第十八条根据保护<span style='color:red'>文物</span><span style='color:red'>的</span>实际<span style='color:red'>需要</span><span style='color:red'>，</span>经省<span style='color:red'>、</span>自治区<span style='color:red'>、</span>直辖市人民<span style='color:red'>政府</span>批准<span style='color:red'>，</span>可以<span style='color:red'>在</span><span style='color:red'>文物</span>保护单位<span style='color:red'>的</span>周围划出一定<span style='color:red'>的</span>建设控制地带<span style='color:red'>，</span>并予以公布。<span style='color:red'>在</span><span style='color:red'>文物</span>保护单位<span style='color:red'>的</span>建设控制地带内<span style='color:red'>进行</span>建设工程<span style='color:red'>，</span><span style='color:red'>不</span>得破坏<span style='color:red'>文物</span>保护单位<span style='color:red'>的</span>历史风貌；工程设计方案<span style='color:red'>应</span>当根据<span style='color:red'>文物</span>保护单位<span style='color:red'>的</span>级别<span style='color:red'>，</span>经相<span style='color:red'>应</span><span style='color:red'>的</span><span style='color:red'>文物</span>行政部门同意后<span style='color:red'>，</span>报城乡建设规划部门批准。"
      ],
      "text/plain": [
       "<IPython.core.display.Markdown object>"
      ]
     },
     "metadata": {},
     "output_type": "display_data"
    },
    {
     "data": {
      "text/markdown": [
       "para_id: 8063182_T34"
      ],
      "text/plain": [
       "<IPython.core.display.Markdown object>"
      ]
     },
     "metadata": {},
     "output_type": "display_data"
    },
    {
     "data": {
      "text/markdown": [
       "第三十条 第三十条<span style='color:red'>需要</span>配合建设工程<span style='color:red'>进行</span><span style='color:red'>的</span>考古发掘工作<span style='color:red'>，</span><span style='color:red'>应</span>当由省<span style='color:red'>、</span>自治区<span style='color:red'>、</span>直辖市<span style='color:red'>文物</span>行政部门<span style='color:red'>在</span>勘探工作<span style='color:red'>的</span>基础上提出发掘计划<span style='color:red'>，</span>报国务院<span style='color:red'>文物</span>行政部门批准。国务院<span style='color:red'>文物</span>行政部门<span style='color:red'>在</span>批准前<span style='color:red'>，</span><span style='color:red'>应</span>当征求社会科学研究机构及其他科研机构<span style='color:red'>和</span>有关专家<span style='color:red'>的</span>意见。确因建设工期紧迫<span style='color:red'>或</span>者有自然破坏危险<span style='color:red'>，</span><span style='color:red'>对</span>古文化遗址<span style='color:red'>、</span>古墓葬急需<span style='color:red'>进行</span>抢救发掘<span style='color:red'>的</span><span style='color:red'>，</span>由省<span style='color:red'>、</span>自治区<span style='color:red'>、</span>直辖市人民<span style='color:red'>政府</span><span style='color:red'>文物</span>行政部门组织发掘<span style='color:red'>，</span>并同<span style='color:red'>时</span>补办<span style='color:red'>审批</span>手续。"
      ],
      "text/plain": [
       "<IPython.core.display.Markdown object>"
      ]
     },
     "metadata": {},
     "output_type": "display_data"
    },
    {
     "data": {
      "text/markdown": [
       "para_id: 8063182_T10"
      ],
      "text/plain": [
       "<IPython.core.display.Markdown object>"
      ]
     },
     "metadata": {},
     "output_type": "display_data"
    },
    {
     "data": {
      "text/markdown": [
       "第六条 第六条属于集体所有<span style='color:red'>和</span>私人所有<span style='color:red'>的</span>纪念建筑物<span style='color:red'>、</span>古建筑<span style='color:red'>和</span>祖传<span style='color:red'>文物</span>以及依法取得<span style='color:red'>的</span>其他<span style='color:red'>文物</span><span style='color:red'>，</span>其所有权受法律保护。<span style='color:red'>文物</span><span style='color:red'>的</span>所有者<span style='color:red'>必须</span><span style='color:red'>遵守</span>国家有关<span style='color:red'>文物</span>保护<span style='color:red'>的</span>法律<span style='color:red'>、</span>法规<span style='color:red'>的</span>规定。"
      ],
      "text/plain": [
       "<IPython.core.display.Markdown object>"
      ]
     },
     "metadata": {},
     "output_type": "display_data"
    }
   ],
   "source": [
    "import re\n",
    "from IPython.display import Markdown, display\n",
    "\n",
    "display(Markdown(\"### 🔄 **Hybrid Search Results:**\"))\n",
    "formatted_results = doc_text_formatting(query, hybrid_results)\n",
    "for i, result in enumerate(formatted_results):\n",
    "    display(Markdown(f\"para_id: {hybrid_results[i].get('para_id')}\"))\n",
    "    display(Markdown(result))"
   ]
  },
  {
   "cell_type": "code",
   "execution_count": 18,
   "id": "8cb3d30d-5315-43e3-a9e5-bc44061c62da",
   "metadata": {},
   "outputs": [
    {
     "name": "stdout",
     "output_type": "stream",
     "text": [
      "Reranking...\n"
     ]
    },
    {
     "name": "stderr",
     "output_type": "stream",
     "text": [
      "You're using a XLMRobertaTokenizerFast tokenizer. Please note that with a fast tokenizer, using the `__call__` method is faster than using a method to encode the text followed by a call to the `pad` method to get a padded encoding.\n"
     ]
    }
   ],
   "source": [
    "hybrid_rerank_results = rerank(hybrid_results)"
   ]
  },
  {
   "cell_type": "code",
   "execution_count": 19,
   "id": "b9171e59-dfd4-4855-9896-b8e4bb04d2bb",
   "metadata": {},
   "outputs": [
    {
     "data": {
      "text/plain": [
       "[RerankResult(text='第二十一条 第二十一条国有不可移动文物由使用人负责修缮、保养；非国有不可移动文物由所有人负责修缮、保养。非国有不可移动文物有损毁危险，所有人不具备修缮能力的，当地人民政府应当给予帮助；所有人具备修缮能力而拒不依法履行修缮义务的，县级以上人民政府可以给予抢救修缮，所需费用由所有人负担。对文物保护单位进行修缮，应当根据文物保护单位的级别报相应的文物行政部门批准；对未核定为文物保护单位的不可移动文物进行修缮，应当报登记的县级人民政府文物行政部门批准。文物保护单位的修缮、迁移、重建，由取得文物保护工程资质证书的单位承担。对不可移动文物进行修缮、保养、迁移，必须遵守不改变文物原状的原则。', score=0.9993952897517442, index=0),\n",
       " RerankResult(text='第二十六条 第二十六条使用不可移动文物，必须遵守不改变文物原状的原则，负责保护建筑物及其附属文物的安全，不得损毁、改建、添建或者拆除不可移动文物。对危害文物保护单位安全、破坏文物保护单位历史风貌的建筑物、构筑物，当地人民政府应当及时调查处理，必要时，对该建筑物、构筑物予以拆迁。第三章\\u3000考古发掘', score=0.6842640244786128, index=2),\n",
       " RerankResult(text='第二十二条 第二十二条不可移动文物已经全部毁坏的，应当实施遗址保护，不得在原址重建。但是，因特殊情况需要在原址重建的，由省、自治区、直辖市人民政府文物行政部门报省、自治区、直辖市人民政府批准；全国重点文物保护单位需要在原址重建的，由省、自治区、直辖市人民政府报国务院批准。', score=0.5710491189132763, index=6),\n",
       " RerankResult(text='第五条 第五条中华人民共和国境内地下、内水和领海中遗存的一切文物，属于国家所有。古文化遗址、古墓葬、石窟寺属于国家所有。国家指定保护的纪念建筑物、古建筑、石刻、壁画、近代现代代表性建筑等不可移动文物，除国家另有规定的以外，属于国家所有。国有不可移动文物的所有权不因其所依附的土地所有权或者使用权的改变而改变。下列可移动文物，属于国家所有：（一）中国境内出土的文物，国家另有规定的除外；（二）国有文物收藏单位以及其他国家机关、部队和国有企业、事业组织等收藏、保管的文物；（三）国家征集、购买的文物；（四）公民、法人和其他组织捐赠给国家的文物；（五）法律规定属于国家所有的其他文物。属于国家所有的可移动文物的所有权不因其保管、收藏单位的终止或者变更而改变。国有文物所有权受法律保护，不容侵犯。', score=0.5558873216946758, index=5),\n",
       " RerankResult(text='第三十一条 第三十一条的决定》第一次修正\\u30002002年10月28日第九届全国人民代表大会常务委员会第三十次会议修订\\u3000根据2007年12月29日第十届全国人民代表大会常务委员会第三十一次会议《关于修改〈中华人民共和国文物保护法〉的决定》第二次修正\\u3000根据2013年6月29日第十二届全国人民代表大会常务委员会第三次会议《关于修改〈中华人民共和国文物保护法〉等十二部法律的决定》第三次修正\\u3000根据2015年4月24日第十二届全国人民代表大会常务委员会第十四次会议《关于修改〈中华人民共和国文物保护法〉的决定》第四次修正\\u3000根据2017年11月4日第十二届全国人民代表大会常务委员会第三十次会议《关于修改〈中华人民共和国会计法〉等十一部法律的决定》第五次修正）中华人民共和国文物保护法(2017修正)目录第一章\\u3000总 则第二章\\u3000不可移动文物第三章\\u3000考古发掘第四章\\u3000馆藏文物第五章\\u3000民间收藏文物第六章\\u3000文物出境进境第七章\\u3000法律责任第八章\\u3000附 则第一章\\u3000总 则', score=0.5040930787322735, index=19)]"
      ]
     },
     "execution_count": 19,
     "metadata": {},
     "output_type": "execute_result"
    }
   ],
   "source": [
    "hybrid_rerank_results"
   ]
  },
  {
   "cell_type": "code",
   "execution_count": 20,
   "id": "db40210c-7373-4d4c-af95-4c13cc2285de",
   "metadata": {},
   "outputs": [
    {
     "data": {
      "text/markdown": [
       "### 🔄 **Reranked Hybrid Search Results:**"
      ],
      "text/plain": [
       "<IPython.core.display.Markdown object>"
      ]
     },
     "metadata": {},
     "output_type": "display_data"
    },
    {
     "data": {
      "text/markdown": [
       "para_id: 8063182_T25"
      ],
      "text/plain": [
       "<IPython.core.display.Markdown object>"
      ]
     },
     "metadata": {},
     "output_type": "display_data"
    },
    {
     "data": {
      "text/markdown": [
       "第二十一条 第二十一条<span style='color:red'>国有</span><span style='color:red'><span style='color:red'>不</span>可</span><span style='color:red'>移动</span><span style='color:red'>文物</span>由使用人负责<span style='color:red'>修缮</span><span style='color:red'>、</span><span style='color:red'>保养</span>；非<span style='color:red'>国有</span><span style='color:red'><span style='color:red'>不</span>可</span><span style='color:red'>移动</span><span style='color:red'>文物</span>由<span style='color:red'>所有人</span>负责<span style='color:red'>修缮</span><span style='color:red'>、</span><span style='color:red'>保养</span>。非<span style='color:red'>国有</span><span style='color:red'><span style='color:red'>不</span>可</span><span style='color:red'>移动</span><span style='color:red'>文物</span>有损毁危险<span style='color:red'>，</span><span style='color:red'>所有人</span><span style='color:red'>不</span><span style='color:red'>具备</span><span style='color:red'>修缮</span><span style='color:red'>能力</span><span style='color:red'>的</span><span style='color:red'>，</span>当地人民<span style='color:red'>政府</span><span style='color:red'>应</span>当给予帮助；<span style='color:red'>所有人</span><span style='color:red'>具备</span><span style='color:red'>修缮</span><span style='color:red'>能力</span>而拒<span style='color:red'>不</span>依法履行<span style='color:red'>修缮</span><span style='color:red'>义务</span><span style='color:red'>的</span><span style='color:red'>，</span><span style='color:red'>县级</span><span style='color:red'>以上</span>人民<span style='color:red'>政府</span>可以给予抢救<span style='color:red'>修缮</span><span style='color:red'>，</span>所需费用由<span style='color:red'>所有人</span>负担。<span style='color:red'>对</span><span style='color:red'>文物</span>保护单位<span style='color:red'>进行</span><span style='color:red'>修缮</span><span style='color:red'>，</span><span style='color:red'>应</span>当根据<span style='color:red'>文物</span>保护单位<span style='color:red'>的</span>级别报相<span style='color:red'>应</span><span style='color:red'>的</span><span style='color:red'>文物</span>行政部门批准；<span style='color:red'>对</span>未核定为<span style='color:red'>文物</span>保护单位<span style='color:red'>的</span><span style='color:red'><span style='color:red'>不</span>可</span><span style='color:red'>移动</span><span style='color:red'>文物</span><span style='color:red'>进行</span><span style='color:red'>修缮</span><span style='color:red'>，</span><span style='color:red'>应</span>当报登记<span style='color:red'>的</span><span style='color:red'>县级</span>人民<span style='color:red'>政府</span><span style='color:red'>文物</span>行政部门批准。<span style='color:red'>文物</span>保护单位<span style='color:red'>的</span><span style='color:red'>修缮</span><span style='color:red'>、</span><span style='color:red'>迁移</span><span style='color:red'>、</span><span style='color:red'>重建</span><span style='color:red'>，</span>由取得<span style='color:red'>文物</span>保护工程<span style='color:red'>资质</span>证书<span style='color:red'>的</span>单位承担。<span style='color:red'>对</span><span style='color:red'><span style='color:red'>不</span>可</span><span style='color:red'>移动</span><span style='color:red'>文物</span><span style='color:red'>进行</span><span style='color:red'>修缮</span><span style='color:red'>、</span><span style='color:red'>保养</span><span style='color:red'>、</span><span style='color:red'>迁移</span><span style='color:red'>，</span><span style='color:red'>必须</span><span style='color:red'>遵守</span><span style='color:red'>不</span>改变<span style='color:red'>文物</span>原状<span style='color:red'>的</span><span style='color:red'>原则</span>。"
      ],
      "text/plain": [
       "<IPython.core.display.Markdown object>"
      ]
     },
     "metadata": {},
     "output_type": "display_data"
    },
    {
     "data": {
      "text/markdown": [
       "para_id: 8063182_T89"
      ],
      "text/plain": [
       "<IPython.core.display.Markdown object>"
      ]
     },
     "metadata": {},
     "output_type": "display_data"
    },
    {
     "data": {
      "text/markdown": [
       "第二十六条 第二十六条使用<span style='color:red'><span style='color:red'>不</span>可</span><span style='color:red'>移动</span><span style='color:red'>文物</span><span style='color:red'>，</span><span style='color:red'>必须</span><span style='color:red'>遵守</span><span style='color:red'>不</span>改变<span style='color:red'>文物</span>原状<span style='color:red'>的</span><span style='color:red'>原则</span><span style='color:red'>，</span>负责保护建筑物及其附属<span style='color:red'>文物</span><span style='color:red'>的</span>安全<span style='color:red'>，</span><span style='color:red'>不</span>得损毁<span style='color:red'>、</span>改建<span style='color:red'>、</span>添建<span style='color:red'>或</span>者拆除<span style='color:red'><span style='color:red'>不</span>可</span><span style='color:red'>移动</span><span style='color:red'>文物</span>。<span style='color:red'>对</span>危害<span style='color:red'>文物</span>保护单位安全<span style='color:red'>、</span>破坏<span style='color:red'>文物</span>保护单位历史风貌<span style='color:red'>的</span>建筑物<span style='color:red'>、</span>构筑物<span style='color:red'>，</span>当地人民<span style='color:red'>政府</span><span style='color:red'>应</span>当及<span style='color:red'>时</span>调查处理<span style='color:red'>，</span>必要<span style='color:red'>时</span><span style='color:red'>，</span><span style='color:red'>对</span>该建筑物<span style='color:red'>、</span>构筑物予以拆迁。第三章　考古发掘"
      ],
      "text/plain": [
       "<IPython.core.display.Markdown object>"
      ]
     },
     "metadata": {},
     "output_type": "display_data"
    },
    {
     "data": {
      "text/markdown": [
       "para_id: 8063182_T30"
      ],
      "text/plain": [
       "<IPython.core.display.Markdown object>"
      ]
     },
     "metadata": {},
     "output_type": "display_data"
    },
    {
     "data": {
      "text/markdown": [
       "第二十二条 第二十二条<span style='color:red'><span style='color:red'>不</span>可</span><span style='color:red'>移动</span><span style='color:red'>文物</span>已经全部毁坏<span style='color:red'>的</span><span style='color:red'>，</span><span style='color:red'>应</span>当实施遗址保护<span style='color:red'>，</span><span style='color:red'>不</span>得<span style='color:red'>在</span>原址<span style='color:red'>重建</span>。但是<span style='color:red'>，</span>因特殊情况<span style='color:red'>需要</span><span style='color:red'>在</span>原址<span style='color:red'>重建</span><span style='color:red'>的</span><span style='color:red'>，</span>由省<span style='color:red'>、</span>自治区<span style='color:red'>、</span>直辖市人民<span style='color:red'>政府</span><span style='color:red'>文物</span>行政部门报省<span style='color:red'>、</span>自治区<span style='color:red'>、</span>直辖市人民<span style='color:red'>政府</span>批准；全国重点<span style='color:red'>文物</span>保护单位<span style='color:red'>需要</span><span style='color:red'>在</span>原址<span style='color:red'>重建</span><span style='color:red'>的</span><span style='color:red'>，</span>由省<span style='color:red'>、</span>自治区<span style='color:red'>、</span>直辖市人民<span style='color:red'>政府</span>报国务院批准。"
      ],
      "text/plain": [
       "<IPython.core.display.Markdown object>"
      ]
     },
     "metadata": {},
     "output_type": "display_data"
    },
    {
     "data": {
      "text/markdown": [
       "para_id: 8063182_T24"
      ],
      "text/plain": [
       "<IPython.core.display.Markdown object>"
      ]
     },
     "metadata": {},
     "output_type": "display_data"
    },
    {
     "data": {
      "text/markdown": [
       "第五条 第五条中华人民共<span style='color:red'>和</span>国境内地下<span style='color:red'>、</span>内水<span style='color:red'>和</span>领海中遗存<span style='color:red'>的</span>一切<span style='color:red'>文物</span><span style='color:red'>，</span>属于国家所有。古文化遗址<span style='color:red'>、</span>古墓葬<span style='color:red'>、</span>石窟寺属于国家所有。国家指定保护<span style='color:red'>的</span>纪念建筑物<span style='color:red'>、</span>古建筑<span style='color:red'>、</span>石刻<span style='color:red'>、</span>壁画<span style='color:red'>、</span>近代现代代表性建筑等<span style='color:red'><span style='color:red'>不</span>可</span><span style='color:red'>移动</span><span style='color:red'>文物</span><span style='color:red'>，</span>除国家另有规定<span style='color:red'>的</span>以外<span style='color:red'>，</span>属于国家所有。<span style='color:red'>国有</span><span style='color:red'><span style='color:red'>不</span>可</span><span style='color:red'>移动</span><span style='color:red'>文物</span><span style='color:red'>的</span>所有权<span style='color:red'>不</span>因其所依附<span style='color:red'>的</span>土地所有权<span style='color:red'>或</span>者使用权<span style='color:red'>的</span>改变而改变。下列可<span style='color:red'>移动</span><span style='color:red'>文物</span><span style='color:red'>，</span>属于国家所有：（一）中国境内出土<span style='color:red'>的</span><span style='color:red'>文物</span><span style='color:red'>，</span>国家另有规定<span style='color:red'>的</span>除外；（二）<span style='color:red'>国有</span><span style='color:red'>文物</span>收藏单位以及其他国家机关<span style='color:red'>、</span>部队<span style='color:red'>和</span><span style='color:red'>国有</span>企业<span style='color:red'>、</span>事业组织等收藏<span style='color:red'>、</span>保管<span style='color:red'>的</span><span style='color:red'>文物</span>；（三）国家征集<span style='color:red'>、</span>购买<span style='color:red'>的</span><span style='color:red'>文物</span>；（四）公民<span style='color:red'>、</span>法人<span style='color:red'>和</span>其他组织捐赠给国家<span style='color:red'>的</span><span style='color:red'>文物</span>；（五）法律规定属于国家所有<span style='color:red'>的</span>其他<span style='color:red'>文物</span>。属于国家所有<span style='color:red'>的</span>可<span style='color:red'>移动</span><span style='color:red'>文物</span><span style='color:red'>的</span>所有权<span style='color:red'>不</span>因其保管<span style='color:red'>、</span>收藏单位<span style='color:red'>的</span>终止<span style='color:red'>或</span>者变更而改变。<span style='color:red'>国有</span><span style='color:red'>文物</span>所有权受法律保护<span style='color:red'>，</span><span style='color:red'>不</span>容侵犯。"
      ],
      "text/plain": [
       "<IPython.core.display.Markdown object>"
      ]
     },
     "metadata": {},
     "output_type": "display_data"
    },
    {
     "data": {
      "text/markdown": [
       "para_id: 8063182_T75"
      ],
      "text/plain": [
       "<IPython.core.display.Markdown object>"
      ]
     },
     "metadata": {},
     "output_type": "display_data"
    },
    {
     "data": {
      "text/markdown": [
       "第三十一条 第三十一条<span style='color:red'>的</span>决定》第一次修正　2002年10月28日第九届全国人民代表大会常务委员会第三十次会议修订　根据2007年12月29日第十届全国人民代表大会常务委员会第三十一次会议《关于修改〈中华人民共<span style='color:red'>和</span>国<span style='color:red'>文物</span>保护法〉<span style='color:red'>的</span>决定》第二次修正　根据2013年6月29日第十二届全国人民代表大会常务委员会第三次会议《关于修改〈中华人民共<span style='color:red'>和</span>国<span style='color:red'>文物</span>保护法〉等十二部法律<span style='color:red'>的</span>决定》第三次修正　根据2015年4月24日第十二届全国人民代表大会常务委员会第十四次会议《关于修改〈中华人民共<span style='color:red'>和</span>国<span style='color:red'>文物</span>保护法〉<span style='color:red'>的</span>决定》第四次修正　根据2017年11月4日第十二届全国人民代表大会常务委员会第三十次会议《关于修改〈中华人民共<span style='color:red'>和</span>国会计法〉等十一部法律<span style='color:red'>的</span>决定》第五次修正）中华人民共<span style='color:red'>和</span>国<span style='color:red'>文物</span>保护法(2017修正)目录第一章　总 则第二章　<span style='color:red'><span style='color:red'>不</span>可</span><span style='color:red'>移动</span><span style='color:red'>文物</span>第三章　考古发掘第四章　馆藏<span style='color:red'>文物</span>第五章　民间收藏<span style='color:red'>文物</span>第六章　<span style='color:red'>文物</span>出境进境第七章　法律<span style='color:red'>责任</span>第八章　附 则第一章　总 则"
      ],
      "text/plain": [
       "<IPython.core.display.Markdown object>"
      ]
     },
     "metadata": {},
     "output_type": "display_data"
    }
   ],
   "source": [
    "display(Markdown(\"### 🔄 **Reranked Hybrid Search Results:**\"))\n",
    "formatted_results = doc_text_formatting(query, hybrid_rerank_results)\n",
    "for i, result in enumerate(formatted_results):\n",
    "    display(Markdown(f\"para_id: {hybrid_results[i].get('para_id')}\"))\n",
    "    display(Markdown(result))"
   ]
  },
  {
   "cell_type": "code",
   "execution_count": 24,
   "id": "92ff8a0d-cf68-450a-b1bd-806c4c808580",
   "metadata": {},
   "outputs": [
    {
     "data": {
      "text/plain": [
       "PromptTemplate(input_variables=['context', 'question'], input_types={}, partial_variables={}, template=\"\\nHuman: You are an AI assistant, and provides answers to questions by using fact based and statistical information when possible.\\nUse the following pieces of information to provide a concise answer to the question enclosed in <question> tags.\\nIf you don't know the answer, just say that you don't know, don't try to make up an answer.\\n<context>\\n{context}\\n</context>\\n\\n<question>\\n{question}\\n</question>\\n\\nThe response should be specific and use statistics or numbers when possible.\\n\\nAssistant:\")"
      ]
     },
     "execution_count": 24,
     "metadata": {},
     "output_type": "execute_result"
    }
   ],
   "source": [
    "prompt"
   ]
  },
  {
   "cell_type": "code",
   "execution_count": 27,
   "id": "988ebed7-bded-4959-86dc-9ab705fe8e9e",
   "metadata": {},
   "outputs": [
    {
     "ename": "TypeError",
     "evalue": "Expected a callable type for `func`.Instead got an unsupported type: <class 'list'>",
     "output_type": "error",
     "traceback": [
      "\u001b[31m---------------------------------------------------------------------------\u001b[39m",
      "\u001b[31mTypeError\u001b[39m                                 Traceback (most recent call last)",
      "\u001b[36mCell\u001b[39m\u001b[36m \u001b[39m\u001b[32mIn[27]\u001b[39m\u001b[32m, line 2\u001b[39m\n\u001b[32m      1\u001b[39m rag_sub_chain = (\n\u001b[32m----> \u001b[39m\u001b[32m2\u001b[39m     {\u001b[33m\"\u001b[39m\u001b[33mcontext\u001b[39m\u001b[33m\"\u001b[39m: RunnableLambda(hybrid_results) | RunnableLambda(format_docs), \u001b[33m\"\u001b[39m\u001b[33mquestion\u001b[39m\u001b[33m\"\u001b[39m: RunnablePassthrough()}\n\u001b[32m      3\u001b[39m     | prompt\n\u001b[32m      4\u001b[39m     | StrOutputParser()\n\u001b[32m      5\u001b[39m )\n",
      "\u001b[36mFile \u001b[39m\u001b[32mD:\\Anaconda\\envs\\eval\\Lib\\site-packages\\langchain_core\\runnables\\base.py:4388\u001b[39m, in \u001b[36mRunnableLambda.__init__\u001b[39m\u001b[34m(self, func, afunc, name)\u001b[39m\n\u001b[32m   4383\u001b[39m \u001b[38;5;28;01melse\u001b[39;00m:\n\u001b[32m   4384\u001b[39m     msg = (\n\u001b[32m   4385\u001b[39m         \u001b[33m\"\u001b[39m\u001b[33mExpected a callable type for `func`.\u001b[39m\u001b[33m\"\u001b[39m\n\u001b[32m   4386\u001b[39m         \u001b[33mf\u001b[39m\u001b[33m\"\u001b[39m\u001b[33mInstead got an unsupported type: \u001b[39m\u001b[38;5;132;01m{\u001b[39;00m\u001b[38;5;28mtype\u001b[39m(func)\u001b[38;5;132;01m}\u001b[39;00m\u001b[33m\"\u001b[39m\n\u001b[32m   4387\u001b[39m     )\n\u001b[32m-> \u001b[39m\u001b[32m4388\u001b[39m     \u001b[38;5;28;01mraise\u001b[39;00m \u001b[38;5;167;01mTypeError\u001b[39;00m(msg)\n\u001b[32m   4390\u001b[39m \u001b[38;5;28;01mtry\u001b[39;00m:\n\u001b[32m   4391\u001b[39m     \u001b[38;5;28;01mif\u001b[39;00m name \u001b[38;5;129;01mis\u001b[39;00m \u001b[38;5;129;01mnot\u001b[39;00m \u001b[38;5;28;01mNone\u001b[39;00m:\n",
      "\u001b[31mTypeError\u001b[39m: Expected a callable type for `func`.Instead got an unsupported type: <class 'list'>"
     ]
    }
   ],
   "source": [
    "rag_sub_chain = (\n",
    "    {\"context\": RunnableLambda(hybrid_results) | RunnableLambda(format_docs), \"question\": RunnablePassthrough()}\n",
    "    | prompt\n",
    "    | StrOutputParser()\n",
    ")"
   ]
  },
  {
   "cell_type": "code",
   "execution_count": null,
   "id": "b7bc1a54-ded1-42ea-a93b-f78ee97d879a",
   "metadata": {},
   "outputs": [],
   "source": []
  }
 ],
 "metadata": {
  "kernelspec": {
   "display_name": "Python [conda env:Anaconda-eval] *",
   "language": "python",
   "name": "conda-env-Anaconda-eval-py"
  },
  "language_info": {
   "codemirror_mode": {
    "name": "ipython",
    "version": 3
   },
   "file_extension": ".py",
   "mimetype": "text/x-python",
   "name": "python",
   "nbconvert_exporter": "python",
   "pygments_lexer": "ipython3",
   "version": "3.11.11"
  }
 },
 "nbformat": 4,
 "nbformat_minor": 5
}
