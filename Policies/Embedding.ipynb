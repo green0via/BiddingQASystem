{
 "cells": [
  {
   "cell_type": "code",
   "execution_count": 1,
   "id": "627a06fc-546a-4b00-949f-bed6891c1a6c",
   "metadata": {},
   "outputs": [],
   "source": [
    "from pymongo import MongoClient\n",
    "\n",
    "col_mongo_name = \"国家按章分\"\n",
    "# col_mongo_name = \"上海按章分\"\n",
    "# col_mongo_name = \"中心按章分\"\n",
    "mongo = MongoClient(\"mongodb://localhost:27017/\")\n",
    "db = mongo[\"xunfei\"]\n",
    "col_mongo = db[col_mongo_name]\n"
   ]
  },
  {
   "cell_type": "code",
   "execution_count": 2,
   "id": "bff411eb-f55d-4861-8082-192b6563aafe",
   "metadata": {},
   "outputs": [],
   "source": [
    "from pymilvus import connections, utility, FieldSchema, CollectionSchema, DataType, Collection\n",
    "connections.connect(\"default\", host=\"localhost\", port=\"19530\")\n",
    "col_name = \"CountryPolicy\"\n",
    "# col_name = \"ShanghaiPolicy\"\n",
    "# col_name = \"CentrePolicy\"\n",
    "fields = [\n",
    "    FieldSchema(name=\"para_id\", dtype=DataType.VARCHAR, is_primary=True, max_length=100),\n",
    "    FieldSchema(name=\"text\", dtype=DataType.VARCHAR, max_length=8192),\n",
    "    FieldSchema(name=\"dense_vector\", dtype=DataType.FLOAT_VECTOR, dim=1024),\n",
    "    FieldSchema(name=\"sparse_vector\", dtype=DataType.SPARSE_FLOAT_VECTOR)\n",
    "]\n",
    "\n",
    "schema = CollectionSchema(fields, description=\"Policy Paragraph Embeddings\")\n",
    "\n",
    "\n",
    "if utility.has_collection(col_name):\n",
    "    Collection(col_name).drop()\n",
    "col = Collection(col_name, schema, consistency_level=\"Strong\")\n",
    "\n",
    "dense_index = {\"index_type\": \"HNSW\", \"metric_type\": \"L2\"}\n",
    "col.create_index(\"dense_vector\", dense_index)\n",
    "sparse_index = {\"index_type\": \"SPARSE_INVERTED_INDEX\", \"metric_type\": \"IP\"}\n",
    "col.create_index(\"sparse_vector\", sparse_index)\n",
    "# col = Collection(col_name)\n",
    "col.load()"
   ]
  },
  {
   "cell_type": "code",
   "execution_count": 13,
   "id": "e1573f48-a1bb-40fe-8827-34b591c780b8",
   "metadata": {
    "scrolled": true
   },
   "outputs": [
    {
     "name": "stderr",
     "output_type": "stream",
     "text": [
      "Fetching 30 files: 100%|███████████████████████████████████████████████████████████████████████| 30/30 [00:00<?, ?it/s]\n"
     ]
    }
   ],
   "source": [
    "from FlagEmbedding import BGEM3FlagModel\n",
    "\n",
    "model = BGEM3FlagModel('BAAI/bge-m3',\n",
    "                      use_fp16=False,\n",
    "                      pooling_method='cls',\n",
    "                      devices=['cuda:0'])\n",
    "\n",
    "def get_embeddings(text):\n",
    "    embeddings = model.encode(\n",
    "        text,\n",
    "        return_dense=True,\n",
    "        return_sparse=True,\n",
    "        return_colbert_vecs=False\n",
    "    )\n",
    "    return embeddings"
   ]
  },
  {
   "cell_type": "code",
   "execution_count": 14,
   "id": "ebd39041-f99c-4d0c-ba55-c156d304e21c",
   "metadata": {
    "editable": true,
    "slideshow": {
     "slide_type": ""
    },
    "tags": []
   },
   "outputs": [
    {
     "name": "stderr",
     "output_type": "stream",
     "text": [
      "You're using a XLMRobertaTokenizerFast tokenizer. Please note that with a fast tokenizer, using the `__call__` method is faster than using a method to encode the text followed by a call to the `pad` method to get a padded encoding.\n",
      "向量生成中...: 6277it [04:10, 25.10it/s]"
     ]
    },
    {
     "name": "stdout",
     "output_type": "stream",
     "text": [
      "生成已完成。\n"
     ]
    },
    {
     "name": "stderr",
     "output_type": "stream",
     "text": [
      "\n"
     ]
    }
   ],
   "source": [
    "from tqdm import tqdm\n",
    "\n",
    "batch_ids = []\n",
    "para_ids = []\n",
    "texts = []\n",
    "dense_vectors = []\n",
    "sparse_vectors = []\n",
    "BATCH_SIZE = 100\n",
    "\n",
    "for doc in tqdm(col_mongo.find({\"vectorized\": True}), desc='向量生成中...'):\n",
    "    para_id = doc['para_id']\n",
    "    text = doc['text']\n",
    "    try:\n",
    "        vector = get_embeddings(text)\n",
    "        # print(vector)\n",
    "        # break\n",
    "        dense_vector = vector[\"dense_vecs\"]\n",
    "        sparse_vector = vector[\"lexical_weights\"]\n",
    "        para_ids.append(para_id)\n",
    "        texts.append(text)\n",
    "        dense_vectors.append(dense_vector)\n",
    "        sparse_vectors.append(sparse_vector)\n",
    "        batch_ids.append(doc['_id'])\n",
    "        if len(para_ids) > BATCH_SIZE:\n",
    "            col.insert([para_ids, texts, dense_vectors, sparse_vectors])\n",
    "            col_mongo.update_many({\"_id\": {\"$in\": batch_ids}}, {\"$set\": {\"vectorized\": True}})\n",
    "            batch_ids = []\n",
    "            para_ids = []\n",
    "            texts = []\n",
    "            dense_vectors = []\n",
    "            sparse_vectors = []\n",
    "\n",
    "    except Exception as e:\n",
    "        print(f\"向量化失败：{para_id}, {type(e).__name__}: {e}\")\n",
    "\n",
    "if para_ids:\n",
    "    col.insert([para_ids, texts, dense_vectors, sparse_vectors])\n",
    "    col_mongo.update_many({\"_id\": {\"$in\": batch_ids}}, {\"$set\": {\"vectorized\": True}})\n",
    "print(\"生成已完成。\")"
   ]
  },
  {
   "cell_type": "code",
   "execution_count": 5,
   "id": "c0407135-5d07-49cc-ae02-1af0567b75aa",
   "metadata": {},
   "outputs": [],
   "source": [
    "from pymilvus import AnnSearchRequest, WeightedRanker\n",
    "\n",
    "def dense_search(col, query_dense_embedding, limit=5):\n",
    "    search_params = {\"metric_type\": \"L2\", \"params\": {\"level\":1}}\n",
    "    res = col.search(\n",
    "        [query_dense_embedding],\n",
    "        anns_field=\"dense_vector\",\n",
    "        limit=limit,\n",
    "        output_fields=[\"text\"],\n",
    "        param=search_params,\n",
    "    )[0]\n",
    "    return [hit.get(\"text\") for hit in res]\n",
    "\n",
    "\n",
    "def sparse_search(col, query_sparse_embedding, limit=5):\n",
    "    search_params = {\n",
    "        \"metric_type\": \"IP\",\n",
    "        \"params\": {},\n",
    "    }\n",
    "    res = col.search(\n",
    "        [query_sparse_embedding],\n",
    "        anns_field=\"sparse_vector\",\n",
    "        limit=limit,\n",
    "        output_fields=[\"text\"],\n",
    "        param=search_params,\n",
    "    )[0]\n",
    "    return [hit.get(\"text\") for hit in res]\n",
    "\n",
    "\n",
    "def hybrid_search(\n",
    "    col,\n",
    "    query_dense_embedding,\n",
    "    query_sparse_embedding,\n",
    "    sparse_weight=1.0,\n",
    "    dense_weight=1.0,\n",
    "    limit=20,\n",
    "):\n",
    "    dense_search_params = {\"metric_type\": \"L2\", \"params\": {\"level\":1}}\n",
    "    dense_req = AnnSearchRequest(\n",
    "        [query_dense_embedding], \"dense_vector\", dense_search_params, limit=limit\n",
    "    )\n",
    "    sparse_search_params = {\"metric_type\": \"IP\", \"params\": {}}\n",
    "    sparse_req = AnnSearchRequest(\n",
    "        [query_sparse_embedding], \"sparse_vector\", sparse_search_params, limit=limit\n",
    "    )\n",
    "    rerank = WeightedRanker(sparse_weight, dense_weight)\n",
    "    res = col.hybrid_search(\n",
    "        [sparse_req, dense_req], rerank=rerank, limit=limit, output_fields=[\"text\"]\n",
    "    )[0]\n",
    "    return [hit.get(\"text\") for hit in res]"
   ]
  },
  {
   "cell_type": "code",
   "execution_count": 6,
   "id": "4cc37ed3-cb5e-4e97-a322-b56db99eb6c1",
   "metadata": {},
   "outputs": [],
   "source": [
    "import jieba\n",
    "\n",
    "def doc_text_formatting(query, docs):\n",
    "    query_words = list(set(jieba.lcut(query)))  # 中文分词\n",
    "    formatted_texts = []\n",
    "\n",
    "    for doc in docs:\n",
    "        highlighted = doc\n",
    "        for word in query_words:\n",
    "            if not word.strip():\n",
    "                continue\n",
    "            highlighted = re.sub(\n",
    "                re.escape(word),\n",
    "                f\"<span style='color:red'>{word}</span>\",\n",
    "                highlighted\n",
    "            )\n",
    "        formatted_texts.append(highlighted)\n",
    "    return formatted_texts\n"
   ]
  },
  {
   "cell_type": "code",
   "execution_count": 18,
   "id": "e5dc93c7-7ced-49b8-bce3-5a0bac43d6b9",
   "metadata": {},
   "outputs": [
    {
     "name": "stdin",
     "output_type": "stream",
     "text": [
      "Enter your search query:  评估专业人员在何种情形下不得从事评估业务？境外国有产权发生变动时，是否需要向国资委申请产权登记？\n"
     ]
    }
   ],
   "source": [
    "query = input(\"Enter your search query: \")\n",
    "query_embeddings = get_embeddings([query])"
   ]
  },
  {
   "cell_type": "code",
   "execution_count": 19,
   "id": "f2dbc1e1-88ec-45b8-a5d6-c0c1e43eedfa",
   "metadata": {},
   "outputs": [],
   "source": [
    "dense_results = dense_search(col, query_embeddings[\"dense_vecs\"][0])\n",
    "sparse_results = sparse_search(col, query_embeddings[\"lexical_weights\"][0])\n",
    "hybrid_results = hybrid_search(\n",
    "    col,\n",
    "    query_embeddings[\"dense_vecs\"][0],\n",
    "    query_embeddings[\"lexical_weights\"][0],\n",
    "    sparse_weight=0.7,\n",
    "    dense_weight=1.0,\n",
    ")"
   ]
  },
  {
   "cell_type": "code",
   "execution_count": 20,
   "id": "ce7e751c-e176-4f88-9f4d-7b03d5495823",
   "metadata": {},
   "outputs": [
    {
     "data": {
      "text/markdown": [
       "### 🔍 **Dense Search Results:**"
      ],
      "text/plain": [
       "<IPython.core.display.Markdown object>"
      ]
     },
     "metadata": {},
     "output_type": "display_data"
    },
    {
     "data": {
      "text/markdown": [
       "第九条 第九条中央企业及其各级子企业以其拥有的境内<span style='color:red'>国有<span style='color:red'>产权</span></span><span style='color:red'>向</span><span style='color:red'>境外</span>企业注资或者转让<span style='color:red'>，</span>或者以其拥有的<span style='color:red'>境外</span><span style='color:red'>国有<span style='color:red'>产权</span></span><span style='color:red'>向</span>境内企业注资或者转让<span style='color:red'>，</span>应当依照《企业国有资产<span style='color:red'>评估</span>管理暂行办法》（<span style='color:red'>国资委</span>令第12号）等相关规定<span style='color:red'>，</span>聘请具有相应资质的境内<span style='color:red'>评估</span>机构对标的物进行<span style='color:red'>评估</span><span style='color:red'>，</span>并办理<span style='color:red'>评估</span>备案或者核准。"
      ],
      "text/plain": [
       "<IPython.core.display.Markdown object>"
      ]
     },
     "metadata": {},
     "output_type": "display_data"
    },
    {
     "data": {
      "text/markdown": [
       "第十条 第十条中央企业及其各级子企业独资或者控股的<span style='color:red'>境外</span>企业<span style='color:red'>在</span><span style='color:red'>境外</span><span style='color:red'>发生</span>转让或者受让<span style='color:red'>产权</span>、以非货币资产出资、非上市公司国有股东股权比例<span style='color:red'>变动</span>、合并分立、解散清算等经济行为<span style='color:red'>时</span><span style='color:red'>，</span>应当聘请具有相应资质、<span style='color:red'>专业</span>经验和良好信誉的<span style='color:red'>专业</span>机构对标的物进行<span style='color:red'>评估</span>或者估值<span style='color:red'>，</span><span style='color:red'>评估</span>项目或者估值情况应当由中央企业备案；涉及中央企业重要子企业由国有独资转为绝对控股、绝对控股转为相对控股或者失去控股地位等经济行为的<span style='color:red'>，</span><span style='color:red'>评估</span>项目或者估值情况应当报<span style='color:red'>国资委</span>备案或者核准。中央企业及其各级子企业独资或者控股的<span style='color:red'>境外</span>企业<span style='color:red'>在</span>进行与<span style='color:red'>评估</span>或者估值相应的经济行为<span style='color:red'>时</span><span style='color:red'>，</span>其交易对价应当以经备案的<span style='color:red'>评估</span>或者估值结果为基准。"
      ],
      "text/plain": [
       "<IPython.core.display.Markdown object>"
      ]
     },
     "metadata": {},
     "output_type": "display_data"
    },
    {
     "data": {
      "text/markdown": [
       "第二十九条 第二十九条备案管理单位审核<span style='color:red'>境外</span><span style='color:red'>评估</span>或估值报告<span style='color:red'>，</span>应当关注<span style='color:red'>评估</span>或估值机构的选聘<span style='color:red'>是否</span>符合《中央企业<span style='color:red'>境外</span><span style='color:red'>国有<span style='color:red'>产权</span></span>管理暂行办法》（<span style='color:red'>国资委</span>令第27号）和《关于加强中央企业<span style='color:red'>境外</span><span style='color:red'>国有<span style='color:red'>产权</span></span>管理有关工作的通知》（国资发<span style='color:red'>产权</span>〔2011〕144号）等规定。"
      ],
      "text/plain": [
       "<IPython.core.display.Markdown object>"
      ]
     },
     "metadata": {},
     "output_type": "display_data"
    },
    {
     "data": {
      "text/markdown": [
       "第八条 第八条中央企业及其各级子企业<span style='color:red'>发生</span>以<span style='color:red'>下</span>事项<span style='color:red'>时</span><span style='color:red'>，</span>应当由中央企业统一<span style='color:red'>向</span><span style='color:red'>国资委</span>申办<span style='color:red'>产权</span><span style='color:red'>登记</span>：（一）以投资、分立、合并等方式新设<span style='color:red'>境外</span>企业<span style='color:red'>，</span>或者以收购、投资入股等方式首次取得<span style='color:red'>境外</span>企业<span style='color:red'>产权</span>的。（二）<span style='color:red'>境外</span>企业名称、注册地、注册资本、主营<span style='color:red'>业务</span>范围等企业基本信息<span style='color:red'>发生</span>改变<span style='color:red'>，</span>或者因企业出资人、出资额、出资比例等变化导致<span style='color:red'>境外</span>企业<span style='color:red'>产权</span>状况<span style='color:red'>发生</span>改变的。（三）<span style='color:red'>境外</span>企业解散、破产<span style='color:red'>，</span>或者因<span style='color:red'>产权</span>转让、减资等原因不再保留<span style='color:red'>国有<span style='color:red'>产权</span></span>的。（四）其他<span style='color:red'>需要</span>办理<span style='color:red'>产权</span><span style='color:red'>登记</span>的<span style='color:red'>情形</span>。"
      ],
      "text/plain": [
       "<IPython.core.display.Markdown object>"
      ]
     },
     "metadata": {},
     "output_type": "display_data"
    },
    {
     "data": {
      "text/markdown": [
       "第五十三条 第五十三条会计师事务所、资产<span style='color:red'>评估</span>机构、律师事务所、财务顾问机构等社会中介机构<span style='color:red'>在</span>国有资产转让的审计、<span style='color:red'>评估</span>、法律和咨询服务中违规执业的<span style='color:red'>，</span>财政部门应当<span style='color:red'>向</span>其行业主管部门通报有关情况<span style='color:red'>，</span>建议依法给予相应处理。"
      ],
      "text/plain": [
       "<IPython.core.display.Markdown object>"
      ]
     },
     "metadata": {},
     "output_type": "display_data"
    },
    {
     "data": {
      "text/markdown": [
       "### 🌿 **Sparse Search Results:**"
      ],
      "text/plain": [
       "<IPython.core.display.Markdown object>"
      ]
     },
     "metadata": {},
     "output_type": "display_data"
    },
    {
     "data": {
      "text/markdown": [
       "第十条 第十条中央企业及其各级子企业独资或者控股的<span style='color:red'>境外</span>企业<span style='color:red'>在</span><span style='color:red'>境外</span><span style='color:red'>发生</span>转让或者受让<span style='color:red'>产权</span>、以非货币资产出资、非上市公司国有股东股权比例<span style='color:red'>变动</span>、合并分立、解散清算等经济行为<span style='color:red'>时</span><span style='color:red'>，</span>应当聘请具有相应资质、<span style='color:red'>专业</span>经验和良好信誉的<span style='color:red'>专业</span>机构对标的物进行<span style='color:red'>评估</span>或者估值<span style='color:red'>，</span><span style='color:red'>评估</span>项目或者估值情况应当由中央企业备案；涉及中央企业重要子企业由国有独资转为绝对控股、绝对控股转为相对控股或者失去控股地位等经济行为的<span style='color:red'>，</span><span style='color:red'>评估</span>项目或者估值情况应当报<span style='color:red'>国资委</span>备案或者核准。中央企业及其各级子企业独资或者控股的<span style='color:red'>境外</span>企业<span style='color:red'>在</span>进行与<span style='color:red'>评估</span>或者估值相应的经济行为<span style='color:red'>时</span><span style='color:red'>，</span>其交易对价应当以经备案的<span style='color:red'>评估</span>或者估值结果为基准。"
      ],
      "text/plain": [
       "<IPython.core.display.Markdown object>"
      ]
     },
     "metadata": {},
     "output_type": "display_data"
    },
    {
     "data": {
      "text/markdown": [
       "第八条 第八条中央企业及其各级子企业<span style='color:red'>发生</span>以<span style='color:red'>下</span>事项<span style='color:red'>时</span><span style='color:red'>，</span>应当由中央企业统一<span style='color:red'>向</span><span style='color:red'>国资委</span>申办<span style='color:red'>产权</span><span style='color:red'>登记</span>：（一）以投资、分立、合并等方式新设<span style='color:red'>境外</span>企业<span style='color:red'>，</span>或者以收购、投资入股等方式首次取得<span style='color:red'>境外</span>企业<span style='color:red'>产权</span>的。（二）<span style='color:red'>境外</span>企业名称、注册地、注册资本、主营<span style='color:red'>业务</span>范围等企业基本信息<span style='color:red'>发生</span>改变<span style='color:red'>，</span>或者因企业出资人、出资额、出资比例等变化导致<span style='color:red'>境外</span>企业<span style='color:red'>产权</span>状况<span style='color:red'>发生</span>改变的。（三）<span style='color:red'>境外</span>企业解散、破产<span style='color:red'>，</span>或者因<span style='color:red'>产权</span>转让、减资等原因不再保留<span style='color:red'>国有<span style='color:red'>产权</span></span>的。（四）其他<span style='color:red'>需要</span>办理<span style='color:red'>产权</span><span style='color:red'>登记</span>的<span style='color:red'>情形</span>。"
      ],
      "text/plain": [
       "<IPython.core.display.Markdown object>"
      ]
     },
     "metadata": {},
     "output_type": "display_data"
    },
    {
     "data": {
      "text/markdown": [
       "第二十三条 第二十三条企业申办<span style='color:red'>变动</span><span style='color:red'>产权</span><span style='color:red'>登记</span>应当填写《企业国有资产<span style='color:red'>变动</span><span style='color:red'>产权</span><span style='color:red'>登记</span>表》<span style='color:red'>，</span>并提交<span style='color:red'>下</span>列文件、资料：（一）政府有关部门或出资人的母公司或上级单位的批准文件、企业股东大会或董事会做出的书面决定及出资证明；（二）修改后的企业章程；（三）各出资人的企业法人营业执照、经注册会计师审计的或财政部门核定的企业上一年度财务报告和提供保证、定金或设置抵押、质押、留置以及资产被司法机关冻结的相关文件；其中<span style='color:red'>，</span>国有资本出资人还应当提交<span style='color:red'>产权</span><span style='color:red'>登记</span>证副本；（四）本企业的《企业法人营业执照》副本、经注册会计师审计的或财政部门核定的企业上一年度财务报告和提供保证、定金或设置抵押、质押、留置以及资产被司法机关冻结的相关文件和企业的<span style='color:red'>产权</span><span style='color:red'>登记</span>证副本；（五）经注册会计师审核的验资报告<span style='color:red'>，</span>其中以货币投资的应当附银行进账单；以实物、无形资产投资的应当提交经财政（国有资产管理）部门合规性审核的资产<span style='color:red'>评估</span>报告；（六）企业<span style='color:red'>发生</span>本细则"
      ],
      "text/plain": [
       "<IPython.core.display.Markdown object>"
      ]
     },
     "metadata": {},
     "output_type": "display_data"
    },
    {
     "data": {
      "text/markdown": [
       "第九条 第九条中央企业及其各级子企业以其拥有的境内<span style='color:red'>国有<span style='color:red'>产权</span></span><span style='color:red'>向</span><span style='color:red'>境外</span>企业注资或者转让<span style='color:red'>，</span>或者以其拥有的<span style='color:red'>境外</span><span style='color:red'>国有<span style='color:red'>产权</span></span><span style='color:red'>向</span>境内企业注资或者转让<span style='color:red'>，</span>应当依照《企业国有资产<span style='color:red'>评估</span>管理暂行办法》（<span style='color:red'>国资委</span>令第12号）等相关规定<span style='color:red'>，</span>聘请具有相应资质的境内<span style='color:red'>评估</span>机构对标的物进行<span style='color:red'>评估</span><span style='color:red'>，</span>并办理<span style='color:red'>评估</span>备案或者核准。"
      ],
      "text/plain": [
       "<IPython.core.display.Markdown object>"
      ]
     },
     "metadata": {},
     "output_type": "display_data"
    },
    {
     "data": {
      "text/markdown": [
       "第十四条 第十四条<span style='color:red'>评估</span><span style='color:red'>专业</span><span style='color:red'>人员</span><span style='color:red'>不得</span>有<span style='color:red'>下</span>列行为：（一）私自接受委托<span style='color:red'>从事</span><span style='color:red'>业务</span>、收取费用；（二）同<span style='color:red'>时</span><span style='color:red'>在</span>两个以上<span style='color:red'>评估</span>机构<span style='color:red'>从事</span><span style='color:red'>业务</span>；（三）采用欺骗、利诱、胁迫<span style='color:red'>，</span>或者贬损、诋毁其他<span style='color:red'>评估</span><span style='color:red'>专业</span><span style='color:red'>人员</span>等不正当手段招揽<span style='color:red'>业务</span>；（四）允许他人以本人名义<span style='color:red'>从事</span><span style='color:red'>业务</span><span style='color:red'>，</span>或者冒用他人名义<span style='color:red'>从事</span><span style='color:red'>业务</span>；（五）签署本人未承办<span style='color:red'>业务</span>的<span style='color:red'>评估</span>报告；（六）索要、收受或者变相索要、收受合同约定以外的酬金、财物<span style='color:red'>，</span>或者谋取其他不正当利益；（七）签署虚假<span style='color:red'>评估</span>报告或者有重大遗漏的<span style='color:red'>评估</span>报告；（八）违反法律、行政法规的其他行为。第三章 <span style='color:red'>评估</span>机构"
      ],
      "text/plain": [
       "<IPython.core.display.Markdown object>"
      ]
     },
     "metadata": {},
     "output_type": "display_data"
    },
    {
     "data": {
      "text/markdown": [
       "### 🔄 **Hybrid Search Results:**"
      ],
      "text/plain": [
       "<IPython.core.display.Markdown object>"
      ]
     },
     "metadata": {},
     "output_type": "display_data"
    },
    {
     "data": {
      "text/markdown": [
       "第九条 第九条中央企业及其各级子企业以其拥有的境内<span style='color:red'>国有<span style='color:red'>产权</span></span><span style='color:red'>向</span><span style='color:red'>境外</span>企业注资或者转让<span style='color:red'>，</span>或者以其拥有的<span style='color:red'>境外</span><span style='color:red'>国有<span style='color:red'>产权</span></span><span style='color:red'>向</span>境内企业注资或者转让<span style='color:red'>，</span>应当依照《企业国有资产<span style='color:red'>评估</span>管理暂行办法》（<span style='color:red'>国资委</span>令第12号）等相关规定<span style='color:red'>，</span>聘请具有相应资质的境内<span style='color:red'>评估</span>机构对标的物进行<span style='color:red'>评估</span><span style='color:red'>，</span>并办理<span style='color:red'>评估</span>备案或者核准。"
      ],
      "text/plain": [
       "<IPython.core.display.Markdown object>"
      ]
     },
     "metadata": {},
     "output_type": "display_data"
    },
    {
     "data": {
      "text/markdown": [
       "第十条 第十条中央企业及其各级子企业独资或者控股的<span style='color:red'>境外</span>企业<span style='color:red'>在</span><span style='color:red'>境外</span><span style='color:red'>发生</span>转让或者受让<span style='color:red'>产权</span>、以非货币资产出资、非上市公司国有股东股权比例<span style='color:red'>变动</span>、合并分立、解散清算等经济行为<span style='color:red'>时</span><span style='color:red'>，</span>应当聘请具有相应资质、<span style='color:red'>专业</span>经验和良好信誉的<span style='color:red'>专业</span>机构对标的物进行<span style='color:red'>评估</span>或者估值<span style='color:red'>，</span><span style='color:red'>评估</span>项目或者估值情况应当由中央企业备案；涉及中央企业重要子企业由国有独资转为绝对控股、绝对控股转为相对控股或者失去控股地位等经济行为的<span style='color:red'>，</span><span style='color:red'>评估</span>项目或者估值情况应当报<span style='color:red'>国资委</span>备案或者核准。中央企业及其各级子企业独资或者控股的<span style='color:red'>境外</span>企业<span style='color:red'>在</span>进行与<span style='color:red'>评估</span>或者估值相应的经济行为<span style='color:red'>时</span><span style='color:red'>，</span>其交易对价应当以经备案的<span style='color:red'>评估</span>或者估值结果为基准。"
      ],
      "text/plain": [
       "<IPython.core.display.Markdown object>"
      ]
     },
     "metadata": {},
     "output_type": "display_data"
    },
    {
     "data": {
      "text/markdown": [
       "第八条 第八条中央企业及其各级子企业<span style='color:red'>发生</span>以<span style='color:red'>下</span>事项<span style='color:red'>时</span><span style='color:red'>，</span>应当由中央企业统一<span style='color:red'>向</span><span style='color:red'>国资委</span>申办<span style='color:red'>产权</span><span style='color:red'>登记</span>：（一）以投资、分立、合并等方式新设<span style='color:red'>境外</span>企业<span style='color:red'>，</span>或者以收购、投资入股等方式首次取得<span style='color:red'>境外</span>企业<span style='color:red'>产权</span>的。（二）<span style='color:red'>境外</span>企业名称、注册地、注册资本、主营<span style='color:red'>业务</span>范围等企业基本信息<span style='color:red'>发生</span>改变<span style='color:red'>，</span>或者因企业出资人、出资额、出资比例等变化导致<span style='color:red'>境外</span>企业<span style='color:red'>产权</span>状况<span style='color:red'>发生</span>改变的。（三）<span style='color:red'>境外</span>企业解散、破产<span style='color:red'>，</span>或者因<span style='color:red'>产权</span>转让、减资等原因不再保留<span style='color:red'>国有<span style='color:red'>产权</span></span>的。（四）其他<span style='color:red'>需要</span>办理<span style='color:red'>产权</span><span style='color:red'>登记</span>的<span style='color:red'>情形</span>。"
      ],
      "text/plain": [
       "<IPython.core.display.Markdown object>"
      ]
     },
     "metadata": {},
     "output_type": "display_data"
    },
    {
     "data": {
      "text/markdown": [
       "第十一条 第十一条<span style='color:red'>境外</span><span style='color:red'>国有<span style='color:red'>产权</span></span>转让等涉及<span style='color:red'>国有<span style='color:red'>产权</span></span><span style='color:red'>变动</span>的事项<span style='color:red'>，</span>由中央企业决定或者批准<span style='color:red'>，</span>并按国家有关法律和法规办理相关手续。其中<span style='color:red'>，</span>中央企业重要子企业由国有独资转为绝对控股、绝对控股转为相对控股或者失去控股地位的<span style='color:red'>，</span>应当报<span style='color:red'>国资委</span>审核同意。"
      ],
      "text/plain": [
       "<IPython.core.display.Markdown object>"
      ]
     },
     "metadata": {},
     "output_type": "display_data"
    },
    {
     "data": {
      "text/markdown": [
       "第二十九条 第二十九条备案管理单位审核<span style='color:red'>境外</span><span style='color:red'>评估</span>或估值报告<span style='color:red'>，</span>应当关注<span style='color:red'>评估</span>或估值机构的选聘<span style='color:red'>是否</span>符合《中央企业<span style='color:red'>境外</span><span style='color:red'>国有<span style='color:red'>产权</span></span>管理暂行办法》（<span style='color:red'>国资委</span>令第27号）和《关于加强中央企业<span style='color:red'>境外</span><span style='color:red'>国有<span style='color:red'>产权</span></span>管理有关工作的通知》（国资发<span style='color:red'>产权</span>〔2011〕144号）等规定。"
      ],
      "text/plain": [
       "<IPython.core.display.Markdown object>"
      ]
     },
     "metadata": {},
     "output_type": "display_data"
    },
    {
     "data": {
      "text/markdown": [
       "第五十三条 第五十三条会计师事务所、资产<span style='color:red'>评估</span>机构、律师事务所、财务顾问机构等社会中介机构<span style='color:red'>在</span>国有资产转让的审计、<span style='color:red'>评估</span>、法律和咨询服务中违规执业的<span style='color:red'>，</span>财政部门应当<span style='color:red'>向</span>其行业主管部门通报有关情况<span style='color:red'>，</span>建议依法给予相应处理。"
      ],
      "text/plain": [
       "<IPython.core.display.Markdown object>"
      ]
     },
     "metadata": {},
     "output_type": "display_data"
    },
    {
     "data": {
      "text/markdown": [
       "第三十九条 第三十九条进行资产<span style='color:red'>评估</span>的行政单位<span style='color:red'>，</span>应当如实提供有关情况和资料<span style='color:red'>，</span>并对所提供的情况和资料的客观性、真实性和合法性负责<span style='color:red'>，</span><span style='color:red'>不得</span>以任何形式干预<span style='color:red'>评估</span>机构独立执业。第七章　<span style='color:red'>产权</span>纠纷调处"
      ],
      "text/plain": [
       "<IPython.core.display.Markdown object>"
      ]
     },
     "metadata": {},
     "output_type": "display_data"
    },
    {
     "data": {
      "text/markdown": [
       "一、（子段1-2） 碍其办理<span style='color:red'>业务</span>。任何人<span style='color:red'>不得</span>授意、指使、强令改制企业会计机构、会计<span style='color:red'>人员</span>提供虚假资料文件或违法办理会计事项。（四）资产<span style='color:red'>评估</span>。国有企业改制<span style='color:red'>，</span>必须依照《国有资产<span style='color:red'>评估</span>管理办法》（国务院令第９１号）聘请具备资格的资产<span style='color:red'>评估</span>事务所进行资产和土地使用权<span style='color:red'>评估</span>。国有控股企业进行资产<span style='color:red'>评估</span><span style='color:red'>，</span>要严格履行有关法律法规规定的程序。<span style='color:red'>向</span>非国有投资者转让<span style='color:red'>国有<span style='color:red'>产权</span></span>的<span style='color:red'>，</span>由直接持有该<span style='color:red'>国有<span style='color:red'>产权</span></span>的单位决定聘请资产<span style='color:red'>评估</span>事务所。企业的专利权、非专利技术、商标权、商誉等无形资产必须纳入<span style='color:red'>评估</span>范围。<span style='color:red'>评估</span>结果由依照有关规定批准国有企业改制和转让<span style='color:red'>国有<span style='color:red'>产权</span></span>的单位核准。（五）交易管理。非上市企业<span style='color:red'>国有<span style='color:red'>产权</span></span>转让要进入<span style='color:red'>产权</span>交易市场<span style='color:red'>，</span>不受地区、行业、出资和隶属关系的限制<span style='color:red'>，</span>并按照《企业<span style='color:red'>国有<span style='color:red'>产权</span></span>转让管理暂行办法》的规定<span style='color:red'>，</span>公开信息<span style='color:red'>，</span>竞价转让。具体转让方式可以采取拍卖、招投标、协议转让以及国家法律法规规定的其他方式。（六）定价管理。<span style='color:red'>向</span>非国有投资者转让<span style='color:red'>国有<span style='color:red'>产权</span></span>的底价<span style='color:red'>，</span>或者以存量国有资产吸收非国有投资者投资<span style='color:red'>时</span><span style='color:red'>国有<span style='color:red'>产权</span></span>的折股价格<span style='color:red'>，</span>由依照有关规定批准国有企业改制和转让<span style='color:red'>国有<span style='color:red'>产权</span></span>的单位决定。底价的确定主要依据资产<span style='color:red'>评估</span>的结果<span style='color:red'>，</span>同<span style='color:red'>时</span>要考虑<span style='color:red'>产权</span>交易市场的供求状况、同类资产的市场价格、职工安置、引进先进技术等因素。上市公司国有股转让价格<span style='color:red'>在</span>不低于每股净资产的基础上<span style='color:red'>，</span>参考上市公司盈利能力和市场表现合理定价。（七）转让价款管理。转让<span style='color:red'>国有<span style='color:red'>产权</span></span>的价款原则上应当一次结清。一次结清确有困难的<span style='color:red'>，</span>经转让和受让双方协商<span style='color:red'>，</span>并经依照有关规定批准国有企业改制和转让<span style='color:red'>国有<span style='color:red'>产权</span></span>的单位批准<span style='color:red'>，</span>可采取分期付款的方式。分期付款<span style='color:red'>时</span><span style='color:red'>，</span>首期付款<span style='color:red'>不得</span>低于总价款的３０％<span style='color:red'>，</span>其余价款应当由受让方提供合法担保<span style='color:red'>，</span>并<span style='color:red'>在</span>首期付款之日起一年内支付完毕。转让<span style='color:red'>国有<span style='color:red'>产权</span></span>的价款优先用于支付解除劳动合同职工的经济补偿金和移交社会保障机构管理职工的社会保险费<span style='color:red'>，</span>以及偿还拖欠职工的债务和企业欠缴的社会保险费<span style='color:red'>，</span>剩余价款按照有关规定处理。（八）依法保护债权人利益。国有企业改制要征得债权金融机构同意<span style='color:red'>，</span>保全金融债权<span style='color:red'>，</span>依法落实金融债务<span style='color:red'>，</span>维护其他债权人的利益。要严格防止利用改制逃废金融债务<span style='color:red'>，</span>金融债务未落实的企业<span style='color:red'>不得</span>进行改制。（九）维护职工合法权益。国有企业改制方案和国有控股企业改制为非国有的企业的方案<span style='color:red'>，</span>必须提交企业职工代表大会或职工大会审议<span style='color:red'>，</span>充分听取职工意见。其中<span style='color:red'>，</span>职工安置方案需经企业职工代表大会或职工大会审议通过后方可实施改制。改制为非国有的企业<span style='color:red'>，</span>要按照有"
      ],
      "text/plain": [
       "<IPython.core.display.Markdown object>"
      ]
     },
     "metadata": {},
     "output_type": "display_data"
    },
    {
     "data": {
      "text/markdown": [
       "第三条 第三条国有资产占有单位（以<span style='color:red'>下</span>简称占有单位）有<span style='color:red'>下</span>列<span style='color:red'>情形</span>之一的<span style='color:red'>，</span>应当进行资产<span style='color:red'>评估</span>：（一）资产拍卖、转让；（二）企业兼并、出售、联营、股份经营；（三）与外国公司、企业和其他经济组织或者个人开办中外合资经营企业或者中外合作经营企业；（四）企业清算；（五）依照国家有关规定<span style='color:red'>需要</span>进行资产<span style='color:red'>评估</span>的其他<span style='color:red'>情形</span>。"
      ],
      "text/plain": [
       "<IPython.core.display.Markdown object>"
      ]
     },
     "metadata": {},
     "output_type": "display_data"
    },
    {
     "data": {
      "text/markdown": [
       "第六条 第六条所列经济行为<span style='color:red'>，</span><span style='color:red'>需要</span>对接受的非国有资产进行<span style='color:red'>评估</span>的<span style='color:red'>，</span>接受企业应依照其<span style='color:red'>产权</span>关系将<span style='color:red'>评估</span>项目报国有资产监督管理机构或其所出资企业备案；如果该经济行为属于各级人民政府批准实施的<span style='color:red'>，</span>接受企业应依照其<span style='color:red'>产权</span>关系按规定程序将<span style='color:red'>评估</span>项目报同级国有资产监督管理机构核准。"
      ],
      "text/plain": [
       "<IPython.core.display.Markdown object>"
      ]
     },
     "metadata": {},
     "output_type": "display_data"
    },
    {
     "data": {
      "text/markdown": [
       "第七条 第七条企业有<span style='color:red'>下</span>列行为之一的<span style='color:red'>，</span>可以不对相关国有资产进行<span style='color:red'>评估</span>：（一）经各级人民政府或其国有资产监督管理机构批准<span style='color:red'>，</span>对企业整体或者部分资产实施无偿划转；（二）国有独资企业与其<span style='color:red'>下</span>属独资企业（事业单位）之间或其<span style='color:red'>下</span>属独资企业（事业单位）之间的合并、资产（<span style='color:red'>产权</span>）置换和无偿划转。"
      ],
      "text/plain": [
       "<IPython.core.display.Markdown object>"
      ]
     },
     "metadata": {},
     "output_type": "display_data"
    },
    {
     "data": {
      "text/markdown": [
       "第九条 第九条持有国务院或者省、自治区、直辖市人民政府国有资产管理行政主管部门颁发的国有资产<span style='color:red'>评估</span>资格证书的资产<span style='color:red'>评估</span>公司、会计师事务所、审计事务所、财务咨询公司<span style='color:red'>，</span>经国务院或者省、自治区、直辖市人民政府国有资产管理行政主管部门认可的临<span style='color:red'>时</span><span style='color:red'>评估</span>机构（以<span style='color:red'>下</span>统称资产<span style='color:red'>评估</span>机构）<span style='color:red'>，</span>可以接受占有单位的委托<span style='color:red'>，</span><span style='color:red'>从事</span>国有资产<span style='color:red'>评估</span><span style='color:red'>业务</span>。前款所列资产<span style='color:red'>评估</span>机构的管理办法<span style='color:red'>，</span>由国务院国有资产管理行政主管部门制定。"
      ],
      "text/plain": [
       "<IPython.core.display.Markdown object>"
      ]
     },
     "metadata": {},
     "output_type": "display_data"
    },
    {
     "data": {
      "text/markdown": [
       "第六十条 第六十条社会中介机构<span style='color:red'>在</span>为企业国有资产交易提供审计、资产<span style='color:red'>评估</span>和法律服务中存<span style='color:red'>在</span>违规执业行为的<span style='color:red'>，</span>有关国有企业应及<span style='color:red'>时</span>报告同级国资监管机构<span style='color:red'>，</span>国资监管机构可要求国有及国有控股企业、国有实际控制企业<span style='color:red'>不得</span>再委托其开展相关<span style='color:red'>业务</span>；情节严重的<span style='color:red'>，</span>由国资监管机构将有关情况通报其行业主管部门<span style='color:red'>，</span>建议给予其相应处罚。"
      ],
      "text/plain": [
       "<IPython.core.display.Markdown object>"
      ]
     },
     "metadata": {},
     "output_type": "display_data"
    },
    {
     "data": {
      "text/markdown": [
       "第三十九条 第三十九条事业单位有<span style='color:red'>下</span>列<span style='color:red'>情形</span>之一的<span style='color:red'>，</span>可以不进行资产<span style='color:red'>评估</span>：（一）经批准事业单位整体或者部分资产无偿划转；（二）行政、事业单位<span style='color:red'>下</span>属的事业单位之间的合并、资产划转、置换和转让；（三）国家设立的研究开发机构、高等院校将其持有的科技成果转让、许可或者作价投资给国有全资企业的；（四）<span style='color:red'>发生</span>其他不影响国有资<span style='color:red'>产权</span>益的特殊<span style='color:red'>产权</span><span style='color:red'>变动</span>行为<span style='color:red'>，</span>报经同级财政部门确认可以不进行资产<span style='color:red'>评估</span>的。"
      ],
      "text/plain": [
       "<IPython.core.display.Markdown object>"
      ]
     },
     "metadata": {},
     "output_type": "display_data"
    },
    {
     "data": {
      "text/markdown": [
       "第三条 第三条占有单位有<span style='color:red'>下</span>列行为之一的<span style='color:red'>，</span>应当对相关国有资产进行<span style='color:red'>评估</span>：（一）整体或部分改建为有限责任公司或者股份有限公司；（二）以非货币资产对外投资；（三）合并、分立、清算；（四）除上市公司以外的原股东股权比例<span style='color:red'>变动</span>；（五）除上市公司以外的整体或者部分<span style='color:red'>产权</span>（股权）转让；（六）资产转让、置换、拍卖；（七）整体资产或者部分资产租赁给非国有单位；（八）确定涉讼资产价值；（九）法律、行政法规规定的其他<span style='color:red'>需要</span>进行<span style='color:red'>评估</span>的事项。"
      ],
      "text/plain": [
       "<IPython.core.display.Markdown object>"
      ]
     },
     "metadata": {},
     "output_type": "display_data"
    },
    {
     "data": {
      "text/markdown": [
       "第四条 第四条占有单位有<span style='color:red'>下</span>列行为之一的<span style='color:red'>，</span>可以不进行资产<span style='color:red'>评估</span>：（一）经各级人民政府及其授权部门批准<span style='color:red'>，</span>对整体企业或者部分资产实施无偿划转；（二）国有独资企业、行政事业单位<span style='color:red'>下</span>属的独资企业（事业单位）之间的合并、资产（<span style='color:red'>产权</span>）划转、置换和转让。"
      ],
      "text/plain": [
       "<IPython.core.display.Markdown object>"
      ]
     },
     "metadata": {},
     "output_type": "display_data"
    },
    {
     "data": {
      "text/markdown": [
       "第三十六条 第三十六条<span style='color:red'>境外</span>国有资产的<span style='color:red'>评估</span><span style='color:red'>，</span>不适用本办法。"
      ],
      "text/plain": [
       "<IPython.core.display.Markdown object>"
      ]
     },
     "metadata": {},
     "output_type": "display_data"
    },
    {
     "data": {
      "text/markdown": [
       "第四十七条 第四十七条国有独资企业、国有独资公司和国有资本控股公司合并、分立、改制<span style='color:red'>，</span>转让重大财产<span style='color:red'>，</span>以非货币财产对外投资<span style='color:red'>，</span>清算或者有法律、行政法规以及企业章程规定应当进行资产<span style='color:red'>评估</span>的其他<span style='color:red'>情形</span>的<span style='color:red'>，</span>应当按照规定对有关资产进行<span style='color:red'>评估</span>。"
      ],
      "text/plain": [
       "<IPython.core.display.Markdown object>"
      ]
     },
     "metadata": {},
     "output_type": "display_data"
    },
    {
     "data": {
      "text/markdown": [
       "第二十九条 第二十九条受托资产<span style='color:red'>评估</span>机构<span style='color:red'>在</span>资产<span style='color:red'>评估</span>过程中违规执业的<span style='color:red'>，</span>由国有资产监督管理机构将有关情况通报其行业主管部门<span style='color:red'>，</span>建议给予相应处罚；情节严重的<span style='color:red'>，</span>可要求企业<span style='color:red'>不得</span>再委托该中介机构及其当事人进行国有资产<span style='color:red'>评估</span><span style='color:red'>业务</span>；涉嫌犯罪的<span style='color:red'>，</span>依法移送司法机关处理。"
      ],
      "text/plain": [
       "<IPython.core.display.Markdown object>"
      ]
     },
     "metadata": {},
     "output_type": "display_data"
    },
    {
     "data": {
      "text/markdown": [
       "第四十八条 第四十八条国有独资企业、国有独资公司和国有资本控股公司应当委托依法设立的符合条件的资产<span style='color:red'>评估</span>机构进行资产<span style='color:red'>评估</span>；涉及应当报经履行出资人职责的机构决定的事项的<span style='color:red'>，</span>应当将委托资产<span style='color:red'>评估</span>机构的情况<span style='color:red'>向</span>履行出资人职责的机构报告。"
      ],
      "text/plain": [
       "<IPython.core.display.Markdown object>"
      ]
     },
     "metadata": {},
     "output_type": "display_data"
    }
   ],
   "source": [
    "import re\n",
    "from IPython.display import Markdown, display\n",
    "\n",
    "# Dense 搜索结果\n",
    "display(Markdown(\"### 🔍 **Dense Search Results:**\"))\n",
    "formatted_results = doc_text_formatting(query, dense_results)\n",
    "for result in formatted_results:\n",
    "    display(Markdown(result))\n",
    "\n",
    "# Sparse 搜索结果\n",
    "display(Markdown(\"### 🌿 **Sparse Search Results:**\"))\n",
    "formatted_results = doc_text_formatting(query, sparse_results)\n",
    "for result in formatted_results:\n",
    "    display(Markdown(result))\n",
    "\n",
    "# Hybrid 搜索结果\n",
    "display(Markdown(\"### 🔄 **Hybrid Search Results:**\"))\n",
    "formatted_results = doc_text_formatting(query, hybrid_results)\n",
    "for result in formatted_results:\n",
    "    display(Markdown(result))\n"
   ]
  },
  {
   "cell_type": "code",
   "execution_count": 10,
   "id": "e613c6ab-c1c9-4d23-9ffe-3f7b74168a50",
   "metadata": {},
   "outputs": [
    {
     "name": "stderr",
     "output_type": "stream",
     "text": [
      "Fetching 30 files: 100%|███████████████████████████████████████████████████████████████████████| 30/30 [00:00<?, ?it/s]\n",
      "You're using a XLMRobertaTokenizerFast tokenizer. Please note that with a fast tokenizer, using the `__call__` method is faster than using a method to encode the text followed by a call to the `pad` method to get a padded encoding.\n"
     ]
    },
    {
     "name": "stdout",
     "output_type": "stream",
     "text": [
      "dense similarity: [[0.279  0.3164]\n",
      " [0.7773 0.748 ]]\n",
      "sparse similarity: [[0.         0.        ]\n",
      " [0.22802734 0.2565918 ]]\n",
      "dense scores: [[0.558  0.4692]\n",
      " [0.475  0.573 ]]\n",
      "sparse similarity: [[0 0]\n",
      " [0 0]]\n"
     ]
    }
   ],
   "source": [
    "from FlagEmbedding import BGEM3FlagModel\n",
    "sentences_1 = [\"你是谁？\", \"我已有MongoDB文档，之后该怎么做？\"]\n",
    "sentences_2 = [\"需要设计一个具体的分割与存储方案，结合你已有的 MongoDB 文档结构\", \"可以根据你的MongoDB文档向量化\"]\n",
    "model = BGEM3FlagModel('BAAI/bge-m3',\n",
    "                       use_fp16=True,\n",
    "                       pooling_method='cls',\n",
    "                       devices=['cuda:0']) # Setting use_fp16 to True speeds up computation with a slight performance degradation\n",
    "embeddings_1 = model.encode(\n",
    "    sentences_1,\n",
    "    return_dense=True,\n",
    "    return_sparse=True,\n",
    "    return_colbert_vecs=False,\n",
    ")\n",
    "embeddings_2 = model.encode(\n",
    "    sentences_2,\n",
    "    return_dense=True,\n",
    "    return_sparse=True,\n",
    "    return_colbert_vecs=False,\n",
    ")\n",
    "dense_similarity = embeddings_1[\"dense_vecs\"] @ embeddings_2[\"dense_vecs\"].T\n",
    "print('dense similarity:', dense_similarity)\n",
    "sparse_similarity = model.compute_lexical_matching_score(\n",
    "    embeddings_1[\"lexical_weights\"],\n",
    "    embeddings_2[\"lexical_weights\"],\n",
    ")\n",
    "print('sparse similarity:', sparse_similarity)\n",
    "\n",
    "queries = ['query_1', 'query_2']\n",
    "passages = [\"样例文档-1\", \"样例文档-2\"]\n",
    "q_embeddings = model.encode_queries(\n",
    "    queries,\n",
    "    return_dense=True,\n",
    "    return_sparse=True,\n",
    "    return_colbert_vecs=False,\n",
    ")\n",
    "p_embeddings = model.encode_corpus(\n",
    "    passages,\n",
    "    return_dense=True,\n",
    "    return_sparse=True,\n",
    "    return_colbert_vecs=False,\n",
    ")\n",
    "dense_scores = q_embeddings[\"dense_vecs\"] @ p_embeddings[\"dense_vecs\"].T\n",
    "print('dense scores:', dense_scores)\n",
    "sparse_scores = model.compute_lexical_matching_score(\n",
    "    q_embeddings[\"lexical_weights\"],\n",
    "    p_embeddings[\"lexical_weights\"],\n",
    ")\n",
    "print('sparse similarity:', sparse_scores)"
   ]
  },
  {
   "cell_type": "code",
   "execution_count": null,
   "id": "51081168-575e-46d2-9be4-be052206fcae",
   "metadata": {},
   "outputs": [],
   "source": []
  }
 ],
 "metadata": {
  "kernelspec": {
   "display_name": "Python [conda env:Anaconda-eval] *",
   "language": "python",
   "name": "conda-env-Anaconda-eval-py"
  },
  "language_info": {
   "codemirror_mode": {
    "name": "ipython",
    "version": 3
   },
   "file_extension": ".py",
   "mimetype": "text/x-python",
   "name": "python",
   "nbconvert_exporter": "python",
   "pygments_lexer": "ipython3",
   "version": "3.11.11"
  }
 },
 "nbformat": 4,
 "nbformat_minor": 5
}
