{
 "cells": [
  {
   "cell_type": "code",
   "execution_count": 1,
   "id": "823d9f77-c37d-4e6a-926f-e83ba42c4346",
   "metadata": {},
   "outputs": [],
   "source": [
    "from pymongo import MongoClient\n",
    "\n",
    "col_mongo_name = \"国家按章分\"\n",
    "# col_mongo_name = \"上海按章分\"\n",
    "# col_mongo_name = \"中心按章分\"\n",
    "mongo = MongoClient(\"mongodb://localhost:27017/\")\n",
    "db = mongo[\"xunfei\"]\n",
    "col_mongo = db[col_mongo_name]"
   ]
  },
  {
   "cell_type": "code",
   "execution_count": 12,
   "id": "11cf58e7-5ef4-4f93-9cc2-d50f43a401e8",
   "metadata": {},
   "outputs": [],
   "source": [
    "from pymilvus import connections, Collection\n",
    "connections.connect(\"default\", host=\"localhost\", port=\"19530\")\n",
    "col_name = \"AllPolicy\"\n",
    "# col_name = \"CountryPolicy\"\n",
    "# col_name = \"ShanghaiPolicy\"\n",
    "# col_name = \"CentrePolicy\"\n",
    "col = Collection(col_name)\n",
    "col.load()"
   ]
  },
  {
   "cell_type": "code",
   "execution_count": 13,
   "id": "40e462d1-48fb-460d-99a0-cb136194f864",
   "metadata": {
    "scrolled": true
   },
   "outputs": [
    {
     "name": "stderr",
     "output_type": "stream",
     "text": [
      "D:\\Anaconda\\envs\\eval\\Lib\\site-packages\\requests\\__init__.py:86: RequestsDependencyWarning: Unable to find acceptable character detection dependency (chardet or charset_normalizer).\n",
      "  warnings.warn(\n",
      "D:\\Anaconda\\envs\\eval\\Lib\\site-packages\\tqdm\\auto.py:21: TqdmWarning: IProgress not found. Please update jupyter and ipywidgets. See https://ipywidgets.readthedocs.io/en/stable/user_install.html\n",
      "  from .autonotebook import tqdm as notebook_tqdm\n",
      "Fetching 30 files: 100%|███████████████████████████████████████████████████████████████████████| 30/30 [00:00<?, ?it/s]\n"
     ]
    }
   ],
   "source": [
    "from FlagEmbedding import BGEM3FlagModel\n",
    "\n",
    "model = BGEM3FlagModel('BAAI/bge-m3',\n",
    "                      use_fp16=False,\n",
    "                      pooling_method='cls',\n",
    "                      devices=['cuda:0'])\n",
    "\n",
    "def get_embeddings(text):\n",
    "    embeddings = model.encode(\n",
    "        text,\n",
    "        return_dense=True,\n",
    "        return_sparse=True,\n",
    "        return_colbert_vecs=False\n",
    "    )\n",
    "    return embeddings"
   ]
  },
  {
   "cell_type": "markdown",
   "id": "82d9d38c-3066-42bc-871c-27307d027b29",
   "metadata": {},
   "source": [
    "### 三种搜索函数"
   ]
  },
  {
   "cell_type": "code",
   "execution_count": 110,
   "id": "09bed487-4a38-4216-8602-30d4be528dbb",
   "metadata": {},
   "outputs": [],
   "source": [
    "from pymilvus import AnnSearchRequest, WeightedRanker\n",
    "\n",
    "def dense_search(col, query_dense_embedding, limit=5):\n",
    "    res = col.search(\n",
    "        [query_dense_embedding],\n",
    "        anns_field=\"dense_vector\",\n",
    "        limit=limit,\n",
    "        output_fields=[\"para_id\", \"text\"],\n",
    "        param={\"metric_type\": \"L2\", \"params\": {}},\n",
    "    )\n",
    "    return [\n",
    "        {\"para_id\": hit.entity.get(\"para_id\"), \"text\": hit.entity.get(\"text\")}\n",
    "        for hit in res[0]\n",
    "    ]\n",
    "\n",
    "def sparse_search(col, query_sparse_embedding, limit=5):\n",
    "    res = col.search(\n",
    "        [query_sparse_embedding],\n",
    "        anns_field=\"sparse_vector\",\n",
    "        limit=limit,\n",
    "        output_fields=[\"para_id\", \"text\"],\n",
    "        param={\"metric_type\": \"IP\", \"params\": {}},\n",
    "    )\n",
    "    return [\n",
    "        {\"para_id\": hit.entity.get(\"para_id\"), \"text\": hit.entity.get(\"text\")}\n",
    "        for hit in res[0]\n",
    "    ]\n",
    "\n",
    "def hybrid_search(\n",
    "    col,\n",
    "    query_dense_embedding,\n",
    "    query_sparse_embedding,\n",
    "    sparse_weight=1.0,\n",
    "    dense_weight=1.0,\n",
    "    limit=5,\n",
    "):\n",
    "    dense_req = AnnSearchRequest(\n",
    "        [query_dense_embedding], \"dense_vector\", {\"metric_type\": \"L2\", \"params\": {}}, limit=limit\n",
    "    )\n",
    "    sparse_req = AnnSearchRequest(\n",
    "        [query_sparse_embedding], \"sparse_vector\", {\"metric_type\": \"IP\", \"params\": {}}, limit=limit\n",
    "    )\n",
    "    rerank = WeightedRanker(sparse_weight, dense_weight)\n",
    "    res = col.hybrid_search(\n",
    "        [sparse_req, dense_req],\n",
    "        rerank=rerank,\n",
    "        limit=limit,\n",
    "        output_fields=[\"para_id\", \"text\"]\n",
    "    )\n",
    "    return [\n",
    "        {\"para_id\": hit.entity.get(\"para_id\"), \"text\": hit.entity.get(\"text\")}\n",
    "        for hit in res[0]\n",
    "    ]\n"
   ]
  },
  {
   "cell_type": "markdown",
   "id": "e9bec103-8198-4ec4-a9ee-d1379b5d30a7",
   "metadata": {},
   "source": [
    "### 格式化搜索结果"
   ]
  },
  {
   "cell_type": "code",
   "execution_count": 51,
   "id": "1446d0b6-88a8-4f86-b7b1-51a09f06a7aa",
   "metadata": {},
   "outputs": [],
   "source": [
    "import jieba\n",
    "\n",
    "def doc_text_formatting(query, docs):\n",
    "    query_words = list(set(jieba.lcut(query)))  # 中文分词\n",
    "    formatted_texts = []\n",
    "\n",
    "    for doc in docs:\n",
    "        highlighted = doc.get('text')\n",
    "        for word in query_words:\n",
    "            if not word.strip():\n",
    "                continue\n",
    "            highlighted = re.sub(\n",
    "                re.escape(word),\n",
    "                f\"<span style='color:red'>{word}</span>\",\n",
    "                highlighted\n",
    "            )\n",
    "        formatted_texts.append(highlighted)\n",
    "    return formatted_texts\n"
   ]
  },
  {
   "cell_type": "markdown",
   "id": "81df2f5d-b617-41f3-856a-c4a4394aa57f",
   "metadata": {},
   "source": [
    "### 检索"
   ]
  },
  {
   "cell_type": "code",
   "execution_count": 223,
   "id": "5b39431f-0237-451a-9f4c-dc5a14d5d6f2",
   "metadata": {
    "scrolled": true
   },
   "outputs": [],
   "source": [
    "import pandas as pd\n",
    "import json\n",
    "\n",
    "# query = input(\"Enter your search query: \")\n",
    "# query_embeddings = get_embeddings([query])\n",
    "\n",
    "with open(\"qa_single_all_500.json\", \"r\", encoding=\"utf-8\") as f:\n",
    "    data = json.load(f)\n",
    "query = [data[i].get('question').strip() for i in range(len(data))]\n",
    "gold_id = [data[i].get('relevant_para_ids') for i in range(len(data))]\n",
    "num = len(query)"
   ]
  },
  {
   "cell_type": "code",
   "execution_count": 224,
   "id": "5c94ad9a-d2fb-4591-bed1-0efaf2ddd704",
   "metadata": {},
   "outputs": [],
   "source": [
    "query_embeddings = []\n",
    "for i in range(len(query)):\n",
    "    embeddings = get_embeddings(query[i])\n",
    "    query_embeddings.append(embeddings)\n",
    "\n",
    "query_dense_embeddings = [query_embeddings[i].get('dense_vecs') for i in range(len(query_embeddings))]\n",
    "query_sparse_embeddings = [query_embeddings[i].get('lexical_weights') for i in range(len(query_embeddings))]"
   ]
  },
  {
   "cell_type": "code",
   "execution_count": 225,
   "id": "dd7370cf-5290-497d-919f-43387eeed216",
   "metadata": {},
   "outputs": [
    {
     "data": {
      "text/plain": [
       "575"
      ]
     },
     "execution_count": 225,
     "metadata": {},
     "output_type": "execute_result"
    }
   ],
   "source": [
    "len(query_sparse_embeddings)"
   ]
  },
  {
   "cell_type": "code",
   "execution_count": 226,
   "id": "aa26eced-9463-4d19-a48f-901ae578e4cc",
   "metadata": {},
   "outputs": [
    {
     "name": "stdout",
     "output_type": "stream",
     "text": [
      "CPU times: total: 1.17 s\n",
      "Wall time: 8min 26s\n"
     ]
    }
   ],
   "source": [
    "%%time\n",
    "\n",
    "dense_results = []\n",
    "sparse_results = []\n",
    "hybrid_results = []\n",
    "for i in range(num):\n",
    "    dense_results.append(dense_search(col, query_dense_embeddings[i], limit=50))\n",
    "    sparse_results.append(sparse_search(col, query_sparse_embeddings[i], limit=50))\n",
    "    hybrid_results.append(hybrid_search(\n",
    "        col,\n",
    "        query_dense_embeddings[i],\n",
    "        query_sparse_embeddings[i],\n",
    "        sparse_weight=1.0,\n",
    "        dense_weight=1.0,\n",
    "        limit=50\n",
    "    ))"
   ]
  },
  {
   "cell_type": "code",
   "execution_count": 227,
   "id": "781d8365-de54-4786-99cf-a4406c6b30cb",
   "metadata": {
    "scrolled": true
   },
   "outputs": [
    {
     "name": "stdout",
     "output_type": "stream",
     "text": [
      "gold_id: ['8063292_T17']\n",
      "query: 招标文件或资格预审文件的出售时间、地点、收费要求以及终止招标的条件是什么？\n"
     ]
    },
    {
     "data": {
      "text/markdown": [
       "### 🔍 **Dense Search Results:**"
      ],
      "text/plain": [
       "<IPython.core.display.Markdown object>"
      ]
     },
     "metadata": {},
     "output_type": "display_data"
    },
    {
     "data": {
      "text/markdown": [
       "para_id: 8063292_T17"
      ],
      "text/plain": [
       "<IPython.core.display.Markdown object>"
      ]
     },
     "metadata": {},
     "output_type": "display_data"
    },
    {
     "data": {
      "text/markdown": [
       "第十五条 第十五条<span style='color:red'>招标</span>人应当按<span style='color:red'>招标</span>公告<span style='color:red'>或</span>者投标邀请书规定<span style='color:red'>的</span><span style='color:red'>时间</span><span style='color:red'>、</span><span style='color:red'>地点</span><span style='color:red'>出售</span><span style='color:red'>招标</span><span style='color:red'>文件</span><span style='color:red'>或</span><span style='color:red'>资格</span><span style='color:red'>预审</span><span style='color:red'>文件</span>。自<span style='color:red'>招标</span><span style='color:red'>文件</span><span style='color:red'>或</span>者<span style='color:red'>资格</span><span style='color:red'>预审</span><span style='color:red'>文件</span><span style='color:red'>出售</span>之日起至停止<span style='color:red'>出售</span>之日止，最短不得少于五日。<span style='color:red'>招标</span>人可以通过信息网络<span style='color:red'>或</span>者其他媒介发布<span style='color:red'>招标</span><span style='color:red'>文件</span>，通过信息网络<span style='color:red'>或</span>者其他媒介发布<span style='color:red'>的</span><span style='color:red'>招标</span><span style='color:red'>文件</span>与书面<span style='color:red'>招标</span><span style='color:red'>文件</span>具有同等法律效力，出现不一致时以书面<span style='color:red'>招标</span><span style='color:red'>文件</span>为准，国家另有规定<span style='color:red'>的</span>除外。对<span style='color:red'>招标</span><span style='color:red'>文件</span><span style='color:red'>或</span>者<span style='color:red'>资格</span><span style='color:red'>预审</span><span style='color:red'>文件</span><span style='color:red'>的</span><span style='color:red'>收费</span>应当限于补偿印刷<span style='color:red'>、</span>邮寄<span style='color:red'>的</span>成本支出，不得以营利为目<span style='color:red'>的</span>。对于所附<span style='color:red'>的</span>设计<span style='color:red'>文件</span>，<span style='color:red'>招标</span>人可以向投标人酌收押金；对于开标后投标人退还设计<span style='color:red'>文件</span><span style='color:red'>的</span>，<span style='color:red'>招标</span>人应当向投标人退还押金。<span style='color:red'>招标</span><span style='color:red'>文件</span><span style='color:red'>或</span>者<span style='color:red'>资格</span><span style='color:red'>预审</span><span style='color:red'>文件</span>售出后，不予退还。除不可抗力原因外，<span style='color:red'>招标</span>人在发布<span style='color:red'>招标</span>公告<span style='color:red'>、</span>发出投标邀请书后<span style='color:red'>或</span>者售出<span style='color:red'>招标</span><span style='color:red'>文件</span><span style='color:red'>或</span><span style='color:red'>资格</span><span style='color:red'>预审</span><span style='color:red'>文件</span>后不得<span style='color:red'>终止</span><span style='color:red'>招标</span>。"
      ],
      "text/plain": [
       "<IPython.core.display.Markdown object>"
      ]
     },
     "metadata": {},
     "output_type": "display_data"
    },
    {
     "data": {
      "text/markdown": [
       "para_id: 8063277_T16"
      ],
      "text/plain": [
       "<IPython.core.display.Markdown object>"
      ]
     },
     "metadata": {},
     "output_type": "display_data"
    },
    {
     "data": {
      "text/markdown": [
       "第十四条 第十四条<span style='color:red'>招标</span>人应当按照<span style='color:red'>资格</span><span style='color:red'>预审</span>公告<span style='color:red'>、</span><span style='color:red'>招标</span>公告<span style='color:red'>或</span>者投标邀请书规定<span style='color:red'>的</span><span style='color:red'>时间</span><span style='color:red'>、</span><span style='color:red'>地点</span>发售<span style='color:red'>招标</span><span style='color:red'>文件</span><span style='color:red'>或</span>者<span style='color:red'>资格</span><span style='color:red'>预审</span><span style='color:red'>文件</span>。自<span style='color:red'>招标</span><span style='color:red'>文件</span><span style='color:red'>或</span>者<span style='color:red'>资格</span><span style='color:red'>预审</span><span style='color:red'>文件</span>发售之日起至停止发售之日止，最短不得少于五日。<span style='color:red'>招标</span>人可以通过信息网络<span style='color:red'>或</span>者其他媒介发布<span style='color:red'>招标</span><span style='color:red'>文件</span>，通过信息网络<span style='color:red'>或</span>者其他媒介发布<span style='color:red'>的</span><span style='color:red'>招标</span><span style='color:red'>文件</span>与书面<span style='color:red'>招标</span><span style='color:red'>文件</span>具有同等法律效力，出现不一致时以书面<span style='color:red'>招标</span><span style='color:red'>文件</span>为准，但国家另有规定<span style='color:red'>的</span>除外。对<span style='color:red'>招标</span><span style='color:red'>文件</span><span style='color:red'>或</span>者<span style='color:red'>资格</span><span style='color:red'>预审</span><span style='color:red'>文件</span><span style='color:red'>的</span><span style='color:red'>收费</span>应当限于补偿印刷<span style='color:red'>、</span>邮寄<span style='color:red'>的</span>成本支出，不得以营利为目<span style='color:red'>的</span>。除不可抗力原因外，<span style='color:red'>招标</span><span style='color:red'>文件</span><span style='color:red'>或</span>者<span style='color:red'>资格</span><span style='color:red'>预审</span><span style='color:red'>文件</span>发出后，不予退还；<span style='color:red'>招标</span>人在发布<span style='color:red'>招标</span>公告<span style='color:red'>、</span>发出投标邀请书后<span style='color:red'>或</span>者发出<span style='color:red'>招标</span><span style='color:red'>文件</span><span style='color:red'>或</span><span style='color:red'>资格</span><span style='color:red'>预审</span><span style='color:red'>文件</span>后不得<span style='color:red'>终止</span><span style='color:red'>招标</span>。<span style='color:red'>招标</span>人<span style='color:red'>终止</span><span style='color:red'>招标</span><span style='color:red'>的</span>，应当及时发布公告，<span style='color:red'>或</span>者以书面形式通知被邀请<span style='color:red'>的</span><span style='color:red'>或</span>者已经获取<span style='color:red'>资格</span><span style='color:red'>预审</span><span style='color:red'>文件</span><span style='color:red'>、</span><span style='color:red'>招标</span><span style='color:red'>文件</span><span style='color:red'>的</span>潜在投标人。已经发售<span style='color:red'>资格</span><span style='color:red'>预审</span><span style='color:red'>文件</span><span style='color:red'>、</span><span style='color:red'>招标</span><span style='color:red'>文件</span><span style='color:red'>或</span>者已经收取投标保证金<span style='color:red'>的</span>，<span style='color:red'>招标</span>人应当及时退还所收取<span style='color:red'>的</span><span style='color:red'>资格</span><span style='color:red'>预审</span><span style='color:red'>文件</span><span style='color:red'>、</span><span style='color:red'>招标</span><span style='color:red'>文件</span><span style='color:red'>的</span>费用，<span style='color:red'>以及</span>所收取<span style='color:red'>的</span>投标保证金及银行同期存款利息。"
      ],
      "text/plain": [
       "<IPython.core.display.Markdown object>"
      ]
     },
     "metadata": {},
     "output_type": "display_data"
    },
    {
     "data": {
      "text/markdown": [
       "para_id: 8063293_T27"
      ],
      "text/plain": [
       "<IPython.core.display.Markdown object>"
      ]
     },
     "metadata": {},
     "output_type": "display_data"
    },
    {
     "data": {
      "text/markdown": [
       "第二十三条 第二十三条<span style='color:red'>招标</span>人应当按<span style='color:red'>资格</span><span style='color:red'>预审</span>公告<span style='color:red'>、</span><span style='color:red'>招标</span>公告<span style='color:red'>或</span>者投标邀请书规定<span style='color:red'>的</span><span style='color:red'>时间</span><span style='color:red'>、</span><span style='color:red'>地点</span>发售<span style='color:red'>资格</span><span style='color:red'>预审</span><span style='color:red'>文件</span><span style='color:red'>或</span>者<span style='color:red'>招标</span><span style='color:red'>文件</span>。<span style='color:red'>资格</span><span style='color:red'>预审</span><span style='color:red'>文件</span><span style='color:red'>或</span>者<span style='color:red'>招标</span><span style='color:red'>文件</span><span style='color:red'>的</span>发售期不得少于5日。<span style='color:red'>资格</span><span style='color:red'>预审</span><span style='color:red'>文件</span><span style='color:red'>或</span>者<span style='color:red'>招标</span><span style='color:red'>文件</span>售出后，不予退还。"
      ],
      "text/plain": [
       "<IPython.core.display.Markdown object>"
      ]
     },
     "metadata": {},
     "output_type": "display_data"
    },
    {
     "data": {
      "text/markdown": [
       "para_id: 8063256_T22"
      ],
      "text/plain": [
       "<IPython.core.display.Markdown object>"
      ]
     },
     "metadata": {},
     "output_type": "display_data"
    },
    {
     "data": {
      "text/markdown": [
       "第十六条 第十六条　<span style='color:red'>招标</span>人应当按照<span style='color:red'>资格</span><span style='color:red'>预审</span>公告<span style='color:red'>、</span><span style='color:red'>招标</span>公告<span style='color:red'>或</span>者投标邀请书规定<span style='color:red'>的</span><span style='color:red'>时间</span><span style='color:red'>、</span><span style='color:red'>地点</span>发售<span style='color:red'>资格</span><span style='color:red'>预审</span><span style='color:red'>文件</span><span style='color:red'>或</span>者<span style='color:red'>招标</span><span style='color:red'>文件</span>。<span style='color:red'>资格</span><span style='color:red'>预审</span><span style='color:red'>文件</span><span style='color:red'>或</span>者<span style='color:red'>招标</span><span style='color:red'>文件</span><span style='color:red'>的</span>发售期不得少于5日。<span style='color:red'>招标</span>人发售<span style='color:red'>资格</span><span style='color:red'>预审</span><span style='color:red'>文件</span><span style='color:red'>、</span><span style='color:red'>招标</span><span style='color:red'>文件</span>收取<span style='color:red'>的</span>费用应当限于补偿印刷<span style='color:red'>、</span>邮寄<span style='color:red'>的</span>成本支出，不得以营利为目<span style='color:red'>的</span>。"
      ],
      "text/plain": [
       "<IPython.core.display.Markdown object>"
      ]
     },
     "metadata": {},
     "output_type": "display_data"
    },
    {
     "data": {
      "text/markdown": [
       "para_id: 8063293_T37"
      ],
      "text/plain": [
       "<IPython.core.display.Markdown object>"
      ]
     },
     "metadata": {},
     "output_type": "display_data"
    },
    {
     "data": {
      "text/markdown": [
       "第三十三条 第三十三条<span style='color:red'>招标</span>人在发布<span style='color:red'>资格</span><span style='color:red'>预审</span>公告<span style='color:red'>、</span><span style='color:red'>招标</span>公告<span style='color:red'>、</span>发出投标邀请书<span style='color:red'>或</span>者售出<span style='color:red'>资格</span><span style='color:red'>预审</span><span style='color:red'>文件</span><span style='color:red'>、</span><span style='color:red'>招标</span><span style='color:red'>文件</span>后，无正当理由不得随意<span style='color:red'>终止</span><span style='color:red'>招标</span>。<span style='color:red'>招标</span>人因特殊原因需要<span style='color:red'>终止</span><span style='color:red'>招标</span><span style='color:red'>的</span>，应当及时发布公告，<span style='color:red'>或</span>者以书面形式通知被邀请<span style='color:red'>的</span><span style='color:red'>或</span>者已经获取<span style='color:red'>资格</span><span style='color:red'>预审</span><span style='color:red'>文件</span><span style='color:red'>、</span><span style='color:red'>招标</span><span style='color:red'>文件</span><span style='color:red'>的</span>潜在投标人。已经发售<span style='color:red'>资格</span><span style='color:red'>预审</span><span style='color:red'>文件</span><span style='color:red'>、</span><span style='color:red'>招标</span><span style='color:red'>文件</span><span style='color:red'>或</span>者已经收取投标保证金<span style='color:red'>的</span>，<span style='color:red'>招标</span>人应当及时退还所收取<span style='color:red'>的</span>购买<span style='color:red'>资格</span><span style='color:red'>预审</span><span style='color:red'>文件</span><span style='color:red'>、</span><span style='color:red'>招标</span><span style='color:red'>文件</span><span style='color:red'>的</span>费用，<span style='color:red'>以及</span>所收取<span style='color:red'>的</span>投标保证金及银行同期存款利息。利息<span style='color:red'>的</span>计算方法应当在<span style='color:red'>招标</span><span style='color:red'>文件</span>中载明。"
      ],
      "text/plain": [
       "<IPython.core.display.Markdown object>"
      ]
     },
     "metadata": {},
     "output_type": "display_data"
    },
    {
     "data": {
      "text/markdown": [
       "### 🌿 **Sparse Search Results:**"
      ],
      "text/plain": [
       "<IPython.core.display.Markdown object>"
      ]
     },
     "metadata": {},
     "output_type": "display_data"
    },
    {
     "data": {
      "text/markdown": [
       "para_id: 8063292_T17"
      ],
      "text/plain": [
       "<IPython.core.display.Markdown object>"
      ]
     },
     "metadata": {},
     "output_type": "display_data"
    },
    {
     "data": {
      "text/markdown": [
       "第十五条 第十五条<span style='color:red'>招标</span>人应当按<span style='color:red'>招标</span>公告<span style='color:red'>或</span>者投标邀请书规定<span style='color:red'>的</span><span style='color:red'>时间</span><span style='color:red'>、</span><span style='color:red'>地点</span><span style='color:red'>出售</span><span style='color:red'>招标</span><span style='color:red'>文件</span><span style='color:red'>或</span><span style='color:red'>资格</span><span style='color:red'>预审</span><span style='color:red'>文件</span>。自<span style='color:red'>招标</span><span style='color:red'>文件</span><span style='color:red'>或</span>者<span style='color:red'>资格</span><span style='color:red'>预审</span><span style='color:red'>文件</span><span style='color:red'>出售</span>之日起至停止<span style='color:red'>出售</span>之日止，最短不得少于五日。<span style='color:red'>招标</span>人可以通过信息网络<span style='color:red'>或</span>者其他媒介发布<span style='color:red'>招标</span><span style='color:red'>文件</span>，通过信息网络<span style='color:red'>或</span>者其他媒介发布<span style='color:red'>的</span><span style='color:red'>招标</span><span style='color:red'>文件</span>与书面<span style='color:red'>招标</span><span style='color:red'>文件</span>具有同等法律效力，出现不一致时以书面<span style='color:red'>招标</span><span style='color:red'>文件</span>为准，国家另有规定<span style='color:red'>的</span>除外。对<span style='color:red'>招标</span><span style='color:red'>文件</span><span style='color:red'>或</span>者<span style='color:red'>资格</span><span style='color:red'>预审</span><span style='color:red'>文件</span><span style='color:red'>的</span><span style='color:red'>收费</span>应当限于补偿印刷<span style='color:red'>、</span>邮寄<span style='color:red'>的</span>成本支出，不得以营利为目<span style='color:red'>的</span>。对于所附<span style='color:red'>的</span>设计<span style='color:red'>文件</span>，<span style='color:red'>招标</span>人可以向投标人酌收押金；对于开标后投标人退还设计<span style='color:red'>文件</span><span style='color:red'>的</span>，<span style='color:red'>招标</span>人应当向投标人退还押金。<span style='color:red'>招标</span><span style='color:red'>文件</span><span style='color:red'>或</span>者<span style='color:red'>资格</span><span style='color:red'>预审</span><span style='color:red'>文件</span>售出后，不予退还。除不可抗力原因外，<span style='color:red'>招标</span>人在发布<span style='color:red'>招标</span>公告<span style='color:red'>、</span>发出投标邀请书后<span style='color:red'>或</span>者售出<span style='color:red'>招标</span><span style='color:red'>文件</span><span style='color:red'>或</span><span style='color:red'>资格</span><span style='color:red'>预审</span><span style='color:red'>文件</span>后不得<span style='color:red'>终止</span><span style='color:red'>招标</span>。"
      ],
      "text/plain": [
       "<IPython.core.display.Markdown object>"
      ]
     },
     "metadata": {},
     "output_type": "display_data"
    },
    {
     "data": {
      "text/markdown": [
       "para_id: 8063277_T16"
      ],
      "text/plain": [
       "<IPython.core.display.Markdown object>"
      ]
     },
     "metadata": {},
     "output_type": "display_data"
    },
    {
     "data": {
      "text/markdown": [
       "第十四条 第十四条<span style='color:red'>招标</span>人应当按照<span style='color:red'>资格</span><span style='color:red'>预审</span>公告<span style='color:red'>、</span><span style='color:red'>招标</span>公告<span style='color:red'>或</span>者投标邀请书规定<span style='color:red'>的</span><span style='color:red'>时间</span><span style='color:red'>、</span><span style='color:red'>地点</span>发售<span style='color:red'>招标</span><span style='color:red'>文件</span><span style='color:red'>或</span>者<span style='color:red'>资格</span><span style='color:red'>预审</span><span style='color:red'>文件</span>。自<span style='color:red'>招标</span><span style='color:red'>文件</span><span style='color:red'>或</span>者<span style='color:red'>资格</span><span style='color:red'>预审</span><span style='color:red'>文件</span>发售之日起至停止发售之日止，最短不得少于五日。<span style='color:red'>招标</span>人可以通过信息网络<span style='color:red'>或</span>者其他媒介发布<span style='color:red'>招标</span><span style='color:red'>文件</span>，通过信息网络<span style='color:red'>或</span>者其他媒介发布<span style='color:red'>的</span><span style='color:red'>招标</span><span style='color:red'>文件</span>与书面<span style='color:red'>招标</span><span style='color:red'>文件</span>具有同等法律效力，出现不一致时以书面<span style='color:red'>招标</span><span style='color:red'>文件</span>为准，但国家另有规定<span style='color:red'>的</span>除外。对<span style='color:red'>招标</span><span style='color:red'>文件</span><span style='color:red'>或</span>者<span style='color:red'>资格</span><span style='color:red'>预审</span><span style='color:red'>文件</span><span style='color:red'>的</span><span style='color:red'>收费</span>应当限于补偿印刷<span style='color:red'>、</span>邮寄<span style='color:red'>的</span>成本支出，不得以营利为目<span style='color:red'>的</span>。除不可抗力原因外，<span style='color:red'>招标</span><span style='color:red'>文件</span><span style='color:red'>或</span>者<span style='color:red'>资格</span><span style='color:red'>预审</span><span style='color:red'>文件</span>发出后，不予退还；<span style='color:red'>招标</span>人在发布<span style='color:red'>招标</span>公告<span style='color:red'>、</span>发出投标邀请书后<span style='color:red'>或</span>者发出<span style='color:red'>招标</span><span style='color:red'>文件</span><span style='color:red'>或</span><span style='color:red'>资格</span><span style='color:red'>预审</span><span style='color:red'>文件</span>后不得<span style='color:red'>终止</span><span style='color:red'>招标</span>。<span style='color:red'>招标</span>人<span style='color:red'>终止</span><span style='color:red'>招标</span><span style='color:red'>的</span>，应当及时发布公告，<span style='color:red'>或</span>者以书面形式通知被邀请<span style='color:red'>的</span><span style='color:red'>或</span>者已经获取<span style='color:red'>资格</span><span style='color:red'>预审</span><span style='color:red'>文件</span><span style='color:red'>、</span><span style='color:red'>招标</span><span style='color:red'>文件</span><span style='color:red'>的</span>潜在投标人。已经发售<span style='color:red'>资格</span><span style='color:red'>预审</span><span style='color:red'>文件</span><span style='color:red'>、</span><span style='color:red'>招标</span><span style='color:red'>文件</span><span style='color:red'>或</span>者已经收取投标保证金<span style='color:red'>的</span>，<span style='color:red'>招标</span>人应当及时退还所收取<span style='color:red'>的</span><span style='color:red'>资格</span><span style='color:red'>预审</span><span style='color:red'>文件</span><span style='color:red'>、</span><span style='color:red'>招标</span><span style='color:red'>文件</span><span style='color:red'>的</span>费用，<span style='color:red'>以及</span>所收取<span style='color:red'>的</span>投标保证金及银行同期存款利息。"
      ],
      "text/plain": [
       "<IPython.core.display.Markdown object>"
      ]
     },
     "metadata": {},
     "output_type": "display_data"
    },
    {
     "data": {
      "text/markdown": [
       "para_id: 8063285_T18"
      ],
      "text/plain": [
       "<IPython.core.display.Markdown object>"
      ]
     },
     "metadata": {},
     "output_type": "display_data"
    },
    {
     "data": {
      "text/markdown": [
       "第十五条 第十五条<span style='color:red'>招标</span>人可以根据<span style='color:red'>招标</span>工程<span style='color:red'>的</span>需要，对投标申请人进行<span style='color:red'>资格</span><span style='color:red'>预审</span>，也可以委托工程<span style='color:red'>招标</span>代理机构对投标申请人进行<span style='color:red'>资格</span><span style='color:red'>预审</span>。实行<span style='color:red'>资格</span><span style='color:red'>预审</span><span style='color:red'>的</span><span style='color:red'>招标</span>工程，<span style='color:red'>招标</span>人应当在<span style='color:red'>招标</span>公告<span style='color:red'>或</span>者投标邀请书中载明<span style='color:red'>资格</span><span style='color:red'>预审</span><span style='color:red'>的</span><span style='color:red'>条件</span>和获取<span style='color:red'>资格</span><span style='color:red'>预审</span><span style='color:red'>文件</span><span style='color:red'>的</span>办法。<span style='color:red'>资格</span><span style='color:red'>预审</span><span style='color:red'>文件</span>一般应当包括<span style='color:red'>资格</span><span style='color:red'>预审</span>申请书格式<span style='color:red'>、</span>申请人须知，<span style='color:red'>以及</span>需要投标申请人提供<span style='color:red'>的</span>企业资质<span style='color:red'>、</span>业绩<span style='color:red'>、</span>技术装备<span style='color:red'>、</span>财务状况和拟派出<span style='color:red'>的</span>项目经理与主要技术人员<span style='color:red'>的</span>简历<span style='color:red'>、</span>业绩等证明材料。"
      ],
      "text/plain": [
       "<IPython.core.display.Markdown object>"
      ]
     },
     "metadata": {},
     "output_type": "display_data"
    },
    {
     "data": {
      "text/markdown": [
       "para_id: 8063293_T28"
      ],
      "text/plain": [
       "<IPython.core.display.Markdown object>"
      ]
     },
     "metadata": {},
     "output_type": "display_data"
    },
    {
     "data": {
      "text/markdown": [
       "第二十四条 第二十四条自<span style='color:red'>资格</span><span style='color:red'>预审</span><span style='color:red'>文件</span>停止发售之日起至提交<span style='color:red'>资格</span><span style='color:red'>预审</span>申请<span style='color:red'>文件</span>截止之日止，不得少于5日。对<span style='color:red'>资格</span><span style='color:red'>预审</span><span style='color:red'>文件</span><span style='color:red'>的</span>澄清<span style='color:red'>或</span>修改可能影响<span style='color:red'>资格</span><span style='color:red'>预审</span>申请<span style='color:red'>文件</span>编制<span style='color:red'>的</span>，应当在提交<span style='color:red'>资格</span><span style='color:red'>预审</span>申请<span style='color:red'>文件</span>截止<span style='color:red'>时间</span>至少3日前以书面形式通知所有获取<span style='color:red'>资格</span><span style='color:red'>预审</span><span style='color:red'>文件</span><span style='color:red'>的</span>潜在投标人。不足3日<span style='color:red'>的</span>，<span style='color:red'>招标</span>人应当顺延提交<span style='color:red'>资格</span><span style='color:red'>预审</span>申请<span style='color:red'>文件</span><span style='color:red'>的</span>截止<span style='color:red'>时间</span>。依法必须<span style='color:red'>招标</span><span style='color:red'>的</span>项目在<span style='color:red'>资格</span><span style='color:red'>预审</span><span style='color:red'>文件</span>停止发售之日止，获取<span style='color:red'>资格</span><span style='color:red'>预审</span><span style='color:red'>文件</span><span style='color:red'>的</span>潜在投标人少于3个<span style='color:red'>的</span>，应当重新<span style='color:red'>招标</span>。"
      ],
      "text/plain": [
       "<IPython.core.display.Markdown object>"
      ]
     },
     "metadata": {},
     "output_type": "display_data"
    },
    {
     "data": {
      "text/markdown": [
       "para_id: 8063256_T37"
      ],
      "text/plain": [
       "<IPython.core.display.Markdown object>"
      ]
     },
     "metadata": {},
     "output_type": "display_data"
    },
    {
     "data": {
      "text/markdown": [
       "第三十一条 第三十一条　<span style='color:red'>招标</span>人<span style='color:red'>终止</span><span style='color:red'>招标</span><span style='color:red'>的</span>，应当及时发布公告，<span style='color:red'>或</span>者以书面形式通知被邀请<span style='color:red'>的</span><span style='color:red'>或</span>者已经获取<span style='color:red'>资格</span><span style='color:red'>预审</span><span style='color:red'>文件</span><span style='color:red'>、</span><span style='color:red'>招标</span><span style='color:red'>文件</span><span style='color:red'>的</span>潜在投标人。已经发售<span style='color:red'>资格</span><span style='color:red'>预审</span><span style='color:red'>文件</span><span style='color:red'>、</span><span style='color:red'>招标</span><span style='color:red'>文件</span><span style='color:red'>或</span>者已经收取投标保证金<span style='color:red'>的</span>，<span style='color:red'>招标</span>人应当及时退还所收取<span style='color:red'>的</span><span style='color:red'>资格</span><span style='color:red'>预审</span><span style='color:red'>文件</span><span style='color:red'>、</span><span style='color:red'>招标</span><span style='color:red'>文件</span><span style='color:red'>的</span>费用，<span style='color:red'>以及</span>所收取<span style='color:red'>的</span>投标保证金及银行同期存款利息。"
      ],
      "text/plain": [
       "<IPython.core.display.Markdown object>"
      ]
     },
     "metadata": {},
     "output_type": "display_data"
    },
    {
     "data": {
      "text/markdown": [
       "### 🔄 **Hybrid Search Results:**"
      ],
      "text/plain": [
       "<IPython.core.display.Markdown object>"
      ]
     },
     "metadata": {},
     "output_type": "display_data"
    },
    {
     "data": {
      "text/markdown": [
       "para_id: 8063292_T17"
      ],
      "text/plain": [
       "<IPython.core.display.Markdown object>"
      ]
     },
     "metadata": {},
     "output_type": "display_data"
    },
    {
     "data": {
      "text/markdown": [
       "第十五条 第十五条<span style='color:red'>招标</span>人应当按<span style='color:red'>招标</span>公告<span style='color:red'>或</span>者投标邀请书规定<span style='color:red'>的</span><span style='color:red'>时间</span><span style='color:red'>、</span><span style='color:red'>地点</span><span style='color:red'>出售</span><span style='color:red'>招标</span><span style='color:red'>文件</span><span style='color:red'>或</span><span style='color:red'>资格</span><span style='color:red'>预审</span><span style='color:red'>文件</span>。自<span style='color:red'>招标</span><span style='color:red'>文件</span><span style='color:red'>或</span>者<span style='color:red'>资格</span><span style='color:red'>预审</span><span style='color:red'>文件</span><span style='color:red'>出售</span>之日起至停止<span style='color:red'>出售</span>之日止，最短不得少于五日。<span style='color:red'>招标</span>人可以通过信息网络<span style='color:red'>或</span>者其他媒介发布<span style='color:red'>招标</span><span style='color:red'>文件</span>，通过信息网络<span style='color:red'>或</span>者其他媒介发布<span style='color:red'>的</span><span style='color:red'>招标</span><span style='color:red'>文件</span>与书面<span style='color:red'>招标</span><span style='color:red'>文件</span>具有同等法律效力，出现不一致时以书面<span style='color:red'>招标</span><span style='color:red'>文件</span>为准，国家另有规定<span style='color:red'>的</span>除外。对<span style='color:red'>招标</span><span style='color:red'>文件</span><span style='color:red'>或</span>者<span style='color:red'>资格</span><span style='color:red'>预审</span><span style='color:red'>文件</span><span style='color:red'>的</span><span style='color:red'>收费</span>应当限于补偿印刷<span style='color:red'>、</span>邮寄<span style='color:red'>的</span>成本支出，不得以营利为目<span style='color:red'>的</span>。对于所附<span style='color:red'>的</span>设计<span style='color:red'>文件</span>，<span style='color:red'>招标</span>人可以向投标人酌收押金；对于开标后投标人退还设计<span style='color:red'>文件</span><span style='color:red'>的</span>，<span style='color:red'>招标</span>人应当向投标人退还押金。<span style='color:red'>招标</span><span style='color:red'>文件</span><span style='color:red'>或</span>者<span style='color:red'>资格</span><span style='color:red'>预审</span><span style='color:red'>文件</span>售出后，不予退还。除不可抗力原因外，<span style='color:red'>招标</span>人在发布<span style='color:red'>招标</span>公告<span style='color:red'>、</span>发出投标邀请书后<span style='color:red'>或</span>者售出<span style='color:red'>招标</span><span style='color:red'>文件</span><span style='color:red'>或</span><span style='color:red'>资格</span><span style='color:red'>预审</span><span style='color:red'>文件</span>后不得<span style='color:red'>终止</span><span style='color:red'>招标</span>。"
      ],
      "text/plain": [
       "<IPython.core.display.Markdown object>"
      ]
     },
     "metadata": {},
     "output_type": "display_data"
    },
    {
     "data": {
      "text/markdown": [
       "para_id: 8063277_T16"
      ],
      "text/plain": [
       "<IPython.core.display.Markdown object>"
      ]
     },
     "metadata": {},
     "output_type": "display_data"
    },
    {
     "data": {
      "text/markdown": [
       "第十四条 第十四条<span style='color:red'>招标</span>人应当按照<span style='color:red'>资格</span><span style='color:red'>预审</span>公告<span style='color:red'>、</span><span style='color:red'>招标</span>公告<span style='color:red'>或</span>者投标邀请书规定<span style='color:red'>的</span><span style='color:red'>时间</span><span style='color:red'>、</span><span style='color:red'>地点</span>发售<span style='color:red'>招标</span><span style='color:red'>文件</span><span style='color:red'>或</span>者<span style='color:red'>资格</span><span style='color:red'>预审</span><span style='color:red'>文件</span>。自<span style='color:red'>招标</span><span style='color:red'>文件</span><span style='color:red'>或</span>者<span style='color:red'>资格</span><span style='color:red'>预审</span><span style='color:red'>文件</span>发售之日起至停止发售之日止，最短不得少于五日。<span style='color:red'>招标</span>人可以通过信息网络<span style='color:red'>或</span>者其他媒介发布<span style='color:red'>招标</span><span style='color:red'>文件</span>，通过信息网络<span style='color:red'>或</span>者其他媒介发布<span style='color:red'>的</span><span style='color:red'>招标</span><span style='color:red'>文件</span>与书面<span style='color:red'>招标</span><span style='color:red'>文件</span>具有同等法律效力，出现不一致时以书面<span style='color:red'>招标</span><span style='color:red'>文件</span>为准，但国家另有规定<span style='color:red'>的</span>除外。对<span style='color:red'>招标</span><span style='color:red'>文件</span><span style='color:red'>或</span>者<span style='color:red'>资格</span><span style='color:red'>预审</span><span style='color:red'>文件</span><span style='color:red'>的</span><span style='color:red'>收费</span>应当限于补偿印刷<span style='color:red'>、</span>邮寄<span style='color:red'>的</span>成本支出，不得以营利为目<span style='color:red'>的</span>。除不可抗力原因外，<span style='color:red'>招标</span><span style='color:red'>文件</span><span style='color:red'>或</span>者<span style='color:red'>资格</span><span style='color:red'>预审</span><span style='color:red'>文件</span>发出后，不予退还；<span style='color:red'>招标</span>人在发布<span style='color:red'>招标</span>公告<span style='color:red'>、</span>发出投标邀请书后<span style='color:red'>或</span>者发出<span style='color:red'>招标</span><span style='color:red'>文件</span><span style='color:red'>或</span><span style='color:red'>资格</span><span style='color:red'>预审</span><span style='color:red'>文件</span>后不得<span style='color:red'>终止</span><span style='color:red'>招标</span>。<span style='color:red'>招标</span>人<span style='color:red'>终止</span><span style='color:red'>招标</span><span style='color:red'>的</span>，应当及时发布公告，<span style='color:red'>或</span>者以书面形式通知被邀请<span style='color:red'>的</span><span style='color:red'>或</span>者已经获取<span style='color:red'>资格</span><span style='color:red'>预审</span><span style='color:red'>文件</span><span style='color:red'>、</span><span style='color:red'>招标</span><span style='color:red'>文件</span><span style='color:red'>的</span>潜在投标人。已经发售<span style='color:red'>资格</span><span style='color:red'>预审</span><span style='color:red'>文件</span><span style='color:red'>、</span><span style='color:red'>招标</span><span style='color:red'>文件</span><span style='color:red'>或</span>者已经收取投标保证金<span style='color:red'>的</span>，<span style='color:red'>招标</span>人应当及时退还所收取<span style='color:red'>的</span><span style='color:red'>资格</span><span style='color:red'>预审</span><span style='color:red'>文件</span><span style='color:red'>、</span><span style='color:red'>招标</span><span style='color:red'>文件</span><span style='color:red'>的</span>费用，<span style='color:red'>以及</span>所收取<span style='color:red'>的</span>投标保证金及银行同期存款利息。"
      ],
      "text/plain": [
       "<IPython.core.display.Markdown object>"
      ]
     },
     "metadata": {},
     "output_type": "display_data"
    },
    {
     "data": {
      "text/markdown": [
       "para_id: 8063293_T27"
      ],
      "text/plain": [
       "<IPython.core.display.Markdown object>"
      ]
     },
     "metadata": {},
     "output_type": "display_data"
    },
    {
     "data": {
      "text/markdown": [
       "第二十三条 第二十三条<span style='color:red'>招标</span>人应当按<span style='color:red'>资格</span><span style='color:red'>预审</span>公告<span style='color:red'>、</span><span style='color:red'>招标</span>公告<span style='color:red'>或</span>者投标邀请书规定<span style='color:red'>的</span><span style='color:red'>时间</span><span style='color:red'>、</span><span style='color:red'>地点</span>发售<span style='color:red'>资格</span><span style='color:red'>预审</span><span style='color:red'>文件</span><span style='color:red'>或</span>者<span style='color:red'>招标</span><span style='color:red'>文件</span>。<span style='color:red'>资格</span><span style='color:red'>预审</span><span style='color:red'>文件</span><span style='color:red'>或</span>者<span style='color:red'>招标</span><span style='color:red'>文件</span><span style='color:red'>的</span>发售期不得少于5日。<span style='color:red'>资格</span><span style='color:red'>预审</span><span style='color:red'>文件</span><span style='color:red'>或</span>者<span style='color:red'>招标</span><span style='color:red'>文件</span>售出后，不予退还。"
      ],
      "text/plain": [
       "<IPython.core.display.Markdown object>"
      ]
     },
     "metadata": {},
     "output_type": "display_data"
    },
    {
     "data": {
      "text/markdown": [
       "para_id: 8063256_T22"
      ],
      "text/plain": [
       "<IPython.core.display.Markdown object>"
      ]
     },
     "metadata": {},
     "output_type": "display_data"
    },
    {
     "data": {
      "text/markdown": [
       "第十六条 第十六条　<span style='color:red'>招标</span>人应当按照<span style='color:red'>资格</span><span style='color:red'>预审</span>公告<span style='color:red'>、</span><span style='color:red'>招标</span>公告<span style='color:red'>或</span>者投标邀请书规定<span style='color:red'>的</span><span style='color:red'>时间</span><span style='color:red'>、</span><span style='color:red'>地点</span>发售<span style='color:red'>资格</span><span style='color:red'>预审</span><span style='color:red'>文件</span><span style='color:red'>或</span>者<span style='color:red'>招标</span><span style='color:red'>文件</span>。<span style='color:red'>资格</span><span style='color:red'>预审</span><span style='color:red'>文件</span><span style='color:red'>或</span>者<span style='color:red'>招标</span><span style='color:red'>文件</span><span style='color:red'>的</span>发售期不得少于5日。<span style='color:red'>招标</span>人发售<span style='color:red'>资格</span><span style='color:red'>预审</span><span style='color:red'>文件</span><span style='color:red'>、</span><span style='color:red'>招标</span><span style='color:red'>文件</span>收取<span style='color:red'>的</span>费用应当限于补偿印刷<span style='color:red'>、</span>邮寄<span style='color:red'>的</span>成本支出，不得以营利为目<span style='color:red'>的</span>。"
      ],
      "text/plain": [
       "<IPython.core.display.Markdown object>"
      ]
     },
     "metadata": {},
     "output_type": "display_data"
    },
    {
     "data": {
      "text/markdown": [
       "para_id: 8063293_T37"
      ],
      "text/plain": [
       "<IPython.core.display.Markdown object>"
      ]
     },
     "metadata": {},
     "output_type": "display_data"
    },
    {
     "data": {
      "text/markdown": [
       "第三十三条 第三十三条<span style='color:red'>招标</span>人在发布<span style='color:red'>资格</span><span style='color:red'>预审</span>公告<span style='color:red'>、</span><span style='color:red'>招标</span>公告<span style='color:red'>、</span>发出投标邀请书<span style='color:red'>或</span>者售出<span style='color:red'>资格</span><span style='color:red'>预审</span><span style='color:red'>文件</span><span style='color:red'>、</span><span style='color:red'>招标</span><span style='color:red'>文件</span>后，无正当理由不得随意<span style='color:red'>终止</span><span style='color:red'>招标</span>。<span style='color:red'>招标</span>人因特殊原因需要<span style='color:red'>终止</span><span style='color:red'>招标</span><span style='color:red'>的</span>，应当及时发布公告，<span style='color:red'>或</span>者以书面形式通知被邀请<span style='color:red'>的</span><span style='color:red'>或</span>者已经获取<span style='color:red'>资格</span><span style='color:red'>预审</span><span style='color:red'>文件</span><span style='color:red'>、</span><span style='color:red'>招标</span><span style='color:red'>文件</span><span style='color:red'>的</span>潜在投标人。已经发售<span style='color:red'>资格</span><span style='color:red'>预审</span><span style='color:red'>文件</span><span style='color:red'>、</span><span style='color:red'>招标</span><span style='color:red'>文件</span><span style='color:red'>或</span>者已经收取投标保证金<span style='color:red'>的</span>，<span style='color:red'>招标</span>人应当及时退还所收取<span style='color:red'>的</span>购买<span style='color:red'>资格</span><span style='color:red'>预审</span><span style='color:red'>文件</span><span style='color:red'>、</span><span style='color:red'>招标</span><span style='color:red'>文件</span><span style='color:red'>的</span>费用，<span style='color:red'>以及</span>所收取<span style='color:red'>的</span>投标保证金及银行同期存款利息。利息<span style='color:red'>的</span>计算方法应当在<span style='color:red'>招标</span><span style='color:red'>文件</span>中载明。"
      ],
      "text/plain": [
       "<IPython.core.display.Markdown object>"
      ]
     },
     "metadata": {},
     "output_type": "display_data"
    }
   ],
   "source": [
    "import re\n",
    "from IPython.display import Markdown, display\n",
    "\n",
    "idx = 0\n",
    "print(f\"gold_id: {gold_id[idx]}\")\n",
    "print(f\"query: {query[idx]}\")\n",
    "# Dense 搜索结果\n",
    "display(Markdown(\"### 🔍 **Dense Search Results:**\"))\n",
    "formatted_results = doc_text_formatting(query[idx], dense_results[idx][:5])\n",
    "for i, result in enumerate(formatted_results):\n",
    "    display(Markdown(f\"para_id: {dense_results[idx][i].get('para_id')}\"))\n",
    "    display(Markdown(result))\n",
    "\n",
    "# Sparse 搜索结果\n",
    "display(Markdown(\"### 🌿 **Sparse Search Results:**\"))\n",
    "formatted_results = doc_text_formatting(query[idx], sparse_results[idx][:5])\n",
    "for i, result in enumerate(formatted_results):\n",
    "    display(Markdown(f\"para_id: {sparse_results[idx][i].get('para_id')}\"))\n",
    "    display(Markdown(result))\n",
    "\n",
    "# Hybrid 搜索结果\n",
    "display(Markdown(\"### 🔄 **Hybrid Search Results:**\"))\n",
    "formatted_results = doc_text_formatting(query[idx], hybrid_results[idx][:5])\n",
    "for i, result in enumerate(formatted_results):\n",
    "    display(Markdown(f\"para_id: {hybrid_results[idx][i].get('para_id')}\"))\n",
    "    display(Markdown(result))\n"
   ]
  },
  {
   "cell_type": "markdown",
   "id": "5ddd6da0-bf33-4edc-914c-dd1c2293ce60",
   "metadata": {},
   "source": [
    "## Calculate Recall"
   ]
  },
  {
   "cell_type": "code",
   "execution_count": 59,
   "id": "29e40cca-ca03-49f5-9e3a-da094069ce1c",
   "metadata": {},
   "outputs": [],
   "source": [
    "def compute_recall(gold_set, retrieved_set):\n",
    "    if not gold_set:\n",
    "        return 1.0  # 没有正确答案也不惩罚\n",
    "    return len(gold_set & retrieved_set) / len(gold_set)"
   ]
  },
  {
   "cell_type": "code",
   "execution_count": 228,
   "id": "19e75156-c7a2-49cd-b2cf-8ea913558254",
   "metadata": {},
   "outputs": [
    {
     "name": "stdout",
     "output_type": "stream",
     "text": [
      "Dense Search Recall for '谈判小组在评审响应文件时，应如何处理未实质性响应谈判文件的响应文件？谈判小组与哪些供应商进行谈判？': 100.00%\n",
      "Sparse Search Recall for '谈判小组在评审响应文件时，应如何处理未实质性响应谈判文件的响应文件？谈判小组与哪些供应商进行谈判？': 100.00%\n",
      "Hybrid Search Recall for '谈判小组在评审响应文件时，应如何处理未实质性响应谈判文件的响应文件？谈判小组与哪些供应商进行谈判？': 100.00%\n"
     ]
    }
   ],
   "source": [
    "idx = 2\n",
    "# Dense Recall\n",
    "retrieved_dense = set([r.get('para_id') for r in dense_results[idx]])\n",
    "dense_recall = compute_recall(set(gold_id[idx]), retrieved_dense)\n",
    "print(f\"Dense Search Recall for '{query[idx]}': {dense_recall:.2%}\")\n",
    "\n",
    "# Sparse Recall\n",
    "retrieved_sparse = set([r.get('para_id') for r in sparse_results[idx]])\n",
    "sparse_recall = compute_recall(set(gold_id[idx]), retrieved_sparse)\n",
    "print(f\"Sparse Search Recall for '{query[idx]}': {sparse_recall:.2%}\")\n",
    "\n",
    "# Hybrid Recall\n",
    "retrieved_hybrid = set([r.get('para_id') for r in hybrid_results[idx]])\n",
    "hybrid_recall = compute_recall(set(gold_id[idx]), retrieved_hybrid)\n",
    "print(f\"Hybrid Search Recall for '{query[idx]}': {hybrid_recall:.2%}\")"
   ]
  },
  {
   "cell_type": "code",
   "execution_count": 229,
   "id": "98928966-21bc-47a5-8481-be926cb14bf2",
   "metadata": {},
   "outputs": [
    {
     "name": "stdout",
     "output_type": "stream",
     "text": [
      " Dense Recall: 0.9878260869565217 \n",
      " Sparse Recall: 0.9826086956521739 \n",
      " Hybrid Recall: 0.9843478260869565\n"
     ]
    }
   ],
   "source": [
    "dense_sum, sparse_sum, hybrid_sum = 0, 0, 0\n",
    "for idx in range(num):\n",
    "    retrieved_dense = set([r.get('para_id') for r in dense_results[idx][:5]])\n",
    "    retrieved_sparse = set([r.get('para_id') for r in sparse_results[idx][:5]])\n",
    "    retrieved_hybrid = set([r.get('para_id') for r in hybrid_results[idx][:5]])\n",
    "    \n",
    "    dense_recall = compute_recall(set(gold_id[idx]), retrieved_dense)\n",
    "    sparse_recall = compute_recall(set(gold_id[idx]), retrieved_sparse)\n",
    "    hybrid_recall = compute_recall(set(gold_id[idx]), retrieved_hybrid)\n",
    "\n",
    "    dense_sum += dense_recall\n",
    "    sparse_sum += sparse_recall\n",
    "    hybrid_sum += hybrid_recall\n",
    "\n",
    "\n",
    "dense_avg = dense_sum / num\n",
    "sparse_avg = sparse_sum / num\n",
    "hybrid_avg = hybrid_sum / num\n",
    "print(f' Dense Recall: {dense_avg} \\n Sparse Recall: {sparse_avg} \\n Hybrid Recall: {hybrid_avg}')"
   ]
  },
  {
   "cell_type": "markdown",
   "id": "7c2d0c6a-0dc6-4771-8aad-51e7408be10f",
   "metadata": {},
   "source": [
    "## Rerank"
   ]
  },
  {
   "cell_type": "markdown",
   "id": "b13850c5-0872-4782-b2f0-d0dddd4744c5",
   "metadata": {},
   "source": [
    "Rerank model"
   ]
  },
  {
   "cell_type": "code",
   "execution_count": 158,
   "id": "8ee9b916-3056-46f7-a723-721dad86fdd8",
   "metadata": {},
   "outputs": [],
   "source": [
    "from pymilvus.model.reranker import BGERerankFunction\n",
    "\n",
    "bge_rf = BGERerankFunction(\n",
    "    model_name=\"BAAI/bge-reranker-v2-m3\",  # Specify the model name. Defaults to `BAAI/bge-reranker-v2-m3`.\n",
    "    device=\"cuda:0\" # Specify the device to use, e.g., 'cpu' or 'cuda:0'\n",
    ")\n"
   ]
  },
  {
   "cell_type": "code",
   "execution_count": 234,
   "id": "e9b38686-9cf3-487a-a646-64ff82cd76d8",
   "metadata": {},
   "outputs": [],
   "source": [
    "def rerank(query, results, top_k=5):\n",
    "    rerank_sum = 0\n",
    "    for idx in range(num):\n",
    "        q = query[idx]\n",
    "        documents = [p['text'] for p in results[idx]]\n",
    "        rerank_results = bge_rf(query=q, documents=documents, top_k=top_k)\n",
    "        rerank_id = []\n",
    "        for result in rerank_results:\n",
    "            rerank_id.append(results[idx][result.index]['para_id'])\n",
    "            # print(rerank_id)\n",
    "            # print(f\"Index: {result.index}\")\n",
    "            # print(f\"Score: {result.score:.6f}\")\n",
    "            # print(f\"Text: {result.text}\\n\")\n",
    "        rerank_recall = compute_recall(set(gold_id[idx]), set(rerank_id))\n",
    "        # print(rerank_recall)\n",
    "        rerank_sum += rerank_recall\n",
    "    \n",
    "    rerank_avg = rerank_sum / num\n",
    "    return rerank_avg"
   ]
  },
  {
   "cell_type": "code",
   "execution_count": 231,
   "id": "a118517b-09cd-4497-bb63-ce495290739d",
   "metadata": {
    "scrolled": true
   },
   "outputs": [
    {
     "name": "stdout",
     "output_type": "stream",
     "text": [
      "Reranked Hybrid Recall: 0.9895652173913043\n",
      "CPU times: total: 6min 45s\n",
      "Wall time: 12min 20s\n"
     ]
    }
   ],
   "source": [
    "%%time\n",
    "\n",
    "rerank_hybrid_sum = 0\n",
    "for idx in range(num):\n",
    "    q = query[idx]\n",
    "    documents = [p['text'] for p in hybrid_results[idx]]\n",
    "    rerank_results = bge_rf(query=q, documents=documents, top_k=5)\n",
    "    rerank_id = []\n",
    "    for result in rerank_results:\n",
    "        rerank_id.append(hybrid_results[idx][result.index]['para_id'])\n",
    "        # print(rerank_id)\n",
    "        # print(f\"Index: {result.index}\")\n",
    "        # print(f\"Score: {result.score:.6f}\")\n",
    "        # print(f\"Text: {result.text}\\n\")\n",
    "    rerank_recall = compute_recall(set(gold_id[idx]), set(rerank_id))\n",
    "    # print(rerank_recall)\n",
    "    rerank_hybrid_sum += rerank_recall\n",
    "\n",
    "rerank_hybrid_avg = rerank_hybrid_sum / num\n",
    "print(f'Reranked Hybrid Recall: {rerank_hybrid_avg}')"
   ]
  },
  {
   "cell_type": "code",
   "execution_count": 237,
   "id": "b76ee53f-ce06-4095-82c8-60d70815cba0",
   "metadata": {},
   "outputs": [
    {
     "name": "stdout",
     "output_type": "stream",
     "text": [
      "0.9878260869565217\n"
     ]
    }
   ],
   "source": [
    "rerank_sparse_avg = rerank(query, sparse_results)\n",
    "print(rerank_sparse_avg)"
   ]
  },
  {
   "cell_type": "code",
   "execution_count": 236,
   "id": "8f078f90-dc89-4e0a-94ff-46b04129e2f7",
   "metadata": {},
   "outputs": [
    {
     "name": "stdout",
     "output_type": "stream",
     "text": [
      "0.9895652173913043\n"
     ]
    }
   ],
   "source": [
    "rerank_dense_avg = rerank(query, dense_results)\n",
    "print(rerank_dense_avg)"
   ]
  },
  {
   "cell_type": "code",
   "execution_count": 239,
   "id": "e2cf1bd6-dab0-4635-824f-eafda78683b8",
   "metadata": {},
   "outputs": [],
   "source": [
    "rerank_hybrid_avg_1 = rerank(query, hybrid_results, top_k=1)"
   ]
  },
  {
   "cell_type": "code",
   "execution_count": 240,
   "id": "a67cf023-150e-49e9-88e9-6f3f8a405c22",
   "metadata": {},
   "outputs": [],
   "source": [
    "rerank_hybrid_avg_3 = rerank(query, hybrid_results, top_k=3)"
   ]
  },
  {
   "cell_type": "code",
   "execution_count": 242,
   "id": "36c3336f-d2a4-4cce-85d1-195c17111b12",
   "metadata": {},
   "outputs": [
    {
     "name": "stdout",
     "output_type": "stream",
     "text": [
      "0.9234782608695652\n",
      "0.9808695652173913\n"
     ]
    }
   ],
   "source": [
    "print(rerank_hybrid_avg_1)\n",
    "print(rerank_hybrid_avg_3)"
   ]
  },
  {
   "cell_type": "code",
   "execution_count": null,
   "id": "56059815-8dbd-433b-bc64-fd3191bf040d",
   "metadata": {},
   "outputs": [],
   "source": []
  }
 ],
 "metadata": {
  "kernelspec": {
   "display_name": "Python [conda env:Anaconda-eval] *",
   "language": "python",
   "name": "conda-env-Anaconda-eval-py"
  },
  "language_info": {
   "codemirror_mode": {
    "name": "ipython",
    "version": 3
   },
   "file_extension": ".py",
   "mimetype": "text/x-python",
   "name": "python",
   "nbconvert_exporter": "python",
   "pygments_lexer": "ipython3",
   "version": "3.11.11"
  }
 },
 "nbformat": 4,
 "nbformat_minor": 5
}
