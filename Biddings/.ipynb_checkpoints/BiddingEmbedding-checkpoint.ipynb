{
  "cells": [
    {
      "cell_type": "code",
      "source": [
        "# ✅ 安装依赖（本地环境可跳过）\n",
        "# !pip install pymysql pymilvus FlagEmbedding\n"
      ],
      "metadata": {},
      "outputs": []
    },
    {
      "cell_type": "code",
      "source": [
        "import pymysql\n",
        "from pymilvus import connections, Collection, CollectionSchema, FieldSchema, DataType\n",
        "from FlagEmbedding import BGEM3FlagModel\n",
        "import numpy as np\n",
        "\n",
        "# ✅ 连接 MySQL\n",
        "conn = pymysql.connect(\n",
        "    host=\"localhost\",\n",
        "    user=\"root\",\n",
        "    password=\"your_password\",\n",
        "    database=\"xunfei\",\n",
        "    charset=\"utf8mb4\",\n",
        "    cursorclass=pymysql.cursors.DictCursor\n",
        ")\n",
        "\n",
        "cursor = conn.cursor()\n"
      ],
      "metadata": {},
      "outputs": []
    },
    {
      "cell_type": "code",
      "source": [
        "# ✅ 表名与source_type映射\n",
        "table_mapping = {\n",
        "    \"上海政府采购公告\": \"政府采购\",\n",
        "    \"上海政府采购中标结果\": \"政府采购\",\n",
        "    \"采购合同\": \"政府采购\",\n",
        "    \"招标公告和资格预审公告\": \"工程建设\",\n",
        "    \"中标候选人公示\": \"工程建设\",\n",
        "    \"中标结果公示\": \"工程建设\"\n",
        "}\n"
      ],
      "metadata": {},
      "outputs": []
    },
    {
      "cell_type": "code",
      "source": [
        "def record_to_text(record: dict) -> str:\n",
        "    return \"。\".join([f\"{key}：{str(value)}\" for key, value in record.items() if value]) + \"。\"\n"
      ],
      "metadata": {},
      "outputs": []
    },
    {
      "cell_type": "code",
      "source": [
        "# ✅ 加载 BGE-M3 模型\n",
        "model = BGEM3FlagModel('BAAI/bge-m3', use_fp16=False)\n"
      ],
      "metadata": {},
      "outputs": []
    },
    {
      "cell_type": "code",
      "source": [
        "# ✅ 连接 Milvus 并创建 Collection（仅首次执行）\n",
        "connections.connect(\"default\", host=\"localhost\", port=\"19530\")\n",
        "\n",
        "fields = [\n",
        "    FieldSchema(name=\"project_id\", dtype=DataType.VARCHAR, max_length=100, is_primary=True),\n",
        "    FieldSchema(name=\"source_type\", dtype=DataType.VARCHAR, max_length=20),\n",
        "    FieldSchema(name=\"text\", dtype=DataType.VARCHAR, max_length=2048),\n",
        "    FieldSchema(name=\"dense_vec\", dtype=DataType.FLOAT_VECTOR, dim=1024)\n",
        "]\n",
        "\n",
        "schema = CollectionSchema(fields)\n",
        "collection_name = \"structured_policy_rag\"\n",
        "\n",
        "if collection_name not in [c.name for c in Collection.list()]:\n",
        "    collection = Collection(name=collection_name, schema=schema)\n",
        "else:\n",
        "    collection = Collection(collection_name)\n",
        "\n",
        "collection.load()\n"
      ],
      "metadata": {},
      "outputs": []
    },
    {
      "cell_type": "code",
      "source": [
        "# ✅ 处理所有表并写入 Milvus\n",
        "for table_name, source_type in table_mapping.items():\n",
        "    cursor.execute(f\"SELECT * FROM `{table_name}`\")\n",
        "    rows = cursor.fetchall()\n",
        "    print(f\"读取表 {table_name}：{len(rows)} 条\")\n",
        "\n",
        "    batch_data = {\n",
        "        \"project_id\": [],\n",
        "        \"source_type\": [],\n",
        "        \"text\": [],\n",
        "        \"dense_vec\": []\n",
        "    }\n",
        "\n",
        "    for row in rows:\n",
        "        if \"项目编号\" not in row or not row[\"项目编号\"]:\n",
        "            continue  # 项目编号为空时跳过\n",
        "\n",
        "        text = record_to_text(row)\n",
        "        vector = model.encode(text, return_dense=True)[\"dense_vecs\"][0]\n",
        "        vector = np.array(vector, dtype=np.float32).tolist()\n",
        "\n",
        "        batch_data[\"project_id\"].append(row[\"项目编号\"])\n",
        "        batch_data[\"source_type\"].append(source_type)\n",
        "        batch_data[\"text\"].append(text)\n",
        "        batch_data[\"dense_vec\"].append(vector)\n",
        "\n",
        "    # 写入 Milvus\n",
        "    if batch_data[\"project_id\"]:\n",
        "        collection.insert([\n",
        "            batch_data[\"project_id\"],\n",
        "            batch_data[\"source_type\"],\n",
        "            batch_data[\"text\"],\n",
        "            batch_data[\"dense_vec\"]\n",
        "        ])\n",
        "        print(f\"✅ 已写入 {len(batch_data['project_id'])} 条记录到 Milvus\")\n"
      ],
      "metadata": {},
      "outputs": []
    }
  ],
  "metadata": {},
  "nbformat": 4,
  "nbformat_minor": 5
}